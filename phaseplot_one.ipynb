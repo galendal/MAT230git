{
 "cells": [
  {
   "cell_type": "code",
   "execution_count": 3,
   "metadata": {},
   "outputs": [],
   "source": [
    "import scipy\n",
    "import phase_portr as pp\n",
    "import math\n",
    "\n",
    "import ipywidgets as wd\n",
    "import numpy as np\n",
    "import matplotlib.pyplot as plt\n",
    "import sympy as symp\n",
    "%matplotlib inline\n",
    "\n",
    "import ipywidgets as wd\n",
    "import numpy as np\n",
    "import matplotlib.pyplot as plt\n",
    "%matplotlib inline"
   ]
  },
  {
   "cell_type": "code",
   "execution_count": 4,
   "metadata": {},
   "outputs": [],
   "source": [
    "#Define \n",
    "x,y, t=symp.symbols('x y t')\n",
    "\n",
    "\n",
    "f=y*(1-x**2)\n",
    "g=-x*(1-y**2)\n",
    "J = symp.Function('J')(x,y)"
   ]
  },
  {
   "cell_type": "markdown",
   "metadata": {},
   "source": [
    "## Change here for new problem"
   ]
  },
  {
   "cell_type": "code",
   "execution_count": 27,
   "metadata": {},
   "outputs": [],
   "source": [
    "f=x**2-y**2\n",
    "g=x*y-1\n"
   ]
  },
  {
   "cell_type": "code",
   "execution_count": 28,
   "metadata": {},
   "outputs": [],
   "source": [
    "\n",
    "def rhs(xy,t):\n",
    "    xv,yv=xy\n",
    "    rhs_symp=symp.lambdify((x,y),[f,g])\n",
    "    return np.array(rhs_symp(xv,yv))\n"
   ]
  },
  {
   "cell_type": "code",
   "execution_count": 29,
   "metadata": {},
   "outputs": [
    {
     "name": "stdout",
     "output_type": "stream",
     "text": [
      "f= x**2 - y**2\n",
      "g= x*y - 1\n",
      "f = 0 when [{x: -y}, {x: y}]\n",
      "g = 0 when y= [1/x]\n",
      "Equilibrium points.  [(-1, -1), (1, 1), (-I, I), (I, -I)]\n",
      "Jacobian J= Matrix([[2*x, -2*y], [y, x]])\n",
      "Eigenvalues: {3*x/2 - sqrt(x**2 - 8*y**2)/2: 1, 3*x/2 + sqrt(x**2 - 8*y**2)/2: 1}\n",
      "\n",
      "Eigenvectors: \n",
      "⎡⎛         ___________     ⎡⎡       4⋅y        ⎤⎤⎞  ⎛         ___________     \n",
      "⎢⎜        ╱  2      2      ⎢⎢──────────────────⎥⎥⎟  ⎜        ╱  2      2      \n",
      "⎢⎜3⋅x   ╲╱  x  - 8⋅y       ⎢⎢       ___________⎥⎥⎟  ⎜3⋅x   ╲╱  x  - 8⋅y       \n",
      "⎢⎜─── - ──────────────, 1, ⎢⎢      ╱  2      2 ⎥⎥⎟, ⎜─── + ──────────────, 1, \n",
      "⎢⎜ 2          2            ⎢⎢x + ╲╱  x  - 8⋅y  ⎥⎥⎟  ⎜ 2          2            \n",
      "⎢⎜                         ⎢⎢                  ⎥⎥⎟  ⎜                         \n",
      "⎣⎝                         ⎣⎣        1         ⎦⎦⎠  ⎝                         \n",
      "\n",
      "⎡⎡       4⋅y        ⎤⎤⎞⎤\n",
      "⎢⎢──────────────────⎥⎥⎟⎥\n",
      "⎢⎢       ___________⎥⎥⎟⎥\n",
      "⎢⎢      ╱  2      2 ⎥⎥⎟⎥\n",
      "⎢⎢x - ╲╱  x  - 8⋅y  ⎥⎥⎟⎥\n",
      "⎢⎢                  ⎥⎥⎟⎥\n",
      "⎣⎣        1         ⎦⎦⎠⎦\n"
     ]
    }
   ],
   "source": [
    "\n",
    "print('f=',f)\n",
    "print('g=',g)\n",
    "\n",
    "### Isoclines\n",
    "\n",
    "xiso=symp.solve(f)\n",
    "yiso=symp.solve(g,y)\n",
    "\n",
    "print('f = 0 when', xiso)\n",
    "print('g = 0 when y=', yiso)\n",
    "\n",
    "### Equilibrium points\n",
    "eqpnts=symp.solve([f,g],(x,y))\n",
    "print('Equilibrium points. ', eqpnts)\n",
    "\n",
    "### Jacobian\n",
    "J=symp.Matrix([f,g]).jacobian([x,y])\n",
    "print('Jacobian J=',J)\n",
    "\n",
    "print('Eigenvalues:', J.subs(eqpnts).eigenvals())\n",
    "\n",
    "print()\n",
    "\n",
    "print('Eigenvectors: ')\n",
    "symp.pprint(J.subs(eqpnts).eigenvects())\n",
    "\n"
   ]
  },
  {
   "cell_type": "code",
   "execution_count": 48,
   "metadata": {},
   "outputs": [
    {
     "name": "stdout",
     "output_type": "stream",
     "text": [
      "(-1, -1)\n",
      "(1, 1)\n",
      "(-I, I)\n",
      "(I, -I)\n"
     ]
    }
   ],
   "source": [
    "for ii in np.arange(len(eqpnts)):\n",
    "    print(eqpnts[ii])\n"
   ]
  },
  {
   "cell_type": "markdown",
   "metadata": {},
   "source": [
    "## Prepare the plot"
   ]
  },
  {
   "cell_type": "code",
   "execution_count": 52,
   "metadata": {},
   "outputs": [],
   "source": [
    "\n",
    "# Set up the figure\n",
    "fig, ax = plt.subplots(1, 1)\n",
    "ax.set_xlabel('x')\n",
    "ax.set_ylabel('y')\n",
    "ax.set_aspect('equal')\n",
    "\n",
    "# Build the plot\n",
    "a_range = [-2, 2]\n",
    "b_range = [-2, 2]\n",
    "ax = pp.plot_flow_field(ax, rhs, a_range, b_range)\n",
    "for ii in np.arange(len(eqpnts)):   \n",
    "    try:\n",
    "        ax = pp.plot_fixed_points(ax, eqpnts[ii] ,color='red')\n",
    "    except:\n",
    "        print('except, possibly complext root') \n",
    "            \n",
    "ax = pp.plot_nullcl(ax, rhs, [-2, 2], [-2, 2], args=(), n_grid=100)\n",
    "ax = pp.plot_traj(ax, rhs, np.array([-1, -1]), np.linspace(0, 10, 50), color=np.array([0.5, 0.5, 0.5]), lw=2)\n",
    "ax = pp.plot_traj(ax, rhs, np.array([0, 2]), np.linspace(0, 10, 50), color=np.array([0.5, 0.5, 0.5]), lw=2)\n",
    "\n",
    "ax = pp.plot_traj(ax, rhs, np.array([-2, 2]), np.linspace(0, 10, 50), color='black', lw=2)\n",
    "ax = pp.plot_traj(ax, rhs, np.array([2, -2]), np.linspace(0, 10, 50), color='black', lw=2)\n",
    "\n",
    "ax = pp.plot_traj(ax, rhs, np.array([-1, 2]), np.linspace(0, 10, 50), color='green', lw=2)\n",
    "ax = pp.plot_traj(ax, rhs, np.array([1, -2]), np.linspace(0, 10, 50), color='green', lw=2)\n",
    "plt.xlim(a_range)\n",
    "plt.ylim(b_range)"
   ]
  },
  {
   "cell_type": "code",
   "execution_count": null,
   "metadata": {},
   "outputs": [],
   "source": []
  },
  {
   "cell_type": "code",
   "execution_count": null,
   "metadata": {},
   "outputs": [],
   "source": []
  }
 ],
 "metadata": {
  "kernelspec": {
   "display_name": "Python 3",
   "language": "python",
   "name": "python3"
  },
  "language_info": {
   "codemirror_mode": {
    "name": "ipython",
    "version": 3
   },
   "file_extension": ".py",
   "mimetype": "text/x-python",
   "name": "python",
   "nbconvert_exporter": "python",
   "pygments_lexer": "ipython3",
   "version": "3.8.5"
  }
 },
 "nbformat": 4,
 "nbformat_minor": 2
}
