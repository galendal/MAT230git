{
 "cells": [
  {
   "cell_type": "code",
   "execution_count": 1,
   "metadata": {},
   "outputs": [],
   "source": [
    "import scipy\n",
    "import phase_portr as pp\n",
    "import math\n",
    "\n",
    "import ipywidgets as wd\n",
    "import numpy as np\n",
    "from numpy import linalg as LA\n",
    "import matplotlib.pyplot as plt\n",
    "import sympy as symp\n",
    "%matplotlib inline\n"
   ]
  },
  {
   "cell_type": "code",
   "execution_count": 2,
   "metadata": {},
   "outputs": [],
   "source": [
    "#Define \n",
    "x,y, t=symp.symbols('x y t', real=True)\n",
    "\n",
    "\n",
    "\n",
    "J = symp.Function('J')(x,y)"
   ]
  },
  {
   "cell_type": "markdown",
   "metadata": {},
   "source": [
    "## Change here for new problem"
   ]
  },
  {
   "cell_type": "code",
   "execution_count": 3,
   "metadata": {},
   "outputs": [],
   "source": [
    "f=y\n",
    "g=-x+symp.exp(t)*y\n"
   ]
  },
  {
   "cell_type": "code",
   "execution_count": 4,
   "metadata": {},
   "outputs": [],
   "source": [
    "\n",
    "def rhs(xy,t):\n",
    "    xv,yv=xy\n",
    "    rhs_symp=symp.lambdify((x,y,t),[f,g])\n",
    "    return np.array(rhs_symp(xv,yv))\n"
   ]
  },
  {
   "cell_type": "code",
   "execution_count": 5,
   "metadata": {},
   "outputs": [
    {
     "name": "stdout",
     "output_type": "stream",
     "text": [
      "f= y\n",
      "g= -x + y*exp(t)\n",
      "f = 0 when [0]\n",
      "g = 0 when y= [x*exp(-t)]\n",
      "Equilibrium points.  [{x: 0, y: 0}]\n",
      "Jacobian J= Matrix([[0, 1], [-1, exp(t)]])\n"
     ]
    }
   ],
   "source": [
    "\n",
    "print('f=',f)\n",
    "print('g=',g)\n",
    "\n",
    "### Isoclines\n",
    "\n",
    "xiso=symp.solve(f)\n",
    "yiso=symp.solve(g,y)\n",
    "\n",
    "print('f = 0 when', xiso)\n",
    "print('g = 0 when y=', yiso)\n",
    "\n",
    "### Equilibrium points\n",
    "eqpnts=symp.solve([f,g],(x,y),dict=True)\n",
    "print('Equilibrium points. ', eqpnts)\n",
    "\n",
    "### Jacobian\n",
    "J=symp.Matrix([f,g]).jacobian([x,y])\n",
    "print('Jacobian J=',J)\n",
    "\n",
    "J_num=symp.lambdify((x,y),J,modules='numpy') # the numerical Jacobian\n"
   ]
  },
  {
   "cell_type": "code",
   "execution_count": 6,
   "metadata": {},
   "outputs": [
    {
     "name": "stdout",
     "output_type": "stream",
     "text": [
      "Eq. pnt  0  at  {x: 0, y: 0}\n",
      "Eigenvalues  {-sqrt(exp(t) - 2)*sqrt(exp(t) + 2)/2 + exp(t)/2: 1, sqrt(exp(t) - 2)*sqrt(exp(t) + 2)/2 + exp(t)/2: 1}\n",
      "2\n",
      "-sqrt(exp(t) - 2)*sqrt(exp(t) + 2)/2 + exp(t)/2\n",
      "sqrt(exp(t) - 2)*sqrt(exp(t) + 2)/2 + exp(t)/2\n",
      "\n"
     ]
    }
   ],
   "source": [
    "for ii in np.arange(len(eqpnts)):\n",
    "    print('Eq. pnt ', ii ,' at ',eqpnts[ii])\n",
    "    eigen=J.subs(eqpnts[0]).eigenvals()\n",
    "    print('Eigenvalues ', eigen)\n",
    "    eigen=list(eigen.items())\n",
    "    print(len(eigen))\n",
    "    for jj in np.arange(len(eigen)):\n",
    "        print(eigen[jj][0])\n",
    "    print()"
   ]
  },
  {
   "cell_type": "code",
   "execution_count": 7,
   "metadata": {},
   "outputs": [
    {
     "data": {
      "text/plain": [
       "dict_keys"
      ]
     },
     "execution_count": 7,
     "metadata": {},
     "output_type": "execute_result"
    }
   ],
   "source": [
    "TMP=J.subs(eqpnts[0]).eigenvals()\n",
    "type(TMP.keys())"
   ]
  },
  {
   "cell_type": "code",
   "execution_count": 8,
   "metadata": {},
   "outputs": [
    {
     "name": "stdout",
     "output_type": "stream",
     "text": [
      "{x: 0, y: 0} eigenvals: dict_keys([-sqrt(exp(t) - 2)*sqrt(exp(t) + 2)/2 + exp(t)/2, sqrt(exp(t) - 2)*sqrt(exp(t) + 2)/2 + exp(t)/2])\n"
     ]
    }
   ],
   "source": [
    "\n",
    "\n",
    "\n",
    "#for ii in np.arange(len(eqpnts)):\n",
    "\n",
    "for ii in np.arange(len(eqpnts)):\n",
    "#    print(eqpnts[ii], 'eigenvals:', J.subs({x:eqpnts[ii][0],y:eqpnts[ii][1]}).eigenvals())\n",
    "    print(eqpnts[ii], 'eigenvals:', J.subs(eqpnts[ii]).eigenvals().keys())\n"
   ]
  },
  {
   "cell_type": "code",
   "execution_count": 9,
   "metadata": {},
   "outputs": [
    {
     "ename": "TypeError",
     "evalue": "loop of ufunc does not support argument 0 of type Symbol which has no callable exp method",
     "output_type": "error",
     "traceback": [
      "\u001b[0;31m---------------------------------------------------------------------------\u001b[0m",
      "\u001b[0;31mAttributeError\u001b[0m                            Traceback (most recent call last)",
      "\u001b[0;31mAttributeError\u001b[0m: 'Symbol' object has no attribute 'exp'",
      "\nThe above exception was the direct cause of the following exception:\n",
      "\u001b[0;31mTypeError\u001b[0m                                 Traceback (most recent call last)",
      "\u001b[0;32m/var/folders/0q/9km71d951t92fm7tt48bvzlw0000gr/T/ipykernel_96134/1004717749.py\u001b[0m in \u001b[0;36m<module>\u001b[0;34m\u001b[0m\n\u001b[1;32m      1\u001b[0m \u001b[0mJ_num\u001b[0m\u001b[0;34m=\u001b[0m\u001b[0msymp\u001b[0m\u001b[0;34m.\u001b[0m\u001b[0mlambdify\u001b[0m\u001b[0;34m(\u001b[0m\u001b[0;34m(\u001b[0m\u001b[0mx\u001b[0m\u001b[0;34m,\u001b[0m\u001b[0my\u001b[0m\u001b[0;34m)\u001b[0m\u001b[0;34m,\u001b[0m\u001b[0mJ\u001b[0m\u001b[0;34m,\u001b[0m\u001b[0mmodules\u001b[0m\u001b[0;34m=\u001b[0m\u001b[0;34m'numpy'\u001b[0m\u001b[0;34m)\u001b[0m\u001b[0;34m\u001b[0m\u001b[0;34m\u001b[0m\u001b[0m\n\u001b[0;32m----> 2\u001b[0;31m \u001b[0mtmp\u001b[0m\u001b[0;34m=\u001b[0m\u001b[0mLA\u001b[0m\u001b[0;34m.\u001b[0m\u001b[0meig\u001b[0m\u001b[0;34m(\u001b[0m\u001b[0mJ_num\u001b[0m\u001b[0;34m(\u001b[0m\u001b[0;36m0\u001b[0m\u001b[0;34m,\u001b[0m\u001b[0;36m0\u001b[0m\u001b[0;34m)\u001b[0m\u001b[0;34m)\u001b[0m\u001b[0;34m\u001b[0m\u001b[0;34m\u001b[0m\u001b[0m\n\u001b[0m",
      "\u001b[0;32m<lambdifygenerated-2>\u001b[0m in \u001b[0;36m_lambdifygenerated\u001b[0;34m(x, y)\u001b[0m\n\u001b[1;32m      1\u001b[0m \u001b[0;32mdef\u001b[0m \u001b[0m_lambdifygenerated\u001b[0m\u001b[0;34m(\u001b[0m\u001b[0mx\u001b[0m\u001b[0;34m,\u001b[0m \u001b[0my\u001b[0m\u001b[0;34m)\u001b[0m\u001b[0;34m:\u001b[0m\u001b[0;34m\u001b[0m\u001b[0;34m\u001b[0m\u001b[0m\n\u001b[0;32m----> 2\u001b[0;31m     \u001b[0;32mreturn\u001b[0m \u001b[0marray\u001b[0m\u001b[0;34m(\u001b[0m\u001b[0;34m[\u001b[0m\u001b[0;34m[\u001b[0m\u001b[0;36m0\u001b[0m\u001b[0;34m,\u001b[0m \u001b[0;36m1\u001b[0m\u001b[0;34m]\u001b[0m\u001b[0;34m,\u001b[0m \u001b[0;34m[\u001b[0m\u001b[0;34m-\u001b[0m\u001b[0;36m1\u001b[0m\u001b[0;34m,\u001b[0m \u001b[0mexp\u001b[0m\u001b[0;34m(\u001b[0m\u001b[0mt\u001b[0m\u001b[0;34m)\u001b[0m\u001b[0;34m]\u001b[0m\u001b[0;34m]\u001b[0m\u001b[0;34m)\u001b[0m\u001b[0;34m\u001b[0m\u001b[0;34m\u001b[0m\u001b[0m\n\u001b[0m",
      "\u001b[0;31mTypeError\u001b[0m: loop of ufunc does not support argument 0 of type Symbol which has no callable exp method"
     ]
    }
   ],
   "source": [
    "J_num=symp.lambdify((x,y),J,modules='numpy')\n",
    "tmp=LA.eig(J_num(0,0))"
   ]
  },
  {
   "cell_type": "code",
   "execution_count": 15,
   "metadata": {},
   "outputs": [
    {
     "ename": "NameError",
     "evalue": "name 'tmp' is not defined",
     "output_type": "error",
     "traceback": [
      "\u001b[0;31m---------------------------------------------------------------------------\u001b[0m",
      "\u001b[0;31mNameError\u001b[0m                                 Traceback (most recent call last)",
      "\u001b[0;32m/var/folders/0q/9km71d951t92fm7tt48bvzlw0000gr/T/ipykernel_29846/579148841.py\u001b[0m in \u001b[0;36m<module>\u001b[0;34m\u001b[0m\n\u001b[1;32m      1\u001b[0m \u001b[0;31m## Prepare the plot\u001b[0m\u001b[0;34m\u001b[0m\u001b[0;34m\u001b[0m\u001b[0;34m\u001b[0m\u001b[0m\n\u001b[0;32m----> 2\u001b[0;31m \u001b[0mu\u001b[0m\u001b[0;34m,\u001b[0m\u001b[0mv\u001b[0m \u001b[0;34m=\u001b[0m \u001b[0mtmp\u001b[0m\u001b[0;34m\u001b[0m\u001b[0;34m\u001b[0m\u001b[0m\n\u001b[0m\u001b[1;32m      3\u001b[0m \u001b[0mv\u001b[0m\u001b[0;34m[\u001b[0m\u001b[0;34m:\u001b[0m\u001b[0;34m,\u001b[0m\u001b[0;36m1\u001b[0m\u001b[0;34m]\u001b[0m\u001b[0;34m\u001b[0m\u001b[0;34m\u001b[0m\u001b[0m\n",
      "\u001b[0;31mNameError\u001b[0m: name 'tmp' is not defined"
     ]
    }
   ],
   "source": [
    "## Prepare the plot\n",
    "u,v = tmp\n",
    "v[:,1]"
   ]
  },
  {
   "cell_type": "code",
   "execution_count": 21,
   "metadata": {},
   "outputs": [
    {
     "ename": "SyntaxError",
     "evalue": "invalid syntax (<lambdifygenerated-5>, line 1)",
     "output_type": "error",
     "traceback": [
      "Traceback \u001b[0;36m(most recent call last)\u001b[0m:\n",
      "  File \u001b[1;32m\"/Users/guttorm/Dropbox/Kurs/MAT230/Github/MAT230git/venv/lib/python3.8/site-packages/IPython/core/interactiveshell.py\"\u001b[0m, line \u001b[1;32m3457\u001b[0m, in \u001b[1;35mrun_code\u001b[0m\n    exec(code_obj, self.user_global_ns, self.user_ns)\n",
      "  File \u001b[1;32m\"/var/folders/0q/9km71d951t92fm7tt48bvzlw0000gr/T/ipykernel_29846/3122271185.py\"\u001b[0m, line \u001b[1;32m10\u001b[0m, in \u001b[1;35m<module>\u001b[0m\n    ax = pp.plot_flow_field(ax, rhs, a_range, b_range,n_grid=100)\n",
      "  File \u001b[1;32m\"/Users/guttorm/Dropbox/Kurs/MAT230/Github/MAT230git/phase_portr.py\"\u001b[0m, line \u001b[1;32m50\u001b[0m, in \u001b[1;35mplot_flow_field\u001b[0m\n    u_vel[i,j], v_vel[i,j] = f(np.array([uu[i,j], vv[i,j]]), None, *args)\n",
      "  File \u001b[1;32m\"/var/folders/0q/9km71d951t92fm7tt48bvzlw0000gr/T/ipykernel_29846/4123205651.py\"\u001b[0m, line \u001b[1;32m3\u001b[0m, in \u001b[1;35mrhs\u001b[0m\n    rhs_symp=symp.lambdify((x,y,t),[f,g])\n",
      "\u001b[0;36m  File \u001b[0;32m\"/Users/guttorm/Dropbox/Kurs/MAT230/Github/MAT230git/venv/lib/python3.8/site-packages/sympy/utilities/lambdify.py\"\u001b[0;36m, line \u001b[0;32m892\u001b[0;36m, in \u001b[0;35mlambdify\u001b[0;36m\u001b[0m\n\u001b[0;31m    c = compile(funcstr, filename, 'exec')\u001b[0m\n",
      "\u001b[0;36m  File \u001b[0;32m\"<lambdifygenerated-5>\"\u001b[0;36m, line \u001b[0;32m1\u001b[0m\n\u001b[0;31m    def _lambdifygenerated(x, y, None):\u001b[0m\n\u001b[0m                                 ^\u001b[0m\n\u001b[0;31mSyntaxError\u001b[0m\u001b[0;31m:\u001b[0m invalid syntax\n"
     ]
    },
    {
     "data": {
      "image/png": "[encoded data removed]",
      "text/plain": [
       "<Figure size 432x288 with 1 Axes>"
      ]
     },
     "metadata": {
      "needs_background": "light"
     },
     "output_type": "display_data"
    }
   ],
   "source": [
    "\n",
    "# Set up the figure\n",
    "fig, ax = plt.subplots(1, 1)\n",
    "ax.set_xlabel('x')\n",
    "ax.set_ylabel('y')\n",
    "ax.set_aspect('equal')\n",
    "\n",
    "# Build the plot\n",
    "a_range = [-4, 4]\n",
    "b_range = [-4, 4]\n",
    "ax = pp.plot_flow_field(ax, rhs, a_range, b_range,n_grid=100)\n",
    "ax = pp.plot_nullcl(ax, rhs, [-2, 2], [-2, 2], args=(), n_grid=100)\n",
    "for ii in np.arange(len(eqpnts)):   \n",
    "    try:\n",
    "        ax = pp.plot_fixed_points(ax, [eqpnts[ii][x],eqpnts[ii][y]] ,color='red')\n",
    "    except:\n",
    "        print('except, possibly complext root') \n",
    "    \n",
    "\n",
    "            \n",
    "\n",
    "ax = pp.plot_traj(ax, rhs, np.array([-1, -1]), np.linspace(0, -10, 50), color=np.array([0.5, 0.5, 0.5]), lw=2)\n",
    "ax = pp.plot_traj(ax, rhs, np.array([-1, -1]), np.linspace(0, 10, 50), color='red', lw=2)\n",
    "\n",
    "ax = pp.plot_traj(ax, rhs, np.array([-2, 2]), np.linspace(0, 10, 50), color='black', lw=2)\n",
    "\n",
    "\n",
    "ax = pp.plot_traj(ax, rhs, np.array([-1, 2]), np.linspace(0, 10, 50), color='green', lw=2)\n",
    "\n",
    "plt.xlim(a_range)\n",
    "plt.ylim(b_range)"
   ]
  },
  {
   "cell_type": "code",
   "execution_count": null,
   "metadata": {},
   "outputs": [],
   "source": []
  }
 ],
 "metadata": {
  "kernelspec": {
   "display_name": "venv",
   "language": "python",
   "name": "python3"
  },
  "language_info": {
   "codemirror_mode": {
    "name": "ipython",
    "version": 3
   },
   "file_extension": ".py",
   "mimetype": "text/x-python",
   "name": "python",
   "nbconvert_exporter": "python",
   "pygments_lexer": "ipython3",
   "version": "3.8.5"
  },
  "vscode": {
   "interpreter": {
    "hash": "cc5aea2381060e6c07a5bcea4572f763dfe34e6a40ece333d15e520321d95b42"
   }
  }
 },
 "nbformat": 4,
 "nbformat_minor": 2
}
