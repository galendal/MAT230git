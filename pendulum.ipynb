{
 "cells": [
  {
   "cell_type": "code",
   "execution_count": 107,
   "metadata": {},
   "outputs": [],
   "source": [
    "import numpy as np\n",
    "import pandas as pd\n",
    "import scipy\n",
    "from scipy.integrate import solve_ivp\n",
    "import matplotlib.pyplot as plt\n",
    "#from matplotlib.animation import FuncAnimation\n",
    "import matplotlib.animation as animation\n",
    "import plotly.express as px\n",
    "import time \n",
    "\n"
   ]
  },
  {
   "cell_type": "markdown",
   "metadata": {},
   "source": [
    "## The pendulum\n",
    "\n",
    "\n",
    "<img src=\"Figs/pendulum.svg\" alt=\"drawing\" width=\"200\"/>\n",
    "\n",
    "Equation of motion for the pendulum reads: \n",
    "\n",
    "$$\n",
    "\\ddot{\\theta}+\\omega^2\\sin{\\theta}=0\n",
    "$$\n",
    "where $\\omega =\\sqrt{\\frac{g}{L}}.\n",
    "### The linear pendulum\n",
    "In introductory course in physics we often use the linearized version. Assuming that $\\theta \\ll 1$ gives\n",
    "\n",
    "$$\n",
    "sin(\\theta) \\sim x-\\frac{1}{3} x^3 + O(x^5)\n",
    "$$\n",
    "\n",
    "and we end up with the linear pendulum\n",
    "\n",
    "$$\n",
    "\\ddot{\\theta}+\\omega^2\\theta=0\n",
    "$$\n",
    "\n",
    "with solution\n",
    "$$\n",
    "\\theta= \\Theta \\sin(\\omega t+\\varphi)\n",
    "$$\n",
    "\n",
    "where the constants $\\Theta$ and $\\varphi$ are determined by the initial conditions. Assuming that $\\theta(0)=\\theta_0$ and $\\dot{\\theta}(0)=\\dot{\\theta}_0$ we have \n",
    "$$\n",
    "\\begin{array}{c}\n",
    " \\Theta \\sin(\\varphi) = \\theta_0 \\\\ \\\\\n",
    " \\omega \\Theta  \\cos(\\varphi)=\\dot{\\theta_0}\n",
    "\\end{array}\n",
    "$$\n",
    "\n",
    "\n"
   ]
  },
  {
   "cell_type": "markdown",
   "metadata": {},
   "source": [
    "## Define the equations\n"
   ]
  },
  {
   "cell_type": "markdown",
   "metadata": {},
   "source": [
    "To be able to solve the second order ordinary differential equations (ODE), the easiest will be to make them a system of first order equation. A general second order ODE \n",
    "$$\n",
    " \\ddot{x} = F(x,\\dot{x})\n",
    "$$\n",
    "can be made into a system: \n",
    "$$\n",
    "\\begin{array}{l}\n",
    " \\dot{x}=y \\\\\n",
    " \\dot{y}=F(x,y)\n",
    " \\end{array}\n",
    "$$\n",
    "\n",
    "Defining the right hand sides of the equations for the pendulum"
   ]
  },
  {
   "cell_type": "code",
   "execution_count": 115,
   "metadata": {},
   "outputs": [],
   "source": [
    "def lin_pendulum(t, x, L, g):\n",
    "    dx0=x[1]\n",
    "    dx1= - g/L*x[0]\n",
    "    return [dx0, dx1]\n",
    "\n",
    "def nonlin_pendulum(t, x, L, g):\n",
    "    dx0=x[1]\n",
    "    dx1= - g/L*np.sin(x[0])\n",
    "    return [dx0, dx1]\n",
    "\n",
    "def lin_solution(t,x0= [-np.pi*0.25, 0],L=2,g=9.81):\n",
    "    omega=np.sqrt(g/L)\n",
    "    A=x0[0]\n",
    "    B=x0[1]/omega\n",
    "    theta= A*np.cos(omega*t)+B*np.sin(omega*t)\n",
    "    theta_dot= - A*omega*np.sin(omega*t)+B*omega*np.cos(omega*t)\n",
    "    x=L*np.sin(theta)\n",
    "    y=-L*np.cos(theta)\n",
    "    \n",
    "    data={'t':t}\n",
    "          \n",
    "    #, 'theta': theta.T,'theta_dot':theta_dot.T , 'x': x.T, 'y':y.T}\n",
    "    out=pd.DataFrame(data=data,index=list(range(len(data))))\n",
    "    out['theta']=theta\n",
    "    out['theta_dot']=theta_dot\n",
    "    out['x']=x\n",
    "    out['y']=y\n",
    "    out['label']='Analytic linear'\n",
    "    return out\n",
    "\n",
    "def a_solution(func=lin_pendulum,x0 = [-np.pi*0.25, 0],t_max=10,dt=0.1, L=2,):\n",
    "    g   =9.81\n",
    "    tspan = (0, t_max)\n",
    "    t=np.arange(tspan[0], tspan[1], dt)\n",
    "    sol=solve_ivp(lambda t, x: func(t, x, L, g), tspan, x0, t_eval=t)\n",
    "\n",
    "    columns=['t','theta','theta_dt']\n",
    "    y1, y2 = sol.y\n",
    "\n",
    "\n",
    "    df = pd.DataFrame({'t':sol.t})\n",
    "    #df[\"t\"] = sol.t\n",
    "    df['theta']=y1\n",
    "    df['theta_dot']=y2\n",
    "    df['x']=L*np.sin(df.theta)\n",
    "    df['y']=-L*np.cos(df.theta)\n",
    "    df['label']=func.__name__\n",
    "    return df"
   ]
  },
  {
   "cell_type": "code",
   "execution_count": 116,
   "metadata": {},
   "outputs": [
    {
     "name": "stdout",
     "output_type": "stream",
     "text": [
      "Elapsed time (linear): 0.005484374996740371\n",
      "Elapsed time (non-linear): 0.003593833011109382\n"
     ]
    },
    {
     "ename": "ValueError",
     "evalue": "Length of values (2783) does not match length of index (1)",
     "output_type": "error",
     "traceback": [
      "\u001b[0;31m---------------------------------------------------------------------------\u001b[0m",
      "\u001b[0;31mValueError\u001b[0m                                Traceback (most recent call last)",
      "Cell \u001b[0;32mIn[116], line 13\u001b[0m\n\u001b[1;32m     10\u001b[0m \u001b[38;5;28mprint\u001b[39m(\u001b[38;5;124m'\u001b[39m\u001b[38;5;124mElapsed time (non-linear):\u001b[39m\u001b[38;5;124m'\u001b[39m,dt)\n\u001b[1;32m     12\u001b[0m t0\u001b[38;5;241m=\u001b[39mtime\u001b[38;5;241m.\u001b[39mperf_counter()\n\u001b[0;32m---> 13\u001b[0m adf\u001b[38;5;241m=\u001b[39m\u001b[43mlin_solution\u001b[49m\u001b[43m(\u001b[49m\u001b[43mt\u001b[49m\u001b[38;5;241;43m=\u001b[39;49m\u001b[43mnp\u001b[49m\u001b[38;5;241;43m.\u001b[39;49m\u001b[43marange\u001b[49m\u001b[43m(\u001b[49m\u001b[43mtspan\u001b[49m\u001b[43m[\u001b[49m\u001b[38;5;241;43m0\u001b[39;49m\u001b[43m]\u001b[49m\u001b[43m,\u001b[49m\u001b[43m \u001b[49m\u001b[43mtspan\u001b[49m\u001b[43m[\u001b[49m\u001b[38;5;241;43m1\u001b[39;49m\u001b[43m]\u001b[49m\u001b[43m,\u001b[49m\u001b[43m \u001b[49m\u001b[43mdt\u001b[49m\u001b[43m)\u001b[49m\u001b[43m)\u001b[49m\n\u001b[1;32m     14\u001b[0m dt\u001b[38;5;241m=\u001b[39mtime\u001b[38;5;241m.\u001b[39mperf_counter()\u001b[38;5;241m-\u001b[39mt0\n\u001b[1;32m     15\u001b[0m \u001b[38;5;28mprint\u001b[39m(\u001b[38;5;124m'\u001b[39m\u001b[38;5;124mElapsed time (analytic):\u001b[39m\u001b[38;5;124m'\u001b[39m,dt)\n",
      "Cell \u001b[0;32mIn[115], line 23\u001b[0m, in \u001b[0;36mlin_solution\u001b[0;34m(t, x0, L, g)\u001b[0m\n\u001b[1;32m     20\u001b[0m data\u001b[38;5;241m=\u001b[39m{\u001b[38;5;124m'\u001b[39m\u001b[38;5;124mt\u001b[39m\u001b[38;5;124m'\u001b[39m:t}\n\u001b[1;32m     22\u001b[0m \u001b[38;5;66;03m#, 'theta': theta.T,'theta_dot':theta_dot.T , 'x': x.T, 'y':y.T}\u001b[39;00m\n\u001b[0;32m---> 23\u001b[0m out\u001b[38;5;241m=\u001b[39m\u001b[43mpd\u001b[49m\u001b[38;5;241;43m.\u001b[39;49m\u001b[43mDataFrame\u001b[49m\u001b[43m(\u001b[49m\u001b[43mdata\u001b[49m\u001b[38;5;241;43m=\u001b[39;49m\u001b[43mdata\u001b[49m\u001b[43m,\u001b[49m\u001b[43mindex\u001b[49m\u001b[38;5;241;43m=\u001b[39;49m\u001b[38;5;28;43mlist\u001b[39;49m\u001b[43m(\u001b[49m\u001b[38;5;28;43mrange\u001b[39;49m\u001b[43m(\u001b[49m\u001b[38;5;28;43mlen\u001b[39;49m\u001b[43m(\u001b[49m\u001b[43mdata\u001b[49m\u001b[43m)\u001b[49m\u001b[43m)\u001b[49m\u001b[43m)\u001b[49m\u001b[43m)\u001b[49m\n\u001b[1;32m     24\u001b[0m out[\u001b[38;5;124m'\u001b[39m\u001b[38;5;124mtheta\u001b[39m\u001b[38;5;124m'\u001b[39m]\u001b[38;5;241m=\u001b[39mtheta\n\u001b[1;32m     25\u001b[0m out[\u001b[38;5;124m'\u001b[39m\u001b[38;5;124mtheta_dot\u001b[39m\u001b[38;5;124m'\u001b[39m]\u001b[38;5;241m=\u001b[39mtheta_dot\n",
      "File \u001b[0;32m~/anaconda3/envs/dyn_sys/lib/python3.11/site-packages/pandas/core/frame.py:664\u001b[0m, in \u001b[0;36mDataFrame.__init__\u001b[0;34m(self, data, index, columns, dtype, copy)\u001b[0m\n\u001b[1;32m    658\u001b[0m     mgr \u001b[38;5;241m=\u001b[39m \u001b[38;5;28mself\u001b[39m\u001b[38;5;241m.\u001b[39m_init_mgr(\n\u001b[1;32m    659\u001b[0m         data, axes\u001b[38;5;241m=\u001b[39m{\u001b[38;5;124m\"\u001b[39m\u001b[38;5;124mindex\u001b[39m\u001b[38;5;124m\"\u001b[39m: index, \u001b[38;5;124m\"\u001b[39m\u001b[38;5;124mcolumns\u001b[39m\u001b[38;5;124m\"\u001b[39m: columns}, dtype\u001b[38;5;241m=\u001b[39mdtype, copy\u001b[38;5;241m=\u001b[39mcopy\n\u001b[1;32m    660\u001b[0m     )\n\u001b[1;32m    662\u001b[0m \u001b[38;5;28;01melif\u001b[39;00m \u001b[38;5;28misinstance\u001b[39m(data, \u001b[38;5;28mdict\u001b[39m):\n\u001b[1;32m    663\u001b[0m     \u001b[38;5;66;03m# GH#38939 de facto copy defaults to False only in non-dict cases\u001b[39;00m\n\u001b[0;32m--> 664\u001b[0m     mgr \u001b[38;5;241m=\u001b[39m \u001b[43mdict_to_mgr\u001b[49m\u001b[43m(\u001b[49m\u001b[43mdata\u001b[49m\u001b[43m,\u001b[49m\u001b[43m \u001b[49m\u001b[43mindex\u001b[49m\u001b[43m,\u001b[49m\u001b[43m \u001b[49m\u001b[43mcolumns\u001b[49m\u001b[43m,\u001b[49m\u001b[43m \u001b[49m\u001b[43mdtype\u001b[49m\u001b[38;5;241;43m=\u001b[39;49m\u001b[43mdtype\u001b[49m\u001b[43m,\u001b[49m\u001b[43m \u001b[49m\u001b[43mcopy\u001b[49m\u001b[38;5;241;43m=\u001b[39;49m\u001b[43mcopy\u001b[49m\u001b[43m,\u001b[49m\u001b[43m \u001b[49m\u001b[43mtyp\u001b[49m\u001b[38;5;241;43m=\u001b[39;49m\u001b[43mmanager\u001b[49m\u001b[43m)\u001b[49m\n\u001b[1;32m    665\u001b[0m \u001b[38;5;28;01melif\u001b[39;00m \u001b[38;5;28misinstance\u001b[39m(data, ma\u001b[38;5;241m.\u001b[39mMaskedArray):\n\u001b[1;32m    666\u001b[0m     \u001b[38;5;28;01mimport\u001b[39;00m \u001b[38;5;21;01mnumpy\u001b[39;00m\u001b[38;5;21;01m.\u001b[39;00m\u001b[38;5;21;01mma\u001b[39;00m\u001b[38;5;21;01m.\u001b[39;00m\u001b[38;5;21;01mmrecords\u001b[39;00m \u001b[38;5;28;01mas\u001b[39;00m \u001b[38;5;21;01mmrecords\u001b[39;00m\n",
      "File \u001b[0;32m~/anaconda3/envs/dyn_sys/lib/python3.11/site-packages/pandas/core/internals/construction.py:493\u001b[0m, in \u001b[0;36mdict_to_mgr\u001b[0;34m(data, index, columns, dtype, typ, copy)\u001b[0m\n\u001b[1;32m    489\u001b[0m     \u001b[38;5;28;01melse\u001b[39;00m:\n\u001b[1;32m    490\u001b[0m         \u001b[38;5;66;03m# dtype check to exclude e.g. range objects, scalars\u001b[39;00m\n\u001b[1;32m    491\u001b[0m         arrays \u001b[38;5;241m=\u001b[39m [x\u001b[38;5;241m.\u001b[39mcopy() \u001b[38;5;28;01mif\u001b[39;00m \u001b[38;5;28mhasattr\u001b[39m(x, \u001b[38;5;124m\"\u001b[39m\u001b[38;5;124mdtype\u001b[39m\u001b[38;5;124m\"\u001b[39m) \u001b[38;5;28;01melse\u001b[39;00m x \u001b[38;5;28;01mfor\u001b[39;00m x \u001b[38;5;129;01min\u001b[39;00m arrays]\n\u001b[0;32m--> 493\u001b[0m \u001b[38;5;28;01mreturn\u001b[39;00m \u001b[43marrays_to_mgr\u001b[49m\u001b[43m(\u001b[49m\u001b[43marrays\u001b[49m\u001b[43m,\u001b[49m\u001b[43m \u001b[49m\u001b[43mcolumns\u001b[49m\u001b[43m,\u001b[49m\u001b[43m \u001b[49m\u001b[43mindex\u001b[49m\u001b[43m,\u001b[49m\u001b[43m \u001b[49m\u001b[43mdtype\u001b[49m\u001b[38;5;241;43m=\u001b[39;49m\u001b[43mdtype\u001b[49m\u001b[43m,\u001b[49m\u001b[43m \u001b[49m\u001b[43mtyp\u001b[49m\u001b[38;5;241;43m=\u001b[39;49m\u001b[43mtyp\u001b[49m\u001b[43m,\u001b[49m\u001b[43m \u001b[49m\u001b[43mconsolidate\u001b[49m\u001b[38;5;241;43m=\u001b[39;49m\u001b[43mcopy\u001b[49m\u001b[43m)\u001b[49m\n",
      "File \u001b[0;32m~/anaconda3/envs/dyn_sys/lib/python3.11/site-packages/pandas/core/internals/construction.py:123\u001b[0m, in \u001b[0;36marrays_to_mgr\u001b[0;34m(arrays, columns, index, dtype, verify_integrity, typ, consolidate)\u001b[0m\n\u001b[1;32m    120\u001b[0m         index \u001b[38;5;241m=\u001b[39m ensure_index(index)\n\u001b[1;32m    122\u001b[0m     \u001b[38;5;66;03m# don't force copy because getting jammed in an ndarray anyway\u001b[39;00m\n\u001b[0;32m--> 123\u001b[0m     arrays \u001b[38;5;241m=\u001b[39m \u001b[43m_homogenize\u001b[49m\u001b[43m(\u001b[49m\u001b[43marrays\u001b[49m\u001b[43m,\u001b[49m\u001b[43m \u001b[49m\u001b[43mindex\u001b[49m\u001b[43m,\u001b[49m\u001b[43m \u001b[49m\u001b[43mdtype\u001b[49m\u001b[43m)\u001b[49m\n\u001b[1;32m    124\u001b[0m     \u001b[38;5;66;03m# _homogenize ensures\u001b[39;00m\n\u001b[1;32m    125\u001b[0m     \u001b[38;5;66;03m#  - all(len(x) == len(index) for x in arrays)\u001b[39;00m\n\u001b[1;32m    126\u001b[0m     \u001b[38;5;66;03m#  - all(x.ndim == 1 for x in arrays)\u001b[39;00m\n\u001b[0;32m   (...)\u001b[0m\n\u001b[1;32m    129\u001b[0m \n\u001b[1;32m    130\u001b[0m \u001b[38;5;28;01melse\u001b[39;00m:\n\u001b[1;32m    131\u001b[0m     index \u001b[38;5;241m=\u001b[39m ensure_index(index)\n",
      "File \u001b[0;32m~/anaconda3/envs/dyn_sys/lib/python3.11/site-packages/pandas/core/internals/construction.py:620\u001b[0m, in \u001b[0;36m_homogenize\u001b[0;34m(data, index, dtype)\u001b[0m\n\u001b[1;32m    615\u001b[0m             val \u001b[38;5;241m=\u001b[39m lib\u001b[38;5;241m.\u001b[39mfast_multiget(val, oindex\u001b[38;5;241m.\u001b[39m_values, default\u001b[38;5;241m=\u001b[39mnp\u001b[38;5;241m.\u001b[39mnan)\n\u001b[1;32m    617\u001b[0m         val \u001b[38;5;241m=\u001b[39m sanitize_array(\n\u001b[1;32m    618\u001b[0m             val, index, dtype\u001b[38;5;241m=\u001b[39mdtype, copy\u001b[38;5;241m=\u001b[39m\u001b[38;5;28;01mFalse\u001b[39;00m, raise_cast_failure\u001b[38;5;241m=\u001b[39m\u001b[38;5;28;01mFalse\u001b[39;00m\n\u001b[1;32m    619\u001b[0m         )\n\u001b[0;32m--> 620\u001b[0m         \u001b[43mcom\u001b[49m\u001b[38;5;241;43m.\u001b[39;49m\u001b[43mrequire_length_match\u001b[49m\u001b[43m(\u001b[49m\u001b[43mval\u001b[49m\u001b[43m,\u001b[49m\u001b[43m \u001b[49m\u001b[43mindex\u001b[49m\u001b[43m)\u001b[49m\n\u001b[1;32m    622\u001b[0m     homogenized\u001b[38;5;241m.\u001b[39mappend(val)\n\u001b[1;32m    624\u001b[0m \u001b[38;5;28;01mreturn\u001b[39;00m homogenized\n",
      "File \u001b[0;32m~/anaconda3/envs/dyn_sys/lib/python3.11/site-packages/pandas/core/common.py:571\u001b[0m, in \u001b[0;36mrequire_length_match\u001b[0;34m(data, index)\u001b[0m\n\u001b[1;32m    567\u001b[0m \u001b[38;5;250m\u001b[39m\u001b[38;5;124;03m\"\"\"\u001b[39;00m\n\u001b[1;32m    568\u001b[0m \u001b[38;5;124;03mCheck the length of data matches the length of the index.\u001b[39;00m\n\u001b[1;32m    569\u001b[0m \u001b[38;5;124;03m\"\"\"\u001b[39;00m\n\u001b[1;32m    570\u001b[0m \u001b[38;5;28;01mif\u001b[39;00m \u001b[38;5;28mlen\u001b[39m(data) \u001b[38;5;241m!=\u001b[39m \u001b[38;5;28mlen\u001b[39m(index):\n\u001b[0;32m--> 571\u001b[0m     \u001b[38;5;28;01mraise\u001b[39;00m \u001b[38;5;167;01mValueError\u001b[39;00m(\n\u001b[1;32m    572\u001b[0m         \u001b[38;5;124m\"\u001b[39m\u001b[38;5;124mLength of values \u001b[39m\u001b[38;5;124m\"\u001b[39m\n\u001b[1;32m    573\u001b[0m         \u001b[38;5;124mf\u001b[39m\u001b[38;5;124m\"\u001b[39m\u001b[38;5;124m(\u001b[39m\u001b[38;5;132;01m{\u001b[39;00m\u001b[38;5;28mlen\u001b[39m(data)\u001b[38;5;132;01m}\u001b[39;00m\u001b[38;5;124m) \u001b[39m\u001b[38;5;124m\"\u001b[39m\n\u001b[1;32m    574\u001b[0m         \u001b[38;5;124m\"\u001b[39m\u001b[38;5;124mdoes not match length of index \u001b[39m\u001b[38;5;124m\"\u001b[39m\n\u001b[1;32m    575\u001b[0m         \u001b[38;5;124mf\u001b[39m\u001b[38;5;124m\"\u001b[39m\u001b[38;5;124m(\u001b[39m\u001b[38;5;132;01m{\u001b[39;00m\u001b[38;5;28mlen\u001b[39m(index)\u001b[38;5;132;01m}\u001b[39;00m\u001b[38;5;124m)\u001b[39m\u001b[38;5;124m\"\u001b[39m\n\u001b[1;32m    576\u001b[0m     )\n",
      "\u001b[0;31mValueError\u001b[0m: Length of values (2783) does not match length of index (1)"
     ]
    }
   ],
   "source": [
    "\n",
    "\n",
    "L = 2\n",
    "t0=time.perf_counter()\n",
    "df=a_solution(func=lin_pendulum)\n",
    "dt=time.perf_counter()-t0\n",
    "print('Elapsed time (linear):',dt)\n",
    "\n",
    "t0=time.perf_counter()\n",
    "ndf=a_solution(func=nonlin_pendulum)\n",
    "dt=time.perf_counter()-t0\n",
    "print('Elapsed time (non-linear):',dt)\n",
    "\n",
    "t0=time.perf_counter()\n",
    "adf=lin_solution(t=np.arange(tspan[0], tspan[1], dt))\n",
    "dt=time.perf_counter()-t0\n",
    "print('Elapsed time (analytic):',dt)\n",
    "\n",
    "ddf=pd.concat([df,ndf,adf])\n"
   ]
  },
  {
   "cell_type": "markdown",
   "metadata": {},
   "source": [
    "## Timing\n",
    "\n"
   ]
  },
  {
   "cell_type": "code",
   "execution_count": 117,
   "metadata": {},
   "outputs": [
    {
     "name": "stdout",
     "output_type": "stream",
     "text": [
      "Elapsed time (analytic): 0.001746790949255228\n"
     ]
    }
   ],
   "source": [
    "t0=time.perf_counter()\n",
    "lin_solution(t=1)\n",
    "dt=time.perf_counter()-t0\n",
    "print('Elapsed time (analytic):',dt)"
   ]
  },
  {
   "cell_type": "code",
   "execution_count": 97,
   "metadata": {},
   "outputs": [
    {
     "data": {
      "application/vnd.plotly.v1+json": {
       "config": {
        "plotlyServerURL": "https://plot.ly"
       },
       "data": [
        {
         "hovertemplate": "label=lin_pendulum<br>t=0.0<br>x=%{x}<br>y=%{y}<extra></extra>",
         "legendgroup": "lin_pendulum",
         "marker": {
          "color": "#636efa",
          "symbol": "circle"
         },
         "mode": "markers",
         "name": "lin_pendulum",
         "orientation": "v",
         "showlegend": true,
         "type": "scatter",
         "x": [
          -1.414213562373095
         ],
         "xaxis": "x",
         "y": [
          -1.4142135623730951
         ],
         "yaxis": "y"
        },
        {
         "hovertemplate": "label=nonlin_pendulum<br>t=0.0<br>x=%{x}<br>y=%{y}<extra></extra>",
         "legendgroup": "nonlin_pendulum",
         "marker": {
          "color": "#EF553B",
          "symbol": "circle"
         },
         "mode": "markers",
         "name": "nonlin_pendulum",
         "orientation": "v",
         "showlegend": true,
         "type": "scatter",
         "x": [
          -1.414213562373095
         ],
         "xaxis": "x",
         "y": [
          -1.4142135623730951
         ],
         "yaxis": "y"
        },
        {
         "hovertemplate": "label=Analytic linear<br>t=0.0<br>x=%{x}<br>y=%{y}<extra></extra>",
         "legendgroup": "Analytic linear",
         "marker": {
          "color": "#00cc96",
          "symbol": "circle"
         },
         "mode": "markers",
         "name": "Analytic linear",
         "orientation": "v",
         "showlegend": true,
         "type": "scatter",
         "x": [
          -1.414213562373095
         ],
         "xaxis": "x",
         "y": [
          -1.4142135623730951
         ],
         "yaxis": "y"
        }
       ],
       "frames": [
        {
         "data": [
          {
           "hovertemplate": "label=lin_pendulum<br>t=0.0<br>x=%{x}<br>y=%{y}<extra></extra>",
           "legendgroup": "lin_pendulum",
           "marker": {
            "color": "#636efa",
            "symbol": "circle"
           },
           "mode": "markers",
           "name": "lin_pendulum",
           "orientation": "v",
           "showlegend": true,
           "type": "scatter",
           "x": [
            -1.414213562373095
           ],
           "xaxis": "x",
           "y": [
            -1.4142135623730951
           ],
           "yaxis": "y"
          },
          {
           "hovertemplate": "label=nonlin_pendulum<br>t=0.0<br>x=%{x}<br>y=%{y}<extra></extra>",
           "legendgroup": "nonlin_pendulum",
           "marker": {
            "color": "#EF553B",
            "symbol": "circle"
           },
           "mode": "markers",
           "name": "nonlin_pendulum",
           "orientation": "v",
           "showlegend": true,
           "type": "scatter",
           "x": [
            -1.414213562373095
           ],
           "xaxis": "x",
           "y": [
            -1.4142135623730951
           ],
           "yaxis": "y"
          },
          {
           "hovertemplate": "label=Analytic linear<br>t=0.0<br>x=%{x}<br>y=%{y}<extra></extra>",
           "legendgroup": "Analytic linear",
           "marker": {
            "color": "#00cc96",
            "symbol": "circle"
           },
           "mode": "markers",
           "name": "Analytic linear",
           "orientation": "v",
           "showlegend": true,
           "type": "scatter",
           "x": [
            -1.414213562373095
           ],
           "xaxis": "x",
           "y": [
            -1.4142135623730951
           ],
           "yaxis": "y"
          }
         ],
         "name": "0.0"
        },
        {
         "data": [
          {
           "hovertemplate": "label=lin_pendulum<br>t=0.1<br>x=%{x}<br>y=%{y}<extra></extra>",
           "legendgroup": "lin_pendulum",
           "marker": {
            "color": "#636efa",
            "symbol": "circle"
           },
           "mode": "markers",
           "name": "lin_pendulum",
           "orientation": "v",
           "showlegend": true,
           "type": "scatter",
           "x": [
            -1.386834960563241
           ],
           "xaxis": "x",
           "y": [
            -1.441072098182306
           ],
           "yaxis": "y"
          },
          {
           "hovertemplate": "label=nonlin_pendulum<br>t=0.1<br>x=%{x}<br>y=%{y}<extra></extra>",
           "legendgroup": "nonlin_pendulum",
           "marker": {
            "color": "#EF553B",
            "symbol": "circle"
           },
           "mode": "markers",
           "name": "nonlin_pendulum",
           "orientation": "v",
           "showlegend": true,
           "type": "scatter",
           "x": [
            -1.3895603372602432
           ],
           "xaxis": "x",
           "y": [
            -1.4384443225628163
           ],
           "yaxis": "y"
          },
          {
           "hovertemplate": "label=Analytic linear<br>t=0.1<br>x=%{x}<br>y=%{y}<extra></extra>",
           "legendgroup": "Analytic linear",
           "marker": {
            "color": "#00cc96",
            "symbol": "circle"
           },
           "mode": "markers",
           "name": "Analytic linear",
           "orientation": "v",
           "showlegend": true,
           "type": "scatter",
           "x": [
            -1.3868257573831202
           ],
           "xaxis": "x",
           "y": [
            -1.4410809549288808
           ],
           "yaxis": "y"
          }
         ],
         "name": "0.1"
        },
        {
         "data": [
          {
           "hovertemplate": "label=lin_pendulum<br>t=0.2<br>x=%{x}<br>y=%{y}<extra></extra>",
           "legendgroup": "lin_pendulum",
           "marker": {
            "color": "#636efa",
            "symbol": "circle"
           },
           "mode": "markers",
           "name": "lin_pendulum",
           "orientation": "v",
           "showlegend": true,
           "type": "scatter",
           "x": [
            -1.303074245359438
           ],
           "xaxis": "x",
           "y": [
            -1.5172335057864137
           ],
           "yaxis": "y"
          },
          {
           "hovertemplate": "label=nonlin_pendulum<br>t=0.2<br>x=%{x}<br>y=%{y}<extra></extra>",
           "legendgroup": "nonlin_pendulum",
           "marker": {
            "color": "#EF553B",
            "symbol": "circle"
           },
           "mode": "markers",
           "name": "nonlin_pendulum",
           "orientation": "v",
           "showlegend": true,
           "type": "scatter",
           "x": [
            -1.3140229173547784
           ],
           "xaxis": "x",
           "y": [
            -1.5077611789227223
           ],
           "yaxis": "y"
          },
          {
           "hovertemplate": "label=Analytic linear<br>t=0.2<br>x=%{x}<br>y=%{y}<extra></extra>",
           "legendgroup": "Analytic linear",
           "marker": {
            "color": "#00cc96",
            "symbol": "circle"
           },
           "mode": "markers",
           "name": "Analytic linear",
           "orientation": "v",
           "showlegend": true,
           "type": "scatter",
           "x": [
            -1.3030639668769919
           ],
           "xaxis": "x",
           "y": [
            -1.5172423333887035
           ],
           "yaxis": "y"
          }
         ],
         "name": "0.2"
        },
        {
         "data": [
          {
           "hovertemplate": "label=lin_pendulum<br>t=0.30000000000000004<br>x=%{x}<br>y=%{y}<extra></extra>",
           "legendgroup": "lin_pendulum",
           "marker": {
            "color": "#636efa",
            "symbol": "circle"
           },
           "mode": "markers",
           "name": "lin_pendulum",
           "orientation": "v",
           "showlegend": true,
           "type": "scatter",
           "x": [
            -1.1593296434648956
           ],
           "xaxis": "x",
           "y": [
            -1.6297100287424011
           ],
           "yaxis": "y"
          },
          {
           "hovertemplate": "label=nonlin_pendulum<br>t=0.30000000000000004<br>x=%{x}<br>y=%{y}<extra></extra>",
           "legendgroup": "nonlin_pendulum",
           "marker": {
            "color": "#EF553B",
            "symbol": "circle"
           },
           "mode": "markers",
           "name": "nonlin_pendulum",
           "orientation": "v",
           "showlegend": true,
           "type": "scatter",
           "x": [
            -1.1838609249208747
           ],
           "xaxis": "x",
           "y": [
            -1.611978073810401
           ],
           "yaxis": "y"
          },
          {
           "hovertemplate": "label=Analytic linear<br>t=0.30000000000000004<br>x=%{x}<br>y=%{y}<extra></extra>",
           "legendgroup": "Analytic linear",
           "marker": {
            "color": "#00cc96",
            "symbol": "circle"
           },
           "mode": "markers",
           "name": "Analytic linear",
           "orientation": "v",
           "showlegend": true,
           "type": "scatter",
           "x": [
            -1.1593428804216546
           ],
           "xaxis": "x",
           "y": [
            -1.6297006122646027
           ],
           "yaxis": "y"
          }
         ],
         "name": "0.30000000000000004"
        },
        {
         "data": [
          {
           "hovertemplate": "label=lin_pendulum<br>t=0.4<br>x=%{x}<br>y=%{y}<extra></extra>",
           "legendgroup": "lin_pendulum",
           "marker": {
            "color": "#636efa",
            "symbol": "circle"
           },
           "mode": "markers",
           "name": "lin_pendulum",
           "orientation": "v",
           "showlegend": true,
           "type": "scatter",
           "x": [
            -0.9533463542686417
           ],
           "xaxis": "x",
           "y": [
            -1.75816117827766
           ],
           "yaxis": "y"
          },
          {
           "hovertemplate": "label=nonlin_pendulum<br>t=0.4<br>x=%{x}<br>y=%{y}<extra></extra>",
           "legendgroup": "nonlin_pendulum",
           "marker": {
            "color": "#EF553B",
            "symbol": "circle"
           },
           "mode": "markers",
           "name": "nonlin_pendulum",
           "orientation": "v",
           "showlegend": true,
           "type": "scatter",
           "x": [
            -0.9957811198075064
           ],
           "xaxis": "x",
           "y": [
            -1.7344797379718533
           ],
           "yaxis": "y"
          },
          {
           "hovertemplate": "label=Analytic linear<br>t=0.4<br>x=%{x}<br>y=%{y}<extra></extra>",
           "legendgroup": "Analytic linear",
           "marker": {
            "color": "#00cc96",
            "symbol": "circle"
           },
           "mode": "markers",
           "name": "Analytic linear",
           "orientation": "v",
           "showlegend": true,
           "type": "scatter",
           "x": [
            -0.9533063409211829
           ],
           "xaxis": "x",
           "y": [
            -1.7581828745495918
           ],
           "yaxis": "y"
          }
         ],
         "name": "0.4"
        },
        {
         "data": [
          {
           "hovertemplate": "label=lin_pendulum<br>t=0.5<br>x=%{x}<br>y=%{y}<extra></extra>",
           "legendgroup": "lin_pendulum",
           "marker": {
            "color": "#636efa",
            "symbol": "circle"
           },
           "mode": "markers",
           "name": "lin_pendulum",
           "orientation": "v",
           "showlegend": true,
           "type": "scatter",
           "x": [
            -0.687953253441683
           ],
           "xaxis": "x",
           "y": [
            -1.8779564215069005
           ],
           "yaxis": "y"
          },
          {
           "hovertemplate": "label=nonlin_pendulum<br>t=0.5<br>x=%{x}<br>y=%{y}<extra></extra>",
           "legendgroup": "nonlin_pendulum",
           "marker": {
            "color": "#EF553B",
            "symbol": "circle"
           },
           "mode": "markers",
           "name": "nonlin_pendulum",
           "orientation": "v",
           "showlegend": true,
           "type": "scatter",
           "x": [
            -0.750406416225772
           ],
           "xaxis": "x",
           "y": [
            -1.8538851664780085
           ],
           "yaxis": "y"
          },
          {
           "hovertemplate": "label=Analytic linear<br>t=0.5<br>x=%{x}<br>y=%{y}<extra></extra>",
           "legendgroup": "Analytic linear",
           "marker": {
            "color": "#00cc96",
            "symbol": "circle"
           },
           "mode": "markers",
           "name": "Analytic linear",
           "orientation": "v",
           "showlegend": true,
           "type": "scatter",
           "x": [
            -0.687845090010255
           ],
           "xaxis": "x",
           "y": [
            -1.877996041568987
           ],
           "yaxis": "y"
          }
         ],
         "name": "0.5"
        },
        {
         "data": [
          {
           "hovertemplate": "label=lin_pendulum<br>t=0.6000000000000001<br>x=%{x}<br>y=%{y}<extra></extra>",
           "legendgroup": "lin_pendulum",
           "marker": {
            "color": "#636efa",
            "symbol": "circle"
           },
           "mode": "markers",
           "name": "lin_pendulum",
           "orientation": "v",
           "showlegend": true,
           "type": "scatter",
           "x": [
            -0.37409427822735164
           ],
           "xaxis": "x",
           "y": [
            -1.9647018784023078
           ],
           "yaxis": "y"
          },
          {
           "hovertemplate": "label=nonlin_pendulum<br>t=0.6000000000000001<br>x=%{x}<br>y=%{y}<extra></extra>",
           "legendgroup": "nonlin_pendulum",
           "marker": {
            "color": "#EF553B",
            "symbol": "circle"
           },
           "mode": "markers",
           "name": "nonlin_pendulum",
           "orientation": "v",
           "showlegend": true,
           "type": "scatter",
           "x": [
            -0.45537629306512095
           ],
           "xaxis": "x",
           "y": [
            -1.9474682107069858
           ],
           "yaxis": "y"
          },
          {
           "hovertemplate": "label=Analytic linear<br>t=0.6000000000000001<br>x=%{x}<br>y=%{y}<extra></extra>",
           "legendgroup": "Analytic linear",
           "marker": {
            "color": "#00cc96",
            "symbol": "circle"
           },
           "mode": "markers",
           "name": "Analytic linear",
           "orientation": "v",
           "showlegend": true,
           "type": "scatter",
           "x": [
            -0.37415803881556037
           ],
           "xaxis": "x",
           "y": [
            -1.9646897368260703
           ],
           "yaxis": "y"
          }
         ],
         "name": "0.6000000000000001"
        },
        {
         "data": [
          {
           "hovertemplate": "label=lin_pendulum<br>t=0.7000000000000001<br>x=%{x}<br>y=%{y}<extra></extra>",
           "legendgroup": "lin_pendulum",
           "marker": {
            "color": "#636efa",
            "symbol": "circle"
           },
           "mode": "markers",
           "name": "lin_pendulum",
           "orientation": "v",
           "showlegend": true,
           "type": "scatter",
           "x": [
            -0.031864504597944834
           ],
           "xaxis": "x",
           "y": [
            -1.9997461472263742
           ],
           "yaxis": "y"
          },
          {
           "hovertemplate": "label=nonlin_pendulum<br>t=0.7000000000000001<br>x=%{x}<br>y=%{y}<extra></extra>",
           "legendgroup": "nonlin_pendulum",
           "marker": {
            "color": "#EF553B",
            "symbol": "circle"
           },
           "mode": "markers",
           "name": "nonlin_pendulum",
           "orientation": "v",
           "showlegend": true,
           "type": "scatter",
           "x": [
            -0.12691876747277955
           ],
           "xaxis": "x",
           "y": [
            -1.995968844061247
           ],
           "yaxis": "y"
          },
          {
           "hovertemplate": "label=Analytic linear<br>t=0.7000000000000001<br>x=%{x}<br>y=%{y}<extra></extra>",
           "legendgroup": "Analytic linear",
           "marker": {
            "color": "#00cc96",
            "symbol": "circle"
           },
           "mode": "markers",
           "name": "Analytic linear",
           "orientation": "v",
           "showlegend": true,
           "type": "scatter",
           "x": [
            -0.032181827290730255
           ],
           "xaxis": "x",
           "y": [
            -1.9997410657363193
           ],
           "yaxis": "y"
          }
         ],
         "name": "0.7000000000000001"
        },
        {
         "data": [
          {
           "hovertemplate": "label=lin_pendulum<br>t=0.8<br>x=%{x}<br>y=%{y}<extra></extra>",
           "legendgroup": "lin_pendulum",
           "marker": {
            "color": "#636efa",
            "symbol": "circle"
           },
           "mode": "markers",
           "name": "lin_pendulum",
           "orientation": "v",
           "showlegend": true,
           "type": "scatter",
           "x": [
            0.31282329736521497
           ],
           "xaxis": "x",
           "y": [
            -1.975383908162045
           ],
           "yaxis": "y"
          },
          {
           "hovertemplate": "label=nonlin_pendulum<br>t=0.8<br>x=%{x}<br>y=%{y}<extra></extra>",
           "legendgroup": "nonlin_pendulum",
           "marker": {
            "color": "#EF553B",
            "symbol": "circle"
           },
           "mode": "markers",
           "name": "nonlin_pendulum",
           "orientation": "v",
           "showlegend": true,
           "type": "scatter",
           "x": [
            0.21110998546443624
           ],
           "xaxis": "x",
           "y": [
            -1.9888269341592308
           ],
           "yaxis": "y"
          },
          {
           "hovertemplate": "label=Analytic linear<br>t=0.8<br>x=%{x}<br>y=%{y}<extra></extra>",
           "legendgroup": "Analytic linear",
           "marker": {
            "color": "#00cc96",
            "symbol": "circle"
           },
           "mode": "markers",
           "name": "Analytic linear",
           "orientation": "v",
           "showlegend": true,
           "type": "scatter",
           "x": [
            0.3122981231895173
           ],
           "xaxis": "x",
           "y": [
            -1.9754670035847992
           ],
           "yaxis": "y"
          }
         ],
         "name": "0.8"
        },
        {
         "data": [
          {
           "hovertemplate": "label=lin_pendulum<br>t=0.9<br>x=%{x}<br>y=%{y}<extra></extra>",
           "legendgroup": "lin_pendulum",
           "marker": {
            "color": "#636efa",
            "symbol": "circle"
           },
           "mode": "markers",
           "name": "lin_pendulum",
           "orientation": "v",
           "showlegend": true,
           "type": "scatter",
           "x": [
            0.633558423141315
           ],
           "xaxis": "x",
           "y": [
            -1.8969986095057345
           ],
           "yaxis": "y"
          },
          {
           "hovertemplate": "label=nonlin_pendulum<br>t=0.9<br>x=%{x}<br>y=%{y}<extra></extra>",
           "legendgroup": "nonlin_pendulum",
           "marker": {
            "color": "#EF553B",
            "symbol": "circle"
           },
           "mode": "markers",
           "name": "nonlin_pendulum",
           "orientation": "v",
           "showlegend": true,
           "type": "scatter",
           "x": [
            0.533069329234138
           ],
           "xaxis": "x",
           "y": [
            -1.9276506660258403
           ],
           "yaxis": "y"
          },
          {
           "hovertemplate": "label=Analytic linear<br>t=0.9<br>x=%{x}<br>y=%{y}<extra></extra>",
           "legendgroup": "Analytic linear",
           "marker": {
            "color": "#00cc96",
            "symbol": "circle"
           },
           "mode": "markers",
           "name": "Analytic linear",
           "orientation": "v",
           "showlegend": true,
           "type": "scatter",
           "x": [
            0.6329549185260723
           ],
           "xaxis": "x",
           "y": [
            -1.8972000609091422
           ],
           "yaxis": "y"
          }
         ],
         "name": "0.9"
        },
        {
         "data": [
          {
           "hovertemplate": "label=lin_pendulum<br>t=1.0<br>x=%{x}<br>y=%{y}<extra></extra>",
           "legendgroup": "lin_pendulum",
           "marker": {
            "color": "#636efa",
            "symbol": "circle"
           },
           "mode": "markers",
           "name": "lin_pendulum",
           "orientation": "v",
           "showlegend": true,
           "type": "scatter",
           "x": [
            0.9089486692239167
           ],
           "xaxis": "x",
           "y": [
            -1.7815196649815772
           ],
           "yaxis": "y"
          },
          {
           "hovertemplate": "label=nonlin_pendulum<br>t=1.0<br>x=%{x}<br>y=%{y}<extra></extra>",
           "legendgroup": "nonlin_pendulum",
           "marker": {
            "color": "#EF553B",
            "symbol": "circle"
           },
           "mode": "markers",
           "name": "nonlin_pendulum",
           "orientation": "v",
           "showlegend": true,
           "type": "scatter",
           "x": [
            0.8169755170857517
           ],
           "xaxis": "x",
           "y": [
            -1.8255275961985533
           ],
           "yaxis": "y"
          },
          {
           "hovertemplate": "label=Analytic linear<br>t=1.0<br>x=%{x}<br>y=%{y}<extra></extra>",
           "legendgroup": "Analytic linear",
           "marker": {
            "color": "#00cc96",
            "symbol": "circle"
           },
           "mode": "markers",
           "name": "Analytic linear",
           "orientation": "v",
           "showlegend": true,
           "type": "scatter",
           "x": [
            0.9084578971823751
           ],
           "xaxis": "x",
           "y": [
            -1.7817699764691786
           ],
           "yaxis": "y"
          }
         ],
         "name": "1.0"
        },
        {
         "data": [
          {
           "hovertemplate": "label=lin_pendulum<br>t=1.1<br>x=%{x}<br>y=%{y}<extra></extra>",
           "legendgroup": "lin_pendulum",
           "marker": {
            "color": "#636efa",
            "symbol": "circle"
           },
           "mode": "markers",
           "name": "lin_pendulum",
           "orientation": "v",
           "showlegend": true,
           "type": "scatter",
           "x": [
            1.126334422980943
           ],
           "xaxis": "x",
           "y": [
            -1.6526859252768464
           ],
           "yaxis": "y"
          },
          {
           "hovertemplate": "label=nonlin_pendulum<br>t=1.1<br>x=%{x}<br>y=%{y}<extra></extra>",
           "legendgroup": "nonlin_pendulum",
           "marker": {
            "color": "#EF553B",
            "symbol": "circle"
           },
           "mode": "markers",
           "name": "nonlin_pendulum",
           "orientation": "v",
           "showlegend": true,
           "type": "scatter",
           "x": [
            1.0484562385301874
           ],
           "xaxis": "x",
           "y": [
            -1.7031557520928997
           ],
           "yaxis": "y"
          },
          {
           "hovertemplate": "label=Analytic linear<br>t=1.1<br>x=%{x}<br>y=%{y}<extra></extra>",
           "legendgroup": "Analytic linear",
           "marker": {
            "color": "#00cc96",
            "symbol": "circle"
           },
           "mode": "markers",
           "name": "Analytic linear",
           "orientation": "v",
           "showlegend": true,
           "type": "scatter",
           "x": [
            1.1259256188593612
           ],
           "xaxis": "x",
           "y": [
            -1.6529644584189234
           ],
           "yaxis": "y"
          }
         ],
         "name": "1.1"
        },
        {
         "data": [
          {
           "hovertemplate": "label=lin_pendulum<br>t=1.2000000000000002<br>x=%{x}<br>y=%{y}<extra></extra>",
           "legendgroup": "lin_pendulum",
           "marker": {
            "color": "#636efa",
            "symbol": "circle"
           },
           "mode": "markers",
           "name": "lin_pendulum",
           "orientation": "v",
           "showlegend": true,
           "type": "scatter",
           "x": [
            1.2814730879391074
           ],
           "xaxis": "x",
           "y": [
            -1.5355216458545313
           ],
           "yaxis": "y"
          },
          {
           "hovertemplate": "label=nonlin_pendulum<br>t=1.2000000000000002<br>x=%{x}<br>y=%{y}<extra></extra>",
           "legendgroup": "nonlin_pendulum",
           "marker": {
            "color": "#EF553B",
            "symbol": "circle"
           },
           "mode": "markers",
           "name": "nonlin_pendulum",
           "orientation": "v",
           "showlegend": true,
           "type": "scatter",
           "x": [
            1.2217075041663483
           ],
           "xaxis": "x",
           "y": [
            -1.5834869037234354
           ],
           "yaxis": "y"
          },
          {
           "hovertemplate": "label=Analytic linear<br>t=1.2000000000000002<br>x=%{x}<br>y=%{y}<extra></extra>",
           "legendgroup": "Analytic linear",
           "marker": {
            "color": "#00cc96",
            "symbol": "circle"
           },
           "mode": "markers",
           "name": "Analytic linear",
           "orientation": "v",
           "showlegend": true,
           "type": "scatter",
           "x": [
            1.2811018520699304
           ],
           "xaxis": "x",
           "y": [
            -1.5358313854792114
           ],
           "yaxis": "y"
          }
         ],
         "name": "1.2000000000000002"
        },
        {
         "data": [
          {
           "hovertemplate": "label=lin_pendulum<br>t=1.3<br>x=%{x}<br>y=%{y}<extra></extra>",
           "legendgroup": "lin_pendulum",
           "marker": {
            "color": "#636efa",
            "symbol": "circle"
           },
           "mode": "markers",
           "name": "lin_pendulum",
           "orientation": "v",
           "showlegend": true,
           "type": "scatter",
           "x": [
            1.3761861632693095
           ],
           "xaxis": "x",
           "y": [
            -1.451244860120475
           ],
           "yaxis": "y"
          },
          {
           "hovertemplate": "label=nonlin_pendulum<br>t=1.3<br>x=%{x}<br>y=%{y}<extra></extra>",
           "legendgroup": "nonlin_pendulum",
           "marker": {
            "color": "#EF553B",
            "symbol": "circle"
           },
           "mode": "markers",
           "name": "nonlin_pendulum",
           "orientation": "v",
           "showlegend": true,
           "type": "scatter",
           "x": [
            1.3373978970490954
           ],
           "xaxis": "x",
           "y": [
            -1.4870665301084067
           ],
           "yaxis": "y"
          },
          {
           "hovertemplate": "label=Analytic linear<br>t=1.3<br>x=%{x}<br>y=%{y}<extra></extra>",
           "legendgroup": "Analytic linear",
           "marker": {
            "color": "#00cc96",
            "symbol": "circle"
           },
           "mode": "markers",
           "name": "Analytic linear",
           "orientation": "v",
           "showlegend": true,
           "type": "scatter",
           "x": [
            1.3756719372924846
           ],
           "xaxis": "x",
           "y": [
            -1.4517323172492724
           ],
           "yaxis": "y"
          }
         ],
         "name": "1.3"
        },
        {
         "data": [
          {
           "hovertemplate": "label=lin_pendulum<br>t=1.4000000000000001<br>x=%{x}<br>y=%{y}<extra></extra>",
           "legendgroup": "lin_pendulum",
           "marker": {
            "color": "#636efa",
            "symbol": "circle"
           },
           "mode": "markers",
           "name": "lin_pendulum",
           "orientation": "v",
           "showlegend": true,
           "type": "scatter",
           "x": [
            1.4136698538275803
           ],
           "xaxis": "x",
           "y": [
            -1.4147570619647416
           ],
           "yaxis": "y"
          },
          {
           "hovertemplate": "label=nonlin_pendulum<br>t=1.4000000000000001<br>x=%{x}<br>y=%{y}<extra></extra>",
           "legendgroup": "nonlin_pendulum",
           "marker": {
            "color": "#EF553B",
            "symbol": "circle"
           },
           "mode": "markers",
           "name": "nonlin_pendulum",
           "orientation": "v",
           "showlegend": true,
           "type": "scatter",
           "x": [
            1.399667788404817
           ],
           "xaxis": "x",
           "y": [
            -1.428611242466602
           ],
           "yaxis": "y"
          },
          {
           "hovertemplate": "label=Analytic linear<br>t=1.4000000000000001<br>x=%{x}<br>y=%{y}<extra></extra>",
           "legendgroup": "Analytic linear",
           "marker": {
            "color": "#00cc96",
            "symbol": "circle"
           },
           "mode": "markers",
           "name": "Analytic linear",
           "orientation": "v",
           "showlegend": true,
           "type": "scatter",
           "x": [
            1.4132807439073405
           ],
           "xaxis": "x",
           "y": [
            -1.4151457659551239
           ],
           "yaxis": "y"
          }
         ],
         "name": "1.4000000000000001"
        },
        {
         "data": [
          {
           "hovertemplate": "label=lin_pendulum<br>t=1.5<br>x=%{x}<br>y=%{y}<extra></extra>",
           "legendgroup": "lin_pendulum",
           "marker": {
            "color": "#636efa",
            "symbol": "circle"
           },
           "mode": "markers",
           "name": "lin_pendulum",
           "orientation": "v",
           "showlegend": true,
           "type": "scatter",
           "x": [
            1.3960097320261475
           ],
           "xaxis": "x",
           "y": [
            -1.4321860312432473
           ],
           "yaxis": "y"
          },
          {
           "hovertemplate": "label=nonlin_pendulum<br>t=1.5<br>x=%{x}<br>y=%{y}<extra></extra>",
           "legendgroup": "nonlin_pendulum",
           "marker": {
            "color": "#EF553B",
            "symbol": "circle"
           },
           "mode": "markers",
           "name": "nonlin_pendulum",
           "orientation": "v",
           "showlegend": true,
           "type": "scatter",
           "x": [
            1.41153469909557
           ],
           "xaxis": "x",
           "y": [
            -1.4168873608191934
           ],
           "yaxis": "y"
          },
          {
           "hovertemplate": "label=Analytic linear<br>t=1.5<br>x=%{x}<br>y=%{y}<extra></extra>",
           "legendgroup": "Analytic linear",
           "marker": {
            "color": "#00cc96",
            "symbol": "circle"
           },
           "mode": "markers",
           "name": "Analytic linear",
           "orientation": "v",
           "showlegend": true,
           "type": "scatter",
           "x": [
            1.3960557319353042
           ],
           "xaxis": "x",
           "y": [
            -1.43214119182802
           ],
           "yaxis": "y"
          }
         ],
         "name": "1.5"
        },
        {
         "data": [
          {
           "hovertemplate": "label=lin_pendulum<br>t=1.6<br>x=%{x}<br>y=%{y}<extra></extra>",
           "legendgroup": "lin_pendulum",
           "marker": {
            "color": "#636efa",
            "symbol": "circle"
           },
           "mode": "markers",
           "name": "lin_pendulum",
           "orientation": "v",
           "showlegend": true,
           "type": "scatter",
           "x": [
            1.322535455465042
           ],
           "xaxis": "x",
           "y": [
            -1.5002999596873534
           ],
           "yaxis": "y"
          },
          {
           "hovertemplate": "label=nonlin_pendulum<br>t=1.6<br>x=%{x}<br>y=%{y}<extra></extra>",
           "legendgroup": "nonlin_pendulum",
           "marker": {
            "color": "#EF553B",
            "symbol": "circle"
           },
           "mode": "markers",
           "name": "nonlin_pendulum",
           "orientation": "v",
           "showlegend": true,
           "type": "scatter",
           "x": [
            1.3736662276524243
           ],
           "xaxis": "x",
           "y": [
            -1.4536303157980568
           ],
           "yaxis": "y"
          },
          {
           "hovertemplate": "label=Analytic linear<br>t=1.6<br>x=%{x}<br>y=%{y}<extra></extra>",
           "legendgroup": "Analytic linear",
           "marker": {
            "color": "#00cc96",
            "symbol": "circle"
           },
           "mode": "markers",
           "name": "Analytic linear",
           "orientation": "v",
           "showlegend": true,
           "type": "scatter",
           "x": [
            1.3229701730607655
           ],
           "xaxis": "x",
           "y": [
            -1.4999166380807862
           ],
           "yaxis": "y"
          }
         ],
         "name": "1.6"
        },
        {
         "data": [
          {
           "hovertemplate": "label=lin_pendulum<br>t=1.7000000000000002<br>x=%{x}<br>y=%{y}<extra></extra>",
           "legendgroup": "lin_pendulum",
           "marker": {
            "color": "#636efa",
            "symbol": "circle"
           },
           "mode": "markers",
           "name": "lin_pendulum",
           "orientation": "v",
           "showlegend": true,
           "type": "scatter",
           "x": [
            1.1900825190381759
           ],
           "xaxis": "x",
           "y": [
            -1.6073903066398496
           ],
           "yaxis": "y"
          },
          {
           "hovertemplate": "label=nonlin_pendulum<br>t=1.7000000000000002<br>x=%{x}<br>y=%{y}<extra></extra>",
           "legendgroup": "nonlin_pendulum",
           "marker": {
            "color": "#EF553B",
            "symbol": "circle"
           },
           "mode": "markers",
           "name": "nonlin_pendulum",
           "orientation": "v",
           "showlegend": true,
           "type": "scatter",
           "x": [
            1.284076263281255
           ],
           "xaxis": "x",
           "y": [
            -1.5333454112096363
           ],
           "yaxis": "y"
          },
          {
           "hovertemplate": "label=Analytic linear<br>t=1.7000000000000002<br>x=%{x}<br>y=%{y}<extra></extra>",
           "legendgroup": "Analytic linear",
           "marker": {
            "color": "#00cc96",
            "symbol": "circle"
           },
           "mode": "markers",
           "name": "Analytic linear",
           "orientation": "v",
           "showlegend": true,
           "type": "scatter",
           "x": [
            1.1906118155646332
           ],
           "xaxis": "x",
           "y": [
            -1.6069982901788937
           ],
           "yaxis": "y"
          }
         ],
         "name": "1.7000000000000002"
        },
        {
         "data": [
          {
           "hovertemplate": "label=lin_pendulum<br>t=1.8<br>x=%{x}<br>y=%{y}<extra></extra>",
           "legendgroup": "lin_pendulum",
           "marker": {
            "color": "#636efa",
            "symbol": "circle"
           },
           "mode": "markers",
           "name": "lin_pendulum",
           "orientation": "v",
           "showlegend": true,
           "type": "scatter",
           "x": [
            0.9954580961236286
           ],
           "xaxis": "x",
           "y": [
            -1.7346651489154674
           ],
           "yaxis": "y"
          },
          {
           "hovertemplate": "label=nonlin_pendulum<br>t=1.8<br>x=%{x}<br>y=%{y}<extra></extra>",
           "legendgroup": "nonlin_pendulum",
           "marker": {
            "color": "#EF553B",
            "symbol": "circle"
           },
           "mode": "markers",
           "name": "nonlin_pendulum",
           "orientation": "v",
           "showlegend": true,
           "type": "scatter",
           "x": [
            1.1390991868732774
           ],
           "xaxis": "x",
           "y": [
            -1.643913940102899
           ],
           "yaxis": "y"
          },
          {
           "hovertemplate": "label=Analytic linear<br>t=1.8<br>x=%{x}<br>y=%{y}<extra></extra>",
           "legendgroup": "Analytic linear",
           "marker": {
            "color": "#00cc96",
            "symbol": "circle"
           },
           "mode": "markers",
           "name": "Analytic linear",
           "orientation": "v",
           "showlegend": true,
           "type": "scatter",
           "x": [
            0.9960963246524728
           ],
           "xaxis": "x",
           "y": [
            -1.7342987378228225
           ],
           "yaxis": "y"
          }
         ],
         "name": "1.8"
        },
        {
         "data": [
          {
           "hovertemplate": "label=lin_pendulum<br>t=1.9000000000000001<br>x=%{x}<br>y=%{y}<extra></extra>",
           "legendgroup": "lin_pendulum",
           "marker": {
            "color": "#636efa",
            "symbol": "circle"
           },
           "mode": "markers",
           "name": "lin_pendulum",
           "orientation": "v",
           "showlegend": true,
           "type": "scatter",
           "x": [
            0.7399921186412632
           ],
           "xaxis": "x",
           "y": [
            -1.8580666469071594
           ],
           "yaxis": "y"
          },
          {
           "hovertemplate": "label=nonlin_pendulum<br>t=1.9000000000000001<br>x=%{x}<br>y=%{y}<extra></extra>",
           "legendgroup": "nonlin_pendulum",
           "marker": {
            "color": "#EF553B",
            "symbol": "circle"
           },
           "mode": "markers",
           "name": "nonlin_pendulum",
           "orientation": "v",
           "showlegend": true,
           "type": "scatter",
           "x": [
            0.9358389023503907
           ],
           "xaxis": "x",
           "y": [
            -1.7675422339643305
           ],
           "yaxis": "y"
          },
          {
           "hovertemplate": "label=Analytic linear<br>t=1.9000000000000001<br>x=%{x}<br>y=%{y}<extra></extra>",
           "legendgroup": "Analytic linear",
           "marker": {
            "color": "#00cc96",
            "symbol": "circle"
           },
           "mode": "markers",
           "name": "Analytic linear",
           "orientation": "v",
           "showlegend": true,
           "type": "scatter",
           "x": [
            0.7410587467489855
           ],
           "xaxis": "x",
           "y": [
            -1.8576414976703182
           ],
           "yaxis": "y"
          }
         ],
         "name": "1.9000000000000001"
        },
        {
         "data": [
          {
           "hovertemplate": "label=lin_pendulum<br>t=2.0<br>x=%{x}<br>y=%{y}<extra></extra>",
           "legendgroup": "lin_pendulum",
           "marker": {
            "color": "#636efa",
            "symbol": "circle"
           },
           "mode": "markers",
           "name": "lin_pendulum",
           "orientation": "v",
           "showlegend": true,
           "type": "scatter",
           "x": [
            0.43339415604622167
           ],
           "xaxis": "x",
           "y": [
            -1.9524777861745273
           ],
           "yaxis": "y"
          },
          {
           "hovertemplate": "label=nonlin_pendulum<br>t=2.0<br>x=%{x}<br>y=%{y}<extra></extra>",
           "legendgroup": "nonlin_pendulum",
           "marker": {
            "color": "#EF553B",
            "symbol": "circle"
           },
           "mode": "markers",
           "name": "nonlin_pendulum",
           "orientation": "v",
           "showlegend": true,
           "type": "scatter",
           "x": [
            0.676346962767836
           ],
           "xaxis": "x",
           "y": [
            -1.882167576480565
           ],
           "yaxis": "y"
          },
          {
           "hovertemplate": "label=Analytic linear<br>t=2.0<br>x=%{x}<br>y=%{y}<extra></extra>",
           "legendgroup": "Analytic linear",
           "marker": {
            "color": "#00cc96",
            "symbol": "circle"
           },
           "mode": "markers",
           "name": "Analytic linear",
           "orientation": "v",
           "showlegend": true,
           "type": "scatter",
           "x": [
            0.43503232422878557
           ],
           "xaxis": "x",
           "y": [
            -1.9521134385265886
           ],
           "yaxis": "y"
          }
         ],
         "name": "2.0"
        },
        {
         "data": [
          {
           "hovertemplate": "label=lin_pendulum<br>t=2.1<br>x=%{x}<br>y=%{y}<extra></extra>",
           "legendgroup": "lin_pendulum",
           "marker": {
            "color": "#636efa",
            "symbol": "circle"
           },
           "mode": "markers",
           "name": "lin_pendulum",
           "orientation": "v",
           "showlegend": true,
           "type": "scatter",
           "x": [
            0.094596731137705
           ],
           "xaxis": "x",
           "y": [
            -1.9977616120193271
           ],
           "yaxis": "y"
          },
          {
           "hovertemplate": "label=nonlin_pendulum<br>t=2.1<br>x=%{x}<br>y=%{y}<extra></extra>",
           "legendgroup": "nonlin_pendulum",
           "marker": {
            "color": "#EF553B",
            "symbol": "circle"
           },
           "mode": "markers",
           "name": "nonlin_pendulum",
           "orientation": "v",
           "showlegend": true,
           "type": "scatter",
           "x": [
            0.37072680100415006
           ],
           "xaxis": "x",
           "y": [
            -1.9653400822802218
           ],
           "yaxis": "y"
          },
          {
           "hovertemplate": "label=Analytic linear<br>t=2.1<br>x=%{x}<br>y=%{y}<extra></extra>",
           "legendgroup": "Analytic linear",
           "marker": {
            "color": "#00cc96",
            "symbol": "circle"
           },
           "mode": "markers",
           "name": "Analytic linear",
           "orientation": "v",
           "showlegend": true,
           "type": "scatter",
           "x": [
            0.09645817588246722
           ],
           "xaxis": "x",
           "y": [
            -1.9976726008796903
           ],
           "yaxis": "y"
          }
         ],
         "name": "2.1"
        },
        {
         "data": [
          {
           "hovertemplate": "label=lin_pendulum<br>t=2.2<br>x=%{x}<br>y=%{y}<extra></extra>",
           "legendgroup": "lin_pendulum",
           "marker": {
            "color": "#636efa",
            "symbol": "circle"
           },
           "mode": "markers",
           "name": "lin_pendulum",
           "orientation": "v",
           "showlegend": true,
           "type": "scatter",
           "x": [
            -0.2515037242030187
           ],
           "xaxis": "x",
           "y": [
            -1.9841234529917768
           ],
           "yaxis": "y"
          },
          {
           "hovertemplate": "label=nonlin_pendulum<br>t=2.2<br>x=%{x}<br>y=%{y}<extra></extra>",
           "legendgroup": "nonlin_pendulum",
           "marker": {
            "color": "#EF553B",
            "symbol": "circle"
           },
           "mode": "markers",
           "name": "nonlin_pendulum",
           "orientation": "v",
           "showlegend": true,
           "type": "scatter",
           "x": [
            0.03793277350561299
           ],
           "xaxis": "x",
           "y": [
            -1.9996402438174152
           ],
           "yaxis": "y"
          },
          {
           "hovertemplate": "label=Analytic linear<br>t=2.2<br>x=%{x}<br>y=%{y}<extra></extra>",
           "legendgroup": "Analytic linear",
           "marker": {
            "color": "#00cc96",
            "symbol": "circle"
           },
           "mode": "markers",
           "name": "Analytic linear",
           "orientation": "v",
           "showlegend": true,
           "type": "scatter",
           "x": [
            -0.24960796328242135
           ],
           "xaxis": "x",
           "y": [
            -1.9843628359415526
           ],
           "yaxis": "y"
          }
         ],
         "name": "2.2"
        },
        {
         "data": [
          {
           "hovertemplate": "label=lin_pendulum<br>t=2.3000000000000003<br>x=%{x}<br>y=%{y}<extra></extra>",
           "legendgroup": "lin_pendulum",
           "marker": {
            "color": "#636efa",
            "symbol": "circle"
           },
           "mode": "markers",
           "name": "lin_pendulum",
           "orientation": "v",
           "showlegend": true,
           "type": "scatter",
           "x": [
            -0.578207841684157
           ],
           "xaxis": "x",
           "y": [
            -1.914595438157876
           ],
           "yaxis": "y"
          },
          {
           "hovertemplate": "label=nonlin_pendulum<br>t=2.3000000000000003<br>x=%{x}<br>y=%{y}<extra></extra>",
           "legendgroup": "nonlin_pendulum",
           "marker": {
            "color": "#EF553B",
            "symbol": "circle"
           },
           "mode": "markers",
           "name": "nonlin_pendulum",
           "orientation": "v",
           "showlegend": true,
           "type": "scatter",
           "x": [
            -0.29767772084643335
           ],
           "xaxis": "x",
           "y": [
            -1.9777229266284175
           ],
           "yaxis": "y"
          },
          {
           "hovertemplate": "label=Analytic linear<br>t=2.3000000000000003<br>x=%{x}<br>y=%{y}<extra></extra>",
           "legendgroup": "Analytic linear",
           "marker": {
            "color": "#00cc96",
            "symbol": "circle"
           },
           "mode": "markers",
           "name": "Analytic linear",
           "orientation": "v",
           "showlegend": true,
           "type": "scatter",
           "x": [
            -0.5764942170262498
           ],
           "xaxis": "x",
           "y": [
            -1.9151121162311338
           ],
           "yaxis": "y"
          }
         ],
         "name": "2.3000000000000003"
        },
        {
         "data": [
          {
           "hovertemplate": "label=lin_pendulum<br>t=2.4000000000000004<br>x=%{x}<br>y=%{y}<extra></extra>",
           "legendgroup": "lin_pendulum",
           "marker": {
            "color": "#636efa",
            "symbol": "circle"
           },
           "mode": "markers",
           "name": "lin_pendulum",
           "orientation": "v",
           "showlegend": true,
           "type": "scatter",
           "x": [
            -0.863151454921971
           ],
           "xaxis": "x",
           "y": [
            -1.8041534208226542
           ],
           "yaxis": "y"
          },
          {
           "hovertemplate": "label=nonlin_pendulum<br>t=2.4000000000000004<br>x=%{x}<br>y=%{y}<extra></extra>",
           "legendgroup": "nonlin_pendulum",
           "marker": {
            "color": "#EF553B",
            "symbol": "circle"
           },
           "mode": "markers",
           "name": "nonlin_pendulum",
           "orientation": "v",
           "showlegend": true,
           "type": "scatter",
           "x": [
            -0.6110120403385335
           ],
           "xaxis": "x",
           "y": [
            -1.90438028937535
           ],
           "yaxis": "y"
          },
          {
           "hovertemplate": "label=Analytic linear<br>t=2.4000000000000004<br>x=%{x}<br>y=%{y}<extra></extra>",
           "legendgroup": "Analytic linear",
           "marker": {
            "color": "#00cc96",
            "symbol": "circle"
           },
           "mode": "markers",
           "name": "Analytic linear",
           "orientation": "v",
           "showlegend": true,
           "type": "scatter",
           "x": [
            -0.8615975974575365
           ],
           "xaxis": "x",
           "y": [
            -1.8048960025595382
           ],
           "yaxis": "y"
          }
         ],
         "name": "2.4000000000000004"
        },
        {
         "data": [
          {
           "hovertemplate": "label=lin_pendulum<br>t=2.5<br>x=%{x}<br>y=%{y}<extra></extra>",
           "legendgroup": "lin_pendulum",
           "marker": {
            "color": "#636efa",
            "symbol": "circle"
           },
           "mode": "markers",
           "name": "lin_pendulum",
           "orientation": "v",
           "showlegend": true,
           "type": "scatter",
           "x": [
            -1.0916501196178527
           ],
           "xaxis": "x",
           "y": [
            -1.67579832209557
           ],
           "yaxis": "y"
          },
          {
           "hovertemplate": "label=nonlin_pendulum<br>t=2.5<br>x=%{x}<br>y=%{y}<extra></extra>",
           "legendgroup": "nonlin_pendulum",
           "marker": {
            "color": "#EF553B",
            "symbol": "circle"
           },
           "mode": "markers",
           "name": "nonlin_pendulum",
           "orientation": "v",
           "showlegend": true,
           "type": "scatter",
           "x": [
            -0.8820196467220508
           ],
           "xaxis": "x",
           "y": [
            -1.795004552305177
           ],
           "yaxis": "y"
          },
          {
           "hovertemplate": "label=Analytic linear<br>t=2.5<br>x=%{x}<br>y=%{y}<extra></extra>",
           "legendgroup": "Analytic linear",
           "marker": {
            "color": "#00cc96",
            "symbol": "circle"
           },
           "mode": "markers",
           "name": "Analytic linear",
           "orientation": "v",
           "showlegend": true,
           "type": "scatter",
           "x": [
            -1.0903588025081226
           ],
           "xaxis": "x",
           "y": [
            -1.6766388048095073
           ],
           "yaxis": "y"
          }
         ],
         "name": "2.5"
        },
        {
         "data": [
          {
           "hovertemplate": "label=lin_pendulum<br>t=2.6<br>x=%{x}<br>y=%{y}<extra></extra>",
           "legendgroup": "lin_pendulum",
           "marker": {
            "color": "#636efa",
            "symbol": "circle"
           },
           "mode": "markers",
           "name": "lin_pendulum",
           "orientation": "v",
           "showlegend": true,
           "type": "scatter",
           "x": [
            -1.258214080347874
           ],
           "xaxis": "x",
           "y": [
            -1.5546373622212846
           ],
           "yaxis": "y"
          },
          {
           "hovertemplate": "label=nonlin_pendulum<br>t=2.6<br>x=%{x}<br>y=%{y}<extra></extra>",
           "legendgroup": "nonlin_pendulum",
           "marker": {
            "color": "#EF553B",
            "symbol": "circle"
           },
           "mode": "markers",
           "name": "nonlin_pendulum",
           "orientation": "v",
           "showlegend": true,
           "type": "scatter",
           "x": [
            -1.0983325435568458
           ],
           "xaxis": "x",
           "y": [
            -1.6714262244454432
           ],
           "yaxis": "y"
          },
          {
           "hovertemplate": "label=Analytic linear<br>t=2.6<br>x=%{x}<br>y=%{y}<extra></extra>",
           "legendgroup": "Analytic linear",
           "marker": {
            "color": "#00cc96",
            "symbol": "circle"
           },
           "mode": "markers",
           "name": "Analytic linear",
           "orientation": "v",
           "showlegend": true,
           "type": "scatter",
           "x": [
            -1.2570595568868428
           ],
           "xaxis": "x",
           "y": [
            -1.5555710431990737
           ],
           "yaxis": "y"
          }
         ],
         "name": "2.6"
        },
        {
         "data": [
          {
           "hovertemplate": "label=lin_pendulum<br>t=2.7<br>x=%{x}<br>y=%{y}<extra></extra>",
           "legendgroup": "lin_pendulum",
           "marker": {
            "color": "#636efa",
            "symbol": "circle"
           },
           "mode": "markers",
           "name": "lin_pendulum",
           "orientation": "v",
           "showlegend": true,
           "type": "scatter",
           "x": [
            -1.363361341678768
           ],
           "xaxis": "x",
           "y": [
            -1.4632996453275964
           ],
           "yaxis": "y"
          },
          {
           "hovertemplate": "label=nonlin_pendulum<br>t=2.7<br>x=%{x}<br>y=%{y}<extra></extra>",
           "legendgroup": "nonlin_pendulum",
           "marker": {
            "color": "#EF553B",
            "symbol": "circle"
           },
           "mode": "markers",
           "name": "nonlin_pendulum",
           "orientation": "v",
           "showlegend": true,
           "type": "scatter",
           "x": [
            -1.256369888543761
           ],
           "xaxis": "x",
           "y": [
            -1.5561281127081206
           ],
           "yaxis": "y"
          },
          {
           "hovertemplate": "label=Analytic linear<br>t=2.7<br>x=%{x}<br>y=%{y}<extra></extra>",
           "legendgroup": "Analytic linear",
           "marker": {
            "color": "#00cc96",
            "symbol": "circle"
           },
           "mode": "markers",
           "name": "Analytic linear",
           "orientation": "v",
           "showlegend": true,
           "type": "scatter",
           "x": [
            -1.36257280937758
           ],
           "xaxis": "x",
           "y": [
            -1.4640339269104692
           ],
           "yaxis": "y"
          }
         ],
         "name": "2.7"
        },
        {
         "data": [
          {
           "hovertemplate": "label=lin_pendulum<br>t=2.8000000000000003<br>x=%{x}<br>y=%{y}<extra></extra>",
           "legendgroup": "lin_pendulum",
           "marker": {
            "color": "#636efa",
            "symbol": "circle"
           },
           "mode": "markers",
           "name": "lin_pendulum",
           "orientation": "v",
           "showlegend": true,
           "type": "scatter",
           "x": [
            -1.4106707165095247
           ],
           "xaxis": "x",
           "y": [
            -1.4177475549555725
           ],
           "yaxis": "y"
          },
          {
           "hovertemplate": "label=nonlin_pendulum<br>t=2.8000000000000003<br>x=%{x}<br>y=%{y}<extra></extra>",
           "legendgroup": "nonlin_pendulum",
           "marker": {
            "color": "#EF553B",
            "symbol": "circle"
           },
           "mode": "markers",
           "name": "nonlin_pendulum",
           "orientation": "v",
           "showlegend": true,
           "type": "scatter",
           "x": [
            -1.3578452627866282
           ],
           "xaxis": "x",
           "y": [
            -1.468419641086264
           ],
           "yaxis": "y"
          },
          {
           "hovertemplate": "label=Analytic linear<br>t=2.8000000000000003<br>x=%{x}<br>y=%{y}<extra></extra>",
           "legendgroup": "Analytic linear",
           "marker": {
            "color": "#00cc96",
            "symbol": "circle"
           },
           "mode": "markers",
           "name": "Analytic linear",
           "orientation": "v",
           "showlegend": true,
           "type": "scatter",
           "x": [
            -1.410480173176966
           ],
           "xaxis": "x",
           "y": [
            -1.4179371216928753
           ],
           "yaxis": "y"
          }
         ],
         "name": "2.8000000000000003"
        },
        {
         "data": [
          {
           "hovertemplate": "label=lin_pendulum<br>t=2.9000000000000004<br>x=%{x}<br>y=%{y}<extra></extra>",
           "legendgroup": "lin_pendulum",
           "marker": {
            "color": "#636efa",
            "symbol": "circle"
           },
           "mode": "markers",
           "name": "lin_pendulum",
           "orientation": "v",
           "showlegend": true,
           "type": "scatter",
           "x": [
            -1.4030302030834858
           ],
           "xaxis": "x",
           "y": [
            -1.4253091767176385
           ],
           "yaxis": "y"
          },
          {
           "hovertemplate": "label=nonlin_pendulum<br>t=2.9000000000000004<br>x=%{x}<br>y=%{y}<extra></extra>",
           "legendgroup": "nonlin_pendulum",
           "marker": {
            "color": "#EF553B",
            "symbol": "circle"
           },
           "mode": "markers",
           "name": "nonlin_pendulum",
           "orientation": "v",
           "showlegend": true,
           "type": "scatter",
           "x": [
            -1.4065596598963985
           ],
           "xaxis": "x",
           "y": [
            -1.421826263350107
           ],
           "yaxis": "y"
          },
          {
           "hovertemplate": "label=Analytic linear<br>t=2.9000000000000004<br>x=%{x}<br>y=%{y}<extra></extra>",
           "legendgroup": "Analytic linear",
           "marker": {
            "color": "#00cc96",
            "symbol": "circle"
           },
           "mode": "markers",
           "name": "Analytic linear",
           "orientation": "v",
           "showlegend": true,
           "type": "scatter",
           "x": [
            -1.4033805887910935
           ],
           "xaxis": "x",
           "y": [
            -1.4249641830601794
           ],
           "yaxis": "y"
          }
         ],
         "name": "2.9000000000000004"
        },
        {
         "data": [
          {
           "hovertemplate": "label=lin_pendulum<br>t=3.0<br>x=%{x}<br>y=%{y}<extra></extra>",
           "legendgroup": "lin_pendulum",
           "marker": {
            "color": "#636efa",
            "symbol": "circle"
           },
           "mode": "markers",
           "name": "lin_pendulum",
           "orientation": "v",
           "showlegend": true,
           "type": "scatter",
           "x": [
            -1.3402782811259737
           ],
           "xaxis": "x",
           "y": [
            -1.484470993028158
           ],
           "yaxis": "y"
          },
          {
           "hovertemplate": "label=nonlin_pendulum<br>t=3.0<br>x=%{x}<br>y=%{y}<extra></extra>",
           "legendgroup": "nonlin_pendulum",
           "marker": {
            "color": "#EF553B",
            "symbol": "circle"
           },
           "mode": "markers",
           "name": "nonlin_pendulum",
           "orientation": "v",
           "showlegend": true,
           "type": "scatter",
           "x": [
            -1.4055313462340695
           ],
           "xaxis": "x",
           "y": [
            -1.4228428004363112
           ],
           "yaxis": "y"
          },
          {
           "hovertemplate": "label=Analytic linear<br>t=3.0<br>x=%{x}<br>y=%{y}<extra></extra>",
           "legendgroup": "Analytic linear",
           "marker": {
            "color": "#00cc96",
            "symbol": "circle"
           },
           "mode": "markers",
           "name": "Analytic linear",
           "orientation": "v",
           "showlegend": true,
           "type": "scatter",
           "x": [
            -1.3408460110834644
           ],
           "xaxis": "x",
           "y": [
            -1.4839582118649979
           ],
           "yaxis": "y"
          }
         ],
         "name": "3.0"
        },
        {
         "data": [
          {
           "hovertemplate": "label=lin_pendulum<br>t=3.1<br>x=%{x}<br>y=%{y}<extra></extra>",
           "legendgroup": "lin_pendulum",
           "marker": {
            "color": "#636efa",
            "symbol": "circle"
           },
           "mode": "markers",
           "name": "lin_pendulum",
           "orientation": "v",
           "showlegend": true,
           "type": "scatter",
           "x": [
            -1.2189196267163498
           ],
           "xaxis": "x",
           "y": [
            -1.5856339248406848
           ],
           "yaxis": "y"
          },
          {
           "hovertemplate": "label=nonlin_pendulum<br>t=3.1<br>x=%{x}<br>y=%{y}<extra></extra>",
           "legendgroup": "nonlin_pendulum",
           "marker": {
            "color": "#EF553B",
            "symbol": "circle"
           },
           "mode": "markers",
           "name": "nonlin_pendulum",
           "orientation": "v",
           "showlegend": true,
           "type": "scatter",
           "x": [
            -1.3550901622809692
           ],
           "xaxis": "x",
           "y": [
            -1.470962491734353
           ],
           "yaxis": "y"
          },
          {
           "hovertemplate": "label=Analytic linear<br>t=3.1<br>x=%{x}<br>y=%{y}<extra></extra>",
           "legendgroup": "Analytic linear",
           "marker": {
            "color": "#00cc96",
            "symbol": "circle"
           },
           "mode": "markers",
           "name": "Analytic linear",
           "orientation": "v",
           "showlegend": true,
           "type": "scatter",
           "x": [
            -1.219739983933935
           ],
           "xaxis": "x",
           "y": [
            -1.5850029563356796
           ],
           "yaxis": "y"
          }
         ],
         "name": "3.1"
        },
        {
         "data": [
          {
           "hovertemplate": "label=lin_pendulum<br>t=3.2<br>x=%{x}<br>y=%{y}<extra></extra>",
           "legendgroup": "lin_pendulum",
           "marker": {
            "color": "#636efa",
            "symbol": "circle"
           },
           "mode": "markers",
           "name": "lin_pendulum",
           "orientation": "v",
           "showlegend": true,
           "type": "scatter",
           "x": [
            -1.0352961731395414
           ],
           "xaxis": "x",
           "y": [
            -1.7111872585671684
           ],
           "yaxis": "y"
          },
          {
           "hovertemplate": "label=nonlin_pendulum<br>t=3.2<br>x=%{x}<br>y=%{y}<extra></extra>",
           "legendgroup": "nonlin_pendulum",
           "marker": {
            "color": "#EF553B",
            "symbol": "circle"
           },
           "mode": "markers",
           "name": "nonlin_pendulum",
           "orientation": "v",
           "showlegend": true,
           "type": "scatter",
           "x": [
            -1.251942531774852
           ],
           "xaxis": "x",
           "y": [
            -1.55969224436527
           ],
           "yaxis": "y"
          },
          {
           "hovertemplate": "label=Analytic linear<br>t=3.2<br>x=%{x}<br>y=%{y}<extra></extra>",
           "legendgroup": "Analytic linear",
           "marker": {
            "color": "#00cc96",
            "symbol": "circle"
           },
           "mode": "markers",
           "name": "Analytic linear",
           "orientation": "v",
           "showlegend": true,
           "type": "scatter",
           "x": [
            -1.0367915136429469
           ],
           "xaxis": "x",
           "y": [
            -1.7102816602062851
           ],
           "yaxis": "y"
          }
         ],
         "name": "3.2"
        },
        {
         "data": [
          {
           "hovertemplate": "label=lin_pendulum<br>t=3.3000000000000003<br>x=%{x}<br>y=%{y}<extra></extra>",
           "legendgroup": "lin_pendulum",
           "marker": {
            "color": "#636efa",
            "symbol": "circle"
           },
           "mode": "markers",
           "name": "lin_pendulum",
           "orientation": "v",
           "showlegend": true,
           "type": "scatter",
           "x": [
            -0.7900033632782437
           ],
           "xaxis": "x",
           "y": [
            -1.837360793640994
           ],
           "yaxis": "y"
          },
          {
           "hovertemplate": "label=nonlin_pendulum<br>t=3.3000000000000003<br>x=%{x}<br>y=%{y}<extra></extra>",
           "legendgroup": "nonlin_pendulum",
           "marker": {
            "color": "#EF553B",
            "symbol": "circle"
           },
           "mode": "markers",
           "name": "nonlin_pendulum",
           "orientation": "v",
           "showlegend": true,
           "type": "scatter",
           "x": [
            -1.0918789825877702
           ],
           "xaxis": "x",
           "y": [
            -1.6756492137028847
           ],
           "yaxis": "y"
          },
          {
           "hovertemplate": "label=Analytic linear<br>t=3.3000000000000003<br>x=%{x}<br>y=%{y}<extra></extra>",
           "legendgroup": "Analytic linear",
           "marker": {
            "color": "#00cc96",
            "symbol": "circle"
           },
           "mode": "markers",
           "name": "Analytic linear",
           "orientation": "v",
           "showlegend": true,
           "type": "scatter",
           "x": [
            -0.7925008304073002
           ],
           "xaxis": "x",
           "y": [
            -1.8362849544130506
           ],
           "yaxis": "y"
          }
         ],
         "name": "3.3000000000000003"
        },
        {
         "data": [
          {
           "hovertemplate": "label=lin_pendulum<br>t=3.4000000000000004<br>x=%{x}<br>y=%{y}<extra></extra>",
           "legendgroup": "lin_pendulum",
           "marker": {
            "color": "#636efa",
            "symbol": "circle"
           },
           "mode": "markers",
           "name": "lin_pendulum",
           "orientation": "v",
           "showlegend": true,
           "type": "scatter",
           "x": [
            -0.4917420437979258
           ],
           "xaxis": "x",
           "y": [
            -1.9386051073804171
           ],
           "yaxis": "y"
          },
          {
           "hovertemplate": "label=nonlin_pendulum<br>t=3.4000000000000004<br>x=%{x}<br>y=%{y}<extra></extra>",
           "legendgroup": "nonlin_pendulum",
           "marker": {
            "color": "#EF553B",
            "symbol": "circle"
           },
           "mode": "markers",
           "name": "nonlin_pendulum",
           "orientation": "v",
           "showlegend": true,
           "type": "scatter",
           "x": [
            -0.8732234096449701
           ],
           "xaxis": "x",
           "y": [
            -1.7993001074995836
           ],
           "yaxis": "y"
          },
          {
           "hovertemplate": "label=Analytic linear<br>t=3.4000000000000004<br>x=%{x}<br>y=%{y}<extra></extra>",
           "legendgroup": "Analytic linear",
           "marker": {
            "color": "#00cc96",
            "symbol": "circle"
           },
           "mode": "markers",
           "name": "Analytic linear",
           "orientation": "v",
           "showlegend": true,
           "type": "scatter",
           "x": [
            -0.49477295389593434
           ],
           "xaxis": "x",
           "y": [
            -1.9378337710167741
           ],
           "yaxis": "y"
          }
         ],
         "name": "3.4000000000000004"
        },
        {
         "data": [
          {
           "hovertemplate": "label=lin_pendulum<br>t=3.5<br>x=%{x}<br>y=%{y}<extra></extra>",
           "legendgroup": "lin_pendulum",
           "marker": {
            "color": "#636efa",
            "symbol": "circle"
           },
           "mode": "markers",
           "name": "lin_pendulum",
           "orientation": "v",
           "showlegend": true,
           "type": "scatter",
           "x": [
            -0.15720164813554904
           ],
           "xaxis": "x",
           "y": [
            -1.9938123386676758
           ],
           "yaxis": "y"
          },
          {
           "hovertemplate": "label=nonlin_pendulum<br>t=3.5<br>x=%{x}<br>y=%{y}<extra></extra>",
           "legendgroup": "nonlin_pendulum",
           "marker": {
            "color": "#EF553B",
            "symbol": "circle"
           },
           "mode": "markers",
           "name": "nonlin_pendulum",
           "orientation": "v",
           "showlegend": true,
           "type": "scatter",
           "x": [
            -0.6005288374467278
           ],
           "xaxis": "x",
           "y": [
            -1.907712010601936
           ],
           "yaxis": "y"
          },
          {
           "hovertemplate": "label=Analytic linear<br>t=3.5<br>x=%{x}<br>y=%{y}<extra></extra>",
           "legendgroup": "Analytic linear",
           "marker": {
            "color": "#00cc96",
            "symbol": "circle"
           },
           "mode": "markers",
           "name": "Analytic linear",
           "orientation": "v",
           "showlegend": true,
           "type": "scatter",
           "x": [
            -0.1604732894839362
           ],
           "xaxis": "x",
           "y": [
            -1.9935516856510656
           ],
           "yaxis": "y"
          }
         ],
         "name": "3.5"
        },
        {
         "data": [
          {
           "hovertemplate": "label=lin_pendulum<br>t=3.6<br>x=%{x}<br>y=%{y}<extra></extra>",
           "legendgroup": "lin_pendulum",
           "marker": {
            "color": "#636efa",
            "symbol": "circle"
           },
           "mode": "markers",
           "name": "lin_pendulum",
           "orientation": "v",
           "showlegend": true,
           "type": "scatter",
           "x": [
            0.18948042564494913
           ],
           "xaxis": "x",
           "y": [
            -1.9910040603417687
           ],
           "yaxis": "y"
          },
          {
           "hovertemplate": "label=nonlin_pendulum<br>t=3.6<br>x=%{x}<br>y=%{y}<extra></extra>",
           "legendgroup": "nonlin_pendulum",
           "marker": {
            "color": "#EF553B",
            "symbol": "circle"
           },
           "mode": "markers",
           "name": "nonlin_pendulum",
           "orientation": "v",
           "showlegend": true,
           "type": "scatter",
           "x": [
            -0.28614492050093376
           ],
           "xaxis": "x",
           "y": [
            -1.9794244326246744
           ],
           "yaxis": "y"
          },
          {
           "hovertemplate": "label=Analytic linear<br>t=3.6<br>x=%{x}<br>y=%{y}<extra></extra>",
           "legendgroup": "Analytic linear",
           "marker": {
            "color": "#00cc96",
            "symbol": "circle"
           },
           "mode": "markers",
           "name": "Analytic linear",
           "orientation": "v",
           "showlegend": true,
           "type": "scatter",
           "x": [
            0.1862492370524225
           ],
           "xaxis": "x",
           "y": [
            -1.991308921713904
           ],
           "yaxis": "y"
          }
         ],
         "name": "3.6"
        },
        {
         "data": [
          {
           "hovertemplate": "label=lin_pendulum<br>t=3.7<br>x=%{x}<br>y=%{y}<extra></extra>",
           "legendgroup": "lin_pendulum",
           "marker": {
            "color": "#636efa",
            "symbol": "circle"
           },
           "mode": "markers",
           "name": "lin_pendulum",
           "orientation": "v",
           "showlegend": true,
           "type": "scatter",
           "x": [
            0.5217235129519573
           ],
           "xaxis": "x",
           "y": [
            -1.9307523342037085
           ],
           "yaxis": "y"
          },
          {
           "hovertemplate": "label=nonlin_pendulum<br>t=3.7<br>x=%{x}<br>y=%{y}<extra></extra>",
           "legendgroup": "nonlin_pendulum",
           "marker": {
            "color": "#EF553B",
            "symbol": "circle"
           },
           "mode": "markers",
           "name": "nonlin_pendulum",
           "orientation": "v",
           "showlegend": true,
           "type": "scatter",
           "x": [
            0.049500603202532634
           ],
           "xaxis": "x",
           "y": [
            -1.9993873287291248
           ],
           "yaxis": "y"
          },
          {
           "hovertemplate": "label=Analytic linear<br>t=3.7<br>x=%{x}<br>y=%{y}<extra></extra>",
           "legendgroup": "Analytic linear",
           "marker": {
            "color": "#00cc96",
            "symbol": "circle"
           },
           "mode": "markers",
           "name": "Analytic linear",
           "orientation": "v",
           "showlegend": true,
           "type": "scatter",
           "x": [
            0.5185795518143826
           ],
           "xaxis": "x",
           "y": [
            -1.9315991427933472
           ],
           "yaxis": "y"
          }
         ],
         "name": "3.7"
        },
        {
         "data": [
          {
           "hovertemplate": "label=lin_pendulum<br>t=3.8000000000000003<br>x=%{x}<br>y=%{y}<extra></extra>",
           "legendgroup": "lin_pendulum",
           "marker": {
            "color": "#636efa",
            "symbol": "circle"
           },
           "mode": "markers",
           "name": "lin_pendulum",
           "orientation": "v",
           "showlegend": true,
           "type": "scatter",
           "x": [
            0.8155911114658541
           ],
           "xaxis": "x",
           "y": [
            -1.8261465272255382
           ],
           "yaxis": "y"
          },
          {
           "hovertemplate": "label=nonlin_pendulum<br>t=3.8000000000000003<br>x=%{x}<br>y=%{y}<extra></extra>",
           "legendgroup": "nonlin_pendulum",
           "marker": {
            "color": "#EF553B",
            "symbol": "circle"
           },
           "mode": "markers",
           "name": "nonlin_pendulum",
           "orientation": "v",
           "showlegend": true,
           "type": "scatter",
           "x": [
            0.3815512550343023
           ],
           "xaxis": "x",
           "y": [
            -1.9632673378278742
           ],
           "yaxis": "y"
          },
          {
           "hovertemplate": "label=Analytic linear<br>t=3.8000000000000003<br>x=%{x}<br>y=%{y}<extra></extra>",
           "legendgroup": "Analytic linear",
           "marker": {
            "color": "#00cc96",
            "symbol": "circle"
           },
           "mode": "markers",
           "name": "Analytic linear",
           "orientation": "v",
           "showlegend": true,
           "type": "scatter",
           "x": [
            0.8127827357029976
           ],
           "xaxis": "x",
           "y": [
            -1.8273982118145873
           ],
           "yaxis": "y"
          }
         ],
         "name": "3.8000000000000003"
        },
        {
         "data": [
          {
           "hovertemplate": "label=lin_pendulum<br>t=3.9000000000000004<br>x=%{x}<br>y=%{y}<extra></extra>",
           "legendgroup": "lin_pendulum",
           "marker": {
            "color": "#636efa",
            "symbol": "circle"
           },
           "mode": "markers",
           "name": "lin_pendulum",
           "orientation": "v",
           "showlegend": true,
           "type": "scatter",
           "x": [
            1.0550534135546417
           ],
           "xaxis": "x",
           "y": [
            -1.6990768948304542
           ],
           "yaxis": "y"
          },
          {
           "hovertemplate": "label=nonlin_pendulum<br>t=3.9000000000000004<br>x=%{x}<br>y=%{y}<extra></extra>",
           "legendgroup": "nonlin_pendulum",
           "marker": {
            "color": "#EF553B",
            "symbol": "circle"
           },
           "mode": "markers",
           "name": "nonlin_pendulum",
           "orientation": "v",
           "showlegend": true,
           "type": "scatter",
           "x": [
            0.6856001345438525
           ],
           "xaxis": "x",
           "y": [
            -1.878816770074573
           ],
           "yaxis": "y"
          },
          {
           "hovertemplate": "label=Analytic linear<br>t=3.9000000000000004<br>x=%{x}<br>y=%{y}<extra></extra>",
           "legendgroup": "Analytic linear",
           "marker": {
            "color": "#00cc96",
            "symbol": "circle"
           },
           "mode": "markers",
           "name": "Analytic linear",
           "orientation": "v",
           "showlegend": true,
           "type": "scatter",
           "x": [
            1.0526484187857386
           ],
           "xaxis": "x",
           "y": [
            -1.7005679364341446
           ],
           "yaxis": "y"
          }
         ],
         "name": "3.9000000000000004"
        },
        {
         "data": [
          {
           "hovertemplate": "label=lin_pendulum<br>t=4.0<br>x=%{x}<br>y=%{y}<extra></extra>",
           "legendgroup": "lin_pendulum",
           "marker": {
            "color": "#636efa",
            "symbol": "circle"
           },
           "mode": "markers",
           "name": "lin_pendulum",
           "orientation": "v",
           "showlegend": true,
           "type": "scatter",
           "x": [
            1.2326873466691792
           ],
           "xaxis": "x",
           "y": [
            -1.5749545724755678
           ],
           "yaxis": "y"
          },
          {
           "hovertemplate": "label=nonlin_pendulum<br>t=4.0<br>x=%{x}<br>y=%{y}<extra></extra>",
           "legendgroup": "nonlin_pendulum",
           "marker": {
            "color": "#EF553B",
            "symbol": "circle"
           },
           "mode": "markers",
           "name": "nonlin_pendulum",
           "orientation": "v",
           "showlegend": true,
           "type": "scatter",
           "x": [
            0.9431032878529797
           ],
           "xaxis": "x",
           "y": [
            -1.7636768945702328
           ],
           "yaxis": "y"
          },
          {
           "hovertemplate": "label=Analytic linear<br>t=4.0<br>x=%{x}<br>y=%{y}<extra></extra>",
           "legendgroup": "Analytic linear",
           "marker": {
            "color": "#00cc96",
            "symbol": "circle"
           },
           "mode": "markers",
           "name": "Analytic linear",
           "orientation": "v",
           "showlegend": true,
           "type": "scatter",
           "x": [
            1.2309149929944803
           ],
           "xaxis": "x",
           "y": [
            -1.5763401536538357
           ],
           "yaxis": "y"
          }
         ],
         "name": "4.0"
        },
        {
         "data": [
          {
           "hovertemplate": "label=lin_pendulum<br>t=4.1000000000000005<br>x=%{x}<br>y=%{y}<extra></extra>",
           "legendgroup": "lin_pendulum",
           "marker": {
            "color": "#636efa",
            "symbol": "circle"
           },
           "mode": "markers",
           "name": "lin_pendulum",
           "orientation": "v",
           "showlegend": true,
           "type": "scatter",
           "x": [
            1.348460608948322
           ],
           "xaxis": "x",
           "y": [
            -1.4770423101978902
           ],
           "yaxis": "y"
          },
          {
           "hovertemplate": "label=nonlin_pendulum<br>t=4.1000000000000005<br>x=%{x}<br>y=%{y}<extra></extra>",
           "legendgroup": "nonlin_pendulum",
           "marker": {
            "color": "#EF553B",
            "symbol": "circle"
           },
           "mode": "markers",
           "name": "nonlin_pendulum",
           "orientation": "v",
           "showlegend": true,
           "type": "scatter",
           "x": [
            1.1443756708860238
           ],
           "xaxis": "x",
           "y": [
            -1.6402452023658425
           ],
           "yaxis": "y"
          },
          {
           "hovertemplate": "label=Analytic linear<br>t=4.1000000000000005<br>x=%{x}<br>y=%{y}<extra></extra>",
           "legendgroup": "Analytic linear",
           "marker": {
            "color": "#00cc96",
            "symbol": "circle"
           },
           "mode": "markers",
           "name": "Analytic linear",
           "orientation": "v",
           "showlegend": true,
           "type": "scatter",
           "x": [
            1.347504758968954
           ],
           "xaxis": "x",
           "y": [
            -1.4779143833646189
           ],
           "yaxis": "y"
          }
         ],
         "name": "4.1000000000000005"
        },
        {
         "data": [
          {
           "hovertemplate": "label=lin_pendulum<br>t=4.2<br>x=%{x}<br>y=%{y}<extra></extra>",
           "legendgroup": "lin_pendulum",
           "marker": {
            "color": "#636efa",
            "symbol": "circle"
           },
           "mode": "markers",
           "name": "lin_pendulum",
           "orientation": "v",
           "showlegend": true,
           "type": "scatter",
           "x": [
            1.4060300187032568
           ],
           "xaxis": "x",
           "y": [
            -1.4223500224998484
           ],
           "yaxis": "y"
          },
          {
           "hovertemplate": "label=nonlin_pendulum<br>t=4.2<br>x=%{x}<br>y=%{y}<extra></extra>",
           "legendgroup": "nonlin_pendulum",
           "marker": {
            "color": "#EF553B",
            "symbol": "circle"
           },
           "mode": "markers",
           "name": "nonlin_pendulum",
           "orientation": "v",
           "showlegend": true,
           "type": "scatter",
           "x": [
            1.2872731709100973
           ],
           "xaxis": "x",
           "y": [
            -1.5306625308849313
           ],
           "yaxis": "y"
          },
          {
           "hovertemplate": "label=Analytic linear<br>t=4.2<br>x=%{x}<br>y=%{y}<extra></extra>",
           "legendgroup": "Analytic linear",
           "marker": {
            "color": "#00cc96",
            "symbol": "circle"
           },
           "mode": "markers",
           "name": "Analytic linear",
           "orientation": "v",
           "showlegend": true,
           "type": "scatter",
           "x": [
            1.4058055567355752
           ],
           "xaxis": "x",
           "y": [
            -1.422571873984362
           ],
           "yaxis": "y"
          }
         ],
         "name": "4.2"
        },
        {
         "data": [
          {
           "hovertemplate": "label=lin_pendulum<br>t=4.3<br>x=%{x}<br>y=%{y}<extra></extra>",
           "legendgroup": "lin_pendulum",
           "marker": {
            "color": "#636efa",
            "symbol": "circle"
           },
           "mode": "markers",
           "name": "lin_pendulum",
           "orientation": "v",
           "showlegend": true,
           "type": "scatter",
           "x": [
            1.4086642394040305
           ],
           "xaxis": "x",
           "y": [
            -1.4197411949451435
           ],
           "yaxis": "y"
          },
          {
           "hovertemplate": "label=nonlin_pendulum<br>t=4.3<br>x=%{x}<br>y=%{y}<extra></extra>",
           "legendgroup": "nonlin_pendulum",
           "marker": {
            "color": "#EF553B",
            "symbol": "circle"
           },
           "mode": "markers",
           "name": "nonlin_pendulum",
           "orientation": "v",
           "showlegend": true,
           "type": "scatter",
           "x": [
            1.3746162505452442
           ],
           "xaxis": "x",
           "y": [
            -1.452731965552123
           ],
           "yaxis": "y"
          },
          {
           "hovertemplate": "label=Analytic linear<br>t=4.3<br>x=%{x}<br>y=%{y}<extra></extra>",
           "legendgroup": "Analytic linear",
           "marker": {
            "color": "#00cc96",
            "symbol": "circle"
           },
           "mode": "markers",
           "name": "Analytic linear",
           "orientation": "v",
           "showlegend": true,
           "type": "scatter",
           "x": [
            1.4088158278379594
           ],
           "xaxis": "x",
           "y": [
            -1.4195907731572661
           ],
           "yaxis": "y"
          }
         ],
         "name": "4.3"
        },
        {
         "data": [
          {
           "hovertemplate": "label=lin_pendulum<br>t=4.4<br>x=%{x}<br>y=%{y}<extra></extra>",
           "legendgroup": "lin_pendulum",
           "marker": {
            "color": "#636efa",
            "symbol": "circle"
           },
           "mode": "markers",
           "name": "lin_pendulum",
           "orientation": "v",
           "showlegend": true,
           "type": "scatter",
           "x": [
            1.35614993562362
           ],
           "xaxis": "x",
           "y": [
            -1.4699854938427288
           ],
           "yaxis": "y"
          },
          {
           "hovertemplate": "label=nonlin_pendulum<br>t=4.4<br>x=%{x}<br>y=%{y}<extra></extra>",
           "legendgroup": "nonlin_pendulum",
           "marker": {
            "color": "#EF553B",
            "symbol": "circle"
           },
           "mode": "markers",
           "name": "nonlin_pendulum",
           "orientation": "v",
           "showlegend": true,
           "type": "scatter",
           "x": [
            1.410680508610588
           ],
           "xaxis": "x",
           "y": [
            -1.4177378116655324
           ],
           "yaxis": "y"
          },
          {
           "hovertemplate": "label=Analytic linear<br>t=4.4<br>x=%{x}<br>y=%{y}<extra></extra>",
           "legendgroup": "Analytic linear",
           "marker": {
            "color": "#00cc96",
            "symbol": "circle"
           },
           "mode": "markers",
           "name": "Analytic linear",
           "orientation": "v",
           "showlegend": true,
           "type": "scatter",
           "x": [
            1.3567174139330458
           ],
           "xaxis": "x",
           "y": [
            -1.4694617581723006
           ],
           "yaxis": "y"
          }
         ],
         "name": "4.4"
        },
        {
         "data": [
          {
           "hovertemplate": "label=lin_pendulum<br>t=4.5<br>x=%{x}<br>y=%{y}<extra></extra>",
           "legendgroup": "lin_pendulum",
           "marker": {
            "color": "#636efa",
            "symbol": "circle"
           },
           "mode": "markers",
           "name": "lin_pendulum",
           "orientation": "v",
           "showlegend": true,
           "type": "scatter",
           "x": [
            1.2453059776391036
           ],
           "xaxis": "x",
           "y": [
            -1.564996173176253
           ],
           "yaxis": "y"
          },
          {
           "hovertemplate": "label=nonlin_pendulum<br>t=4.5<br>x=%{x}<br>y=%{y}<extra></extra>",
           "legendgroup": "nonlin_pendulum",
           "marker": {
            "color": "#EF553B",
            "symbol": "circle"
           },
           "mode": "markers",
           "name": "nonlin_pendulum",
           "orientation": "v",
           "showlegend": true,
           "type": "scatter",
           "x": [
            1.3973363474442613
           ],
           "xaxis": "x",
           "y": [
            -1.4308917262012282
           ],
           "yaxis": "y"
          },
          {
           "hovertemplate": "label=Analytic linear<br>t=4.5<br>x=%{x}<br>y=%{y}<extra></extra>",
           "legendgroup": "Analytic linear",
           "marker": {
            "color": "#00cc96",
            "symbol": "circle"
           },
           "mode": "markers",
           "name": "Analytic linear",
           "orientation": "v",
           "showlegend": true,
           "type": "scatter",
           "x": [
            1.2467403535642136
           ],
           "xaxis": "x",
           "y": [
            -1.5638537306265505
           ],
           "yaxis": "y"
          }
         ],
         "name": "4.5"
        },
        {
         "data": [
          {
           "hovertemplate": "label=lin_pendulum<br>t=4.6000000000000005<br>x=%{x}<br>y=%{y}<extra></extra>",
           "legendgroup": "lin_pendulum",
           "marker": {
            "color": "#636efa",
            "symbol": "circle"
           },
           "mode": "markers",
           "name": "lin_pendulum",
           "orientation": "v",
           "showlegend": true,
           "type": "scatter",
           "x": [
            1.072681357983835
           ],
           "xaxis": "x",
           "y": [
            -1.6880031706824357
           ],
           "yaxis": "y"
          },
          {
           "hovertemplate": "label=nonlin_pendulum<br>t=4.6000000000000005<br>x=%{x}<br>y=%{y}<extra></extra>",
           "legendgroup": "nonlin_pendulum",
           "marker": {
            "color": "#EF553B",
            "symbol": "circle"
           },
           "mode": "markers",
           "name": "nonlin_pendulum",
           "orientation": "v",
           "showlegend": true,
           "type": "scatter",
           "x": [
            1.3333350515984919
           ],
           "xaxis": "x",
           "y": [
            -1.490710448134998
           ],
           "yaxis": "y"
          },
          {
           "hovertemplate": "label=Analytic linear<br>t=4.6000000000000005<br>x=%{x}<br>y=%{y}<extra></extra>",
           "legendgroup": "Analytic linear",
           "marker": {
            "color": "#00cc96",
            "symbol": "circle"
           },
           "mode": "markers",
           "name": "Analytic linear",
           "orientation": "v",
           "showlegend": true,
           "type": "scatter",
           "x": [
            1.075365306009285
           ],
           "xaxis": "x",
           "y": [
            -1.6862945942603138
           ],
           "yaxis": "y"
          }
         ],
         "name": "4.6000000000000005"
        },
        {
         "data": [
          {
           "hovertemplate": "label=lin_pendulum<br>t=4.7<br>x=%{x}<br>y=%{y}<extra></extra>",
           "legendgroup": "lin_pendulum",
           "marker": {
            "color": "#636efa",
            "symbol": "circle"
           },
           "mode": "markers",
           "name": "lin_pendulum",
           "orientation": "v",
           "showlegend": true,
           "type": "scatter",
           "x": [
            0.8385260387199087
           ],
           "xaxis": "x",
           "y": [
            -1.8157296281078574
           ],
           "yaxis": "y"
          },
          {
           "hovertemplate": "label=nonlin_pendulum<br>t=4.7<br>x=%{x}<br>y=%{y}<extra></extra>",
           "legendgroup": "nonlin_pendulum",
           "marker": {
            "color": "#EF553B",
            "symbol": "circle"
           },
           "mode": "markers",
           "name": "nonlin_pendulum",
           "orientation": "v",
           "showlegend": true,
           "type": "scatter",
           "x": [
            1.215335523679723
           ],
           "xaxis": "x",
           "y": [
            -1.5883826884230807
           ],
           "yaxis": "y"
          },
          {
           "hovertemplate": "label=Analytic linear<br>t=4.7<br>x=%{x}<br>y=%{y}<extra></extra>",
           "legendgroup": "Analytic linear",
           "marker": {
            "color": "#00cc96",
            "symbol": "circle"
           },
           "mode": "markers",
           "name": "Analytic linear",
           "orientation": "v",
           "showlegend": true,
           "type": "scatter",
           "x": [
            0.8420874031255836
           ],
           "xaxis": "x",
           "y": [
            -1.8140807053428496
           ],
           "yaxis": "y"
          }
         ],
         "name": "4.7"
        },
        {
         "data": [
          {
           "hovertemplate": "label=lin_pendulum<br>t=4.800000000000001<br>x=%{x}<br>y=%{y}<extra></extra>",
           "legendgroup": "lin_pendulum",
           "marker": {
            "color": "#636efa",
            "symbol": "circle"
           },
           "mode": "markers",
           "name": "lin_pendulum",
           "orientation": "v",
           "showlegend": true,
           "type": "scatter",
           "x": [
            0.5491071251918668
           ],
           "xaxis": "x",
           "y": [
            -1.923143615298536
           ],
           "yaxis": "y"
          },
          {
           "hovertemplate": "label=nonlin_pendulum<br>t=4.800000000000001<br>x=%{x}<br>y=%{y}<extra></extra>",
           "legendgroup": "nonlin_pendulum",
           "marker": {
            "color": "#EF553B",
            "symbol": "circle"
           },
           "mode": "markers",
           "name": "nonlin_pendulum",
           "orientation": "v",
           "showlegend": true,
           "type": "scatter",
           "x": [
            1.0401081990174692
           ],
           "xaxis": "x",
           "y": [
            -1.7082666461465075
           ],
           "yaxis": "y"
          },
          {
           "hovertemplate": "label=Analytic linear<br>t=4.800000000000001<br>x=%{x}<br>y=%{y}<extra></extra>",
           "legendgroup": "Analytic linear",
           "marker": {
            "color": "#00cc96",
            "symbol": "circle"
           },
           "mode": "markers",
           "name": "Analytic linear",
           "orientation": "v",
           "showlegend": true,
           "type": "scatter",
           "x": [
            0.5532402193303568
           ],
           "xaxis": "x",
           "y": [
            -1.9219587039567991
           ],
           "yaxis": "y"
          }
         ],
         "name": "4.800000000000001"
        },
        {
         "data": [
          {
           "hovertemplate": "label=lin_pendulum<br>t=4.9<br>x=%{x}<br>y=%{y}<extra></extra>",
           "legendgroup": "lin_pendulum",
           "marker": {
            "color": "#636efa",
            "symbol": "circle"
           },
           "mode": "markers",
           "name": "lin_pendulum",
           "orientation": "v",
           "showlegend": true,
           "type": "scatter",
           "x": [
            0.21957236397815844
           ],
           "xaxis": "x",
           "y": [
            -1.9879104549694997
           ],
           "yaxis": "y"
          },
          {
           "hovertemplate": "label=nonlin_pendulum<br>t=4.9<br>x=%{x}<br>y=%{y}<extra></extra>",
           "legendgroup": "nonlin_pendulum",
           "marker": {
            "color": "#EF553B",
            "symbol": "circle"
           },
           "mode": "markers",
           "name": "nonlin_pendulum",
           "orientation": "v",
           "showlegend": true,
           "type": "scatter",
           "x": [
            0.8072184122375248
           ],
           "xaxis": "x",
           "y": [
            -1.8298629552359187
           ],
           "yaxis": "y"
          },
          {
           "hovertemplate": "label=Analytic linear<br>t=4.9<br>x=%{x}<br>y=%{y}<extra></extra>",
           "legendgroup": "Analytic linear",
           "marker": {
            "color": "#00cc96",
            "symbol": "circle"
           },
           "mode": "markers",
           "name": "Analytic linear",
           "orientation": "v",
           "showlegend": true,
           "type": "scatter",
           "x": [
            0.22405527732296227
           ],
           "xaxis": "x",
           "y": [
            -1.9874101822984933
           ],
           "yaxis": "y"
          }
         ],
         "name": "4.9"
        },
        {
         "data": [
          {
           "hovertemplate": "label=lin_pendulum<br>t=5.0<br>x=%{x}<br>y=%{y}<extra></extra>",
           "legendgroup": "lin_pendulum",
           "marker": {
            "color": "#636efa",
            "symbol": "circle"
           },
           "mode": "markers",
           "name": "lin_pendulum",
           "orientation": "v",
           "showlegend": true,
           "type": "scatter",
           "x": [
            -0.12715816138430053
           ],
           "xaxis": "x",
           "y": [
            -1.9959536071746167
           ],
           "yaxis": "y"
          },
          {
           "hovertemplate": "label=nonlin_pendulum<br>t=5.0<br>x=%{x}<br>y=%{y}<extra></extra>",
           "legendgroup": "nonlin_pendulum",
           "marker": {
            "color": "#EF553B",
            "symbol": "circle"
           },
           "mode": "markers",
           "name": "nonlin_pendulum",
           "orientation": "v",
           "showlegend": true,
           "type": "scatter",
           "x": [
            0.52257026254204
           ],
           "xaxis": "x",
           "y": [
            -1.9305233281954257
           ],
           "yaxis": "y"
          },
          {
           "hovertemplate": "label=Analytic linear<br>t=5.0<br>x=%{x}<br>y=%{y}<extra></extra>",
           "legendgroup": "Analytic linear",
           "marker": {
            "color": "#00cc96",
            "symbol": "circle"
           },
           "mode": "markers",
           "name": "Analytic linear",
           "orientation": "v",
           "showlegend": true,
           "type": "scatter",
           "x": [
            -0.12238874961891469
           ],
           "xaxis": "x",
           "y": [
            -1.9962517361211534
           ],
           "yaxis": "y"
          }
         ],
         "name": "5.0"
        },
        {
         "data": [
          {
           "hovertemplate": "label=lin_pendulum<br>t=5.1000000000000005<br>x=%{x}<br>y=%{y}<extra></extra>",
           "legendgroup": "lin_pendulum",
           "marker": {
            "color": "#636efa",
            "symbol": "circle"
           },
           "mode": "markers",
           "name": "lin_pendulum",
           "orientation": "v",
           "showlegend": true,
           "type": "scatter",
           "x": [
            -0.46396398780634274
           ],
           "xaxis": "x",
           "y": [
            -1.9454401604826697
           ],
           "yaxis": "y"
          },
          {
           "hovertemplate": "label=nonlin_pendulum<br>t=5.1000000000000005<br>x=%{x}<br>y=%{y}<extra></extra>",
           "legendgroup": "nonlin_pendulum",
           "marker": {
            "color": "#EF553B",
            "symbol": "circle"
           },
           "mode": "markers",
           "name": "nonlin_pendulum",
           "orientation": "v",
           "showlegend": true,
           "type": "scatter",
           "x": [
            0.20045580646076006
           ],
           "xaxis": "x",
           "y": [
            -1.9899290112102408
           ],
           "yaxis": "y"
          },
          {
           "hovertemplate": "label=Analytic linear<br>t=5.1000000000000005<br>x=%{x}<br>y=%{y}<extra></extra>",
           "legendgroup": "Analytic linear",
           "marker": {
            "color": "#00cc96",
            "symbol": "circle"
           },
           "mode": "markers",
           "name": "Analytic linear",
           "orientation": "v",
           "showlegend": true,
           "type": "scatter",
           "x": [
            -0.4593375764894058
           ],
           "xaxis": "x",
           "y": [
            -1.9465376931425806
           ],
           "yaxis": "y"
          }
         ],
         "name": "5.1000000000000005"
        },
        {
         "data": [
          {
           "hovertemplate": "label=lin_pendulum<br>t=5.2<br>x=%{x}<br>y=%{y}<extra></extra>",
           "legendgroup": "lin_pendulum",
           "marker": {
            "color": "#636efa",
            "symbol": "circle"
           },
           "mode": "markers",
           "name": "lin_pendulum",
           "orientation": "v",
           "showlegend": true,
           "type": "scatter",
           "x": [
            -0.7663242513380227
           ],
           "xaxis": "x",
           "y": [
            -1.8473622118607977
           ],
           "yaxis": "y"
          },
          {
           "hovertemplate": "label=nonlin_pendulum<br>t=5.2<br>x=%{x}<br>y=%{y}<extra></extra>",
           "legendgroup": "nonlin_pendulum",
           "marker": {
            "color": "#EF553B",
            "symbol": "circle"
           },
           "mode": "markers",
           "name": "nonlin_pendulum",
           "orientation": "v",
           "showlegend": true,
           "type": "scatter",
           "x": [
            -0.1371588163254978
           ],
           "xaxis": "x",
           "y": [
            -1.995291321863599
           ],
           "yaxis": "y"
          },
          {
           "hovertemplate": "label=Analytic linear<br>t=5.2<br>x=%{x}<br>y=%{y}<extra></extra>",
           "legendgroup": "Analytic linear",
           "marker": {
            "color": "#00cc96",
            "symbol": "circle"
           },
           "mode": "markers",
           "name": "Analytic linear",
           "orientation": "v",
           "showlegend": true,
           "type": "scatter",
           "x": [
            -0.7620815896782827
           ],
           "xaxis": "x",
           "y": [
            -1.8491164513554634
           ],
           "yaxis": "y"
          }
         ],
         "name": "5.2"
        },
        {
         "data": [
          {
           "hovertemplate": "label=lin_pendulum<br>t=5.300000000000001<br>x=%{x}<br>y=%{y}<extra></extra>",
           "legendgroup": "lin_pendulum",
           "marker": {
            "color": "#636efa",
            "symbol": "circle"
           },
           "mode": "markers",
           "name": "lin_pendulum",
           "orientation": "v",
           "showlegend": true,
           "type": "scatter",
           "x": [
            -1.0162604638533048
           ],
           "xaxis": "x",
           "y": [
            -1.7225604980983007
           ],
           "yaxis": "y"
          },
          {
           "hovertemplate": "label=nonlin_pendulum<br>t=5.300000000000001<br>x=%{x}<br>y=%{y}<extra></extra>",
           "legendgroup": "nonlin_pendulum",
           "marker": {
            "color": "#EF553B",
            "symbol": "circle"
           },
           "mode": "markers",
           "name": "nonlin_pendulum",
           "orientation": "v",
           "showlegend": true,
           "type": "scatter",
           "x": [
            -0.464075087424469
           ],
           "xaxis": "x",
           "y": [
            -1.945413661212435
           ],
           "yaxis": "y"
          },
          {
           "hovertemplate": "label=Analytic linear<br>t=5.300000000000001<br>x=%{x}<br>y=%{y}<extra></extra>",
           "legendgroup": "Analytic linear",
           "marker": {
            "color": "#00cc96",
            "symbol": "circle"
           },
           "mode": "markers",
           "name": "Analytic linear",
           "orientation": "v",
           "showlegend": true,
           "type": "scatter",
           "x": [
            -1.0128085015880999
           ],
           "xaxis": "x",
           "y": [
            -1.7245923979627382
           ],
           "yaxis": "y"
          }
         ],
         "name": "5.300000000000001"
        },
        {
         "data": [
          {
           "hovertemplate": "label=lin_pendulum<br>t=5.4<br>x=%{x}<br>y=%{y}<extra></extra>",
           "legendgroup": "lin_pendulum",
           "marker": {
            "color": "#636efa",
            "symbol": "circle"
           },
           "mode": "markers",
           "name": "lin_pendulum",
           "orientation": "v",
           "showlegend": true,
           "type": "scatter",
           "x": [
            -1.2050413320596003
           ],
           "xaxis": "x",
           "y": [
            -1.5962065618296475
           ],
           "yaxis": "y"
          },
          {
           "hovertemplate": "label=nonlin_pendulum<br>t=5.4<br>x=%{x}<br>y=%{y}<extra></extra>",
           "legendgroup": "nonlin_pendulum",
           "marker": {
            "color": "#EF553B",
            "symbol": "circle"
           },
           "mode": "markers",
           "name": "nonlin_pendulum",
           "orientation": "v",
           "showlegend": true,
           "type": "scatter",
           "x": [
            -0.7574020370564395
           ],
           "xaxis": "x",
           "y": [
            -1.8510381287976636
           ],
           "yaxis": "y"
          },
          {
           "hovertemplate": "label=Analytic linear<br>t=5.4<br>x=%{x}<br>y=%{y}<extra></extra>",
           "legendgroup": "Analytic linear",
           "marker": {
            "color": "#00cc96",
            "symbol": "circle"
           },
           "mode": "markers",
           "name": "Analytic linear",
           "orientation": "v",
           "showlegend": true,
           "type": "scatter",
           "x": [
            -1.2026491960465744
           ],
           "xaxis": "x",
           "y": [
            -1.5980096718257146
           ],
           "yaxis": "y"
          }
         ],
         "name": "5.4"
        },
        {
         "data": [
          {
           "hovertemplate": "label=lin_pendulum<br>t=5.5<br>x=%{x}<br>y=%{y}<extra></extra>",
           "legendgroup": "lin_pendulum",
           "marker": {
            "color": "#636efa",
            "symbol": "circle"
           },
           "mode": "markers",
           "name": "lin_pendulum",
           "orientation": "v",
           "showlegend": true,
           "type": "scatter",
           "x": [
            -1.3318263668942656
           ],
           "xaxis": "x",
           "y": [
            -1.4920584869385052
           ],
           "yaxis": "y"
          },
          {
           "hovertemplate": "label=nonlin_pendulum<br>t=5.5<br>x=%{x}<br>y=%{y}<extra></extra>",
           "legendgroup": "nonlin_pendulum",
           "marker": {
            "color": "#EF553B",
            "symbol": "circle"
           },
           "mode": "markers",
           "name": "nonlin_pendulum",
           "orientation": "v",
           "showlegend": true,
           "type": "scatter",
           "x": [
            -1.0008124131094394
           ],
           "xaxis": "x",
           "y": [
            -1.7315815065327016
           ],
           "yaxis": "y"
          },
          {
           "hovertemplate": "label=Analytic linear<br>t=5.5<br>x=%{x}<br>y=%{y}<extra></extra>",
           "legendgroup": "Analytic linear",
           "marker": {
            "color": "#00cc96",
            "symbol": "circle"
           },
           "mode": "markers",
           "name": "Analytic linear",
           "orientation": "v",
           "showlegend": true,
           "type": "scatter",
           "x": [
            -1.3304426828745877
           ],
           "xaxis": "x",
           "y": [
            -1.4932924253425615
           ],
           "yaxis": "y"
          }
         ],
         "name": "5.5"
        },
        {
         "data": [
          {
           "hovertemplate": "label=lin_pendulum<br>t=5.6000000000000005<br>x=%{x}<br>y=%{y}<extra></extra>",
           "legendgroup": "lin_pendulum",
           "marker": {
            "color": "#636efa",
            "symbol": "circle"
           },
           "mode": "markers",
           "name": "lin_pendulum",
           "orientation": "v",
           "showlegend": true,
           "type": "scatter",
           "x": [
            -1.3999219702805286
           ],
           "xaxis": "x",
           "y": [
            -1.4283621659529782
           ],
           "yaxis": "y"
          },
          {
           "hovertemplate": "label=nonlin_pendulum<br>t=5.6000000000000005<br>x=%{x}<br>y=%{y}<extra></extra>",
           "legendgroup": "nonlin_pendulum",
           "marker": {
            "color": "#EF553B",
            "symbol": "circle"
           },
           "mode": "markers",
           "name": "nonlin_pendulum",
           "orientation": "v",
           "showlegend": true,
           "type": "scatter",
           "x": [
            -1.186709723729188
           ],
           "xaxis": "x",
           "y": [
            -1.6098819930686208
           ],
           "yaxis": "y"
          },
          {
           "hovertemplate": "label=Analytic linear<br>t=5.6000000000000005<br>x=%{x}<br>y=%{y}<extra></extra>",
           "legendgroup": "Analytic linear",
           "marker": {
            "color": "#00cc96",
            "symbol": "circle"
           },
           "mode": "markers",
           "name": "Analytic linear",
           "orientation": "v",
           "showlegend": true,
           "type": "scatter",
           "x": [
            -1.3992465801198866
           ],
           "xaxis": "x",
           "y": [
            -1.4290237954711609
           ],
           "yaxis": "y"
          }
         ],
         "name": "5.6000000000000005"
        },
        {
         "data": [
          {
           "hovertemplate": "label=lin_pendulum<br>t=5.7<br>x=%{x}<br>y=%{y}<extra></extra>",
           "legendgroup": "lin_pendulum",
           "marker": {
            "color": "#636efa",
            "symbol": "circle"
           },
           "mode": "markers",
           "name": "lin_pendulum",
           "orientation": "v",
           "showlegend": true,
           "type": "scatter",
           "x": [
            -1.4124504093642412
           ],
           "xaxis": "x",
           "y": [
            -1.4159745199285148
           ],
           "yaxis": "y"
          },
          {
           "hovertemplate": "label=nonlin_pendulum<br>t=5.7<br>x=%{x}<br>y=%{y}<extra></extra>",
           "legendgroup": "nonlin_pendulum",
           "marker": {
            "color": "#EF553B",
            "symbol": "circle"
           },
           "mode": "markers",
           "name": "nonlin_pendulum",
           "orientation": "v",
           "showlegend": true,
           "type": "scatter",
           "x": [
            -1.3146234820135954
           ],
           "xaxis": "x",
           "y": [
            -1.5072375726933196
           ],
           "yaxis": "y"
          },
          {
           "hovertemplate": "label=Analytic linear<br>t=5.7<br>x=%{x}<br>y=%{y}<extra></extra>",
           "legendgroup": "Analytic linear",
           "marker": {
            "color": "#00cc96",
            "symbol": "circle"
           },
           "mode": "markers",
           "name": "Analytic linear",
           "orientation": "v",
           "showlegend": true,
           "type": "scatter",
           "x": [
            -1.4123733216334216
           ],
           "xaxis": "x",
           "y": [
            -1.4160514116154737
           ],
           "yaxis": "y"
          }
         ],
         "name": "5.7"
        },
        {
         "data": [
          {
           "hovertemplate": "label=lin_pendulum<br>t=5.800000000000001<br>x=%{x}<br>y=%{y}<extra></extra>",
           "legendgroup": "lin_pendulum",
           "marker": {
            "color": "#636efa",
            "symbol": "circle"
           },
           "mode": "markers",
           "name": "lin_pendulum",
           "orientation": "v",
           "showlegend": true,
           "type": "scatter",
           "x": [
            -1.3697259435057112
           ],
           "xaxis": "x",
           "y": [
            -1.4573437616730616
           ],
           "yaxis": "y"
          },
          {
           "hovertemplate": "label=nonlin_pendulum<br>t=5.800000000000001<br>x=%{x}<br>y=%{y}<extra></extra>",
           "legendgroup": "nonlin_pendulum",
           "marker": {
            "color": "#EF553B",
            "symbol": "circle"
           },
           "mode": "markers",
           "name": "nonlin_pendulum",
           "orientation": "v",
           "showlegend": true,
           "type": "scatter",
           "x": [
            -1.3882012676804092
           ],
           "xaxis": "x",
           "y": [
            -1.4397559655755918
           ],
           "yaxis": "y"
          },
          {
           "hovertemplate": "label=Analytic linear<br>t=5.800000000000001<br>x=%{x}<br>y=%{y}<extra></extra>",
           "legendgroup": "Analytic linear",
           "marker": {
            "color": "#00cc96",
            "symbol": "circle"
           },
           "mode": "markers",
           "name": "Analytic linear",
           "orientation": "v",
           "showlegend": true,
           "type": "scatter",
           "x": [
            -1.370609881153235
           ],
           "xaxis": "x",
           "y": [
            -1.4565124625917607
           ],
           "yaxis": "y"
          }
         ],
         "name": "5.800000000000001"
        },
        {
         "data": [
          {
           "hovertemplate": "label=lin_pendulum<br>t=5.9<br>x=%{x}<br>y=%{y}<extra></extra>",
           "legendgroup": "lin_pendulum",
           "marker": {
            "color": "#636efa",
            "symbol": "circle"
           },
           "mode": "markers",
           "name": "lin_pendulum",
           "orientation": "v",
           "showlegend": true,
           "type": "scatter",
           "x": [
            -1.2693877600527042
           ],
           "xaxis": "x",
           "y": [
            -1.5455273257462574
           ],
           "yaxis": "y"
          },
          {
           "hovertemplate": "label=nonlin_pendulum<br>t=5.9<br>x=%{x}<br>y=%{y}<extra></extra>",
           "legendgroup": "nonlin_pendulum",
           "marker": {
            "color": "#EF553B",
            "symbol": "circle"
           },
           "mode": "markers",
           "name": "nonlin_pendulum",
           "orientation": "v",
           "showlegend": true,
           "type": "scatter",
           "x": [
            -1.411041180334318
           ],
           "xaxis": "x",
           "y": [
            -1.4173788439936355
           ],
           "yaxis": "y"
          },
          {
           "hovertemplate": "label=Analytic linear<br>t=5.9<br>x=%{x}<br>y=%{y}<extra></extra>",
           "legendgroup": "Analytic linear",
           "marker": {
            "color": "#00cc96",
            "symbol": "circle"
           },
           "mode": "markers",
           "name": "Analytic linear",
           "orientation": "v",
           "showlegend": true,
           "type": "scatter",
           "x": [
            -1.2716303549871366
           ],
           "xaxis": "x",
           "y": [
            -1.543682687690475
           ],
           "yaxis": "y"
          }
         ],
         "name": "5.9"
        },
        {
         "data": [
          {
           "hovertemplate": "label=lin_pendulum<br>t=6.0<br>x=%{x}<br>y=%{y}<extra></extra>",
           "legendgroup": "lin_pendulum",
           "marker": {
            "color": "#636efa",
            "symbol": "circle"
           },
           "mode": "markers",
           "name": "lin_pendulum",
           "orientation": "v",
           "showlegend": true,
           "type": "scatter",
           "x": [
            -1.108357487788212
           ],
           "xaxis": "x",
           "y": [
            -1.6647953866057543
           ],
           "yaxis": "y"
          },
          {
           "hovertemplate": "label=nonlin_pendulum<br>t=6.0<br>x=%{x}<br>y=%{y}<extra></extra>",
           "legendgroup": "nonlin_pendulum",
           "marker": {
            "color": "#EF553B",
            "symbol": "circle"
           },
           "mode": "markers",
           "name": "nonlin_pendulum",
           "orientation": "v",
           "showlegend": true,
           "type": "scatter",
           "x": [
            -1.3842390952012777
           ],
           "xaxis": "x",
           "y": [
            -1.4435657682684042
           ],
           "yaxis": "y"
          },
          {
           "hovertemplate": "label=Analytic linear<br>t=6.0<br>x=%{x}<br>y=%{y}<extra></extra>",
           "legendgroup": "Analytic linear",
           "marker": {
            "color": "#00cc96",
            "symbol": "circle"
           },
           "mode": "markers",
           "name": "Analytic linear",
           "orientation": "v",
           "showlegend": true,
           "type": "scatter",
           "x": [
            -1.111800192958061
           ],
           "xaxis": "x",
           "y": [
            -1.6624982198301501
           ],
           "yaxis": "y"
          }
         ],
         "name": "6.0"
        },
        {
         "data": [
          {
           "hovertemplate": "label=lin_pendulum<br>t=6.1000000000000005<br>x=%{x}<br>y=%{y}<extra></extra>",
           "legendgroup": "lin_pendulum",
           "marker": {
            "color": "#636efa",
            "symbol": "circle"
           },
           "mode": "markers",
           "name": "lin_pendulum",
           "orientation": "v",
           "showlegend": true,
           "type": "scatter",
           "x": [
            -0.8853614388805309
           ],
           "xaxis": "x",
           "y": [
            -1.793358615152975
           ],
           "yaxis": "y"
          },
          {
           "hovertemplate": "label=nonlin_pendulum<br>t=6.1000000000000005<br>x=%{x}<br>y=%{y}<extra></extra>",
           "legendgroup": "nonlin_pendulum",
           "marker": {
            "color": "#EF553B",
            "symbol": "circle"
           },
           "mode": "markers",
           "name": "nonlin_pendulum",
           "orientation": "v",
           "showlegend": true,
           "type": "scatter",
           "x": [
            -1.306216888118483
           ],
           "xaxis": "x",
           "y": [
            -1.5145287851982432
           ],
           "yaxis": "y"
          },
          {
           "hovertemplate": "label=Analytic linear<br>t=6.1000000000000005<br>x=%{x}<br>y=%{y}<extra></extra>",
           "legendgroup": "Analytic linear",
           "marker": {
            "color": "#00cc96",
            "symbol": "circle"
           },
           "mode": "markers",
           "name": "Analytic linear",
           "orientation": "v",
           "showlegend": true,
           "type": "scatter",
           "x": [
            -0.8897456922419249
           ],
           "xaxis": "x",
           "y": [
            -1.791187484083377
           ],
           "yaxis": "y"
          }
         ],
         "name": "6.1000000000000005"
        },
        {
         "data": [
          {
           "hovertemplate": "label=lin_pendulum<br>t=6.2<br>x=%{x}<br>y=%{y}<extra></extra>",
           "legendgroup": "lin_pendulum",
           "marker": {
            "color": "#636efa",
            "symbol": "circle"
           },
           "mode": "markers",
           "name": "lin_pendulum",
           "orientation": "v",
           "showlegend": true,
           "type": "scatter",
           "x": [
            -0.6050940652625109
           ],
           "xaxis": "x",
           "y": [
            -1.906268913921666
           ],
           "yaxis": "y"
          },
          {
           "hovertemplate": "label=nonlin_pendulum<br>t=6.2<br>x=%{x}<br>y=%{y}<extra></extra>",
           "legendgroup": "nonlin_pendulum",
           "marker": {
            "color": "#EF553B",
            "symbol": "circle"
           },
           "mode": "markers",
           "name": "nonlin_pendulum",
           "orientation": "v",
           "showlegend": true,
           "type": "scatter",
           "x": [
            -1.1736539322275252
           ],
           "xaxis": "x",
           "y": [
            -1.619424727292648
           ],
           "yaxis": "y"
          },
          {
           "hovertemplate": "label=Analytic linear<br>t=6.2<br>x=%{x}<br>y=%{y}<extra></extra>",
           "legendgroup": "Analytic linear",
           "marker": {
            "color": "#00cc96",
            "symbol": "circle"
           },
           "mode": "markers",
           "name": "Analytic linear",
           "orientation": "v",
           "showlegend": true,
           "type": "scatter",
           "x": [
            -0.6103035610462992
           ],
           "xaxis": "x",
           "y": [
            -1.9046074565049371
           ],
           "yaxis": "y"
          }
         ],
         "name": "6.2"
        },
        {
         "data": [
          {
           "hovertemplate": "label=lin_pendulum<br>t=6.300000000000001<br>x=%{x}<br>y=%{y}<extra></extra>",
           "legendgroup": "lin_pendulum",
           "marker": {
            "color": "#636efa",
            "symbol": "circle"
           },
           "mode": "markers",
           "name": "lin_pendulum",
           "orientation": "v",
           "showlegend": true,
           "type": "scatter",
           "x": [
            -0.28101602626480465
           ],
           "xaxis": "x",
           "y": [
            -1.9801590827462168
           ],
           "yaxis": "y"
          },
          {
           "hovertemplate": "label=nonlin_pendulum<br>t=6.300000000000001<br>x=%{x}<br>y=%{y}<extra></extra>",
           "legendgroup": "nonlin_pendulum",
           "marker": {
            "color": "#EF553B",
            "symbol": "circle"
           },
           "mode": "markers",
           "name": "nonlin_pendulum",
           "orientation": "v",
           "showlegend": true,
           "type": "scatter",
           "x": [
            -0.9833580930059399
           ],
           "xaxis": "x",
           "y": [
            -1.7415530026156887
           ],
           "yaxis": "y"
          },
          {
           "hovertemplate": "label=Analytic linear<br>t=6.300000000000001<br>x=%{x}<br>y=%{y}<extra></extra>",
           "legendgroup": "Analytic linear",
           "marker": {
            "color": "#00cc96",
            "symbol": "circle"
           },
           "mode": "markers",
           "name": "Analytic linear",
           "orientation": "v",
           "showlegend": true,
           "type": "scatter",
           "x": [
            -0.2870356102066319
           ],
           "xaxis": "x",
           "y": [
            -1.9792954702300782
           ],
           "yaxis": "y"
          }
         ],
         "name": "6.300000000000001"
        },
        {
         "data": [
          {
           "hovertemplate": "label=lin_pendulum<br>t=6.4<br>x=%{x}<br>y=%{y}<extra></extra>",
           "legendgroup": "lin_pendulum",
           "marker": {
            "color": "#636efa",
            "symbol": "circle"
           },
           "mode": "markers",
           "name": "lin_pendulum",
           "orientation": "v",
           "showlegend": true,
           "type": "scatter",
           "x": [
            0.0645641733275026
           ],
           "xaxis": "x",
           "y": [
            -1.9989575952287073
           ],
           "yaxis": "y"
          },
          {
           "hovertemplate": "label=nonlin_pendulum<br>t=6.4<br>x=%{x}<br>y=%{y}<extra></extra>",
           "legendgroup": "nonlin_pendulum",
           "marker": {
            "color": "#EF553B",
            "symbol": "circle"
           },
           "mode": "markers",
           "name": "nonlin_pendulum",
           "orientation": "v",
           "showlegend": true,
           "type": "scatter",
           "x": [
            -0.7360226109421827
           ],
           "xaxis": "x",
           "y": [
            -1.8596426313089975
           ],
           "yaxis": "y"
          },
          {
           "hovertemplate": "label=Analytic linear<br>t=6.4<br>x=%{x}<br>y=%{y}<extra></extra>",
           "legendgroup": "Analytic linear",
           "marker": {
            "color": "#00cc96",
            "symbol": "circle"
           },
           "mode": "markers",
           "name": "Analytic linear",
           "orientation": "v",
           "showlegend": true,
           "type": "scatter",
           "x": [
            0.05819718911593129
           ],
           "xaxis": "x",
           "y": [
            -1.999153092481665
           ],
           "yaxis": "y"
          }
         ],
         "name": "6.4"
        },
        {
         "data": [
          {
           "hovertemplate": "label=lin_pendulum<br>t=6.5<br>x=%{x}<br>y=%{y}<extra></extra>",
           "legendgroup": "lin_pendulum",
           "marker": {
            "color": "#636efa",
            "symbol": "circle"
           },
           "mode": "markers",
           "name": "lin_pendulum",
           "orientation": "v",
           "showlegend": true,
           "type": "scatter",
           "x": [
            0.40514459484708987
           ],
           "xaxis": "x",
           "y": [
            -1.9585346198794107
           ],
           "yaxis": "y"
          },
          {
           "hovertemplate": "label=nonlin_pendulum<br>t=6.5<br>x=%{x}<br>y=%{y}<extra></extra>",
           "legendgroup": "nonlin_pendulum",
           "marker": {
            "color": "#EF553B",
            "symbol": "circle"
           },
           "mode": "markers",
           "name": "nonlin_pendulum",
           "orientation": "v",
           "showlegend": true,
           "type": "scatter",
           "x": [
            -0.4396658205916802
           ],
           "xaxis": "x",
           "y": [
            -1.9510750795916196
           ],
           "yaxis": "y"
          },
          {
           "hovertemplate": "label=Analytic linear<br>t=6.5<br>x=%{x}<br>y=%{y}<extra></extra>",
           "legendgroup": "Analytic linear",
           "marker": {
            "color": "#00cc96",
            "symbol": "circle"
           },
           "mode": "markers",
           "name": "Analytic linear",
           "orientation": "v",
           "showlegend": true,
           "type": "scatter",
           "x": [
            0.39890439222730656
           ],
           "xaxis": "x",
           "y": [
            -1.9598151152243324
           ],
           "yaxis": "y"
          }
         ],
         "name": "6.5"
        },
        {
         "data": [
          {
           "hovertemplate": "label=lin_pendulum<br>t=6.6000000000000005<br>x=%{x}<br>y=%{y}<extra></extra>",
           "legendgroup": "lin_pendulum",
           "marker": {
            "color": "#636efa",
            "symbol": "circle"
           },
           "mode": "markers",
           "name": "lin_pendulum",
           "orientation": "v",
           "showlegend": true,
           "type": "scatter",
           "x": [
            0.7150960366446767
           ],
           "xaxis": "x",
           "y": [
            -1.8677895112605905
           ],
           "yaxis": "y"
          },
          {
           "hovertemplate": "label=nonlin_pendulum<br>t=6.6000000000000005<br>x=%{x}<br>y=%{y}<extra></extra>",
           "legendgroup": "nonlin_pendulum",
           "marker": {
            "color": "#EF553B",
            "symbol": "circle"
           },
           "mode": "markers",
           "name": "nonlin_pendulum",
           "orientation": "v",
           "showlegend": true,
           "type": "scatter",
           "x": [
            -0.111262333143866
           ],
           "xaxis": "x",
           "y": [
            -1.9969027751053339
           ],
           "yaxis": "y"
          },
          {
           "hovertemplate": "label=Analytic linear<br>t=6.6000000000000005<br>x=%{x}<br>y=%{y}<extra></extra>",
           "legendgroup": "Analytic linear",
           "marker": {
            "color": "#00cc96",
            "symbol": "circle"
           },
           "mode": "markers",
           "name": "Analytic linear",
           "orientation": "v",
           "showlegend": true,
           "type": "scatter",
           "x": [
            0.7095735788211373
           ],
           "xaxis": "x",
           "y": [
            -1.869894471952619
           ],
           "yaxis": "y"
          }
         ],
         "name": "6.6000000000000005"
        },
        {
         "data": [
          {
           "hovertemplate": "label=lin_pendulum<br>t=6.7<br>x=%{x}<br>y=%{y}<extra></extra>",
           "legendgroup": "lin_pendulum",
           "marker": {
            "color": "#636efa",
            "symbol": "circle"
           },
           "mode": "markers",
           "name": "lin_pendulum",
           "orientation": "v",
           "showlegend": true,
           "type": "scatter",
           "x": [
            0.975249804210954
           ],
           "xaxis": "x",
           "y": [
            -1.7461064742410457
           ],
           "yaxis": "y"
          },
          {
           "hovertemplate": "label=nonlin_pendulum<br>t=6.7<br>x=%{x}<br>y=%{y}<extra></extra>",
           "legendgroup": "nonlin_pendulum",
           "marker": {
            "color": "#EF553B",
            "symbol": "circle"
           },
           "mode": "markers",
           "name": "nonlin_pendulum",
           "orientation": "v",
           "showlegend": true,
           "type": "scatter",
           "x": [
            0.225417037707049
           ],
           "xaxis": "x",
           "y": [
            -1.9872561885955669
           ],
           "yaxis": "y"
          },
          {
           "hovertemplate": "label=Analytic linear<br>t=6.7<br>x=%{x}<br>y=%{y}<extra></extra>",
           "legendgroup": "Analytic linear",
           "marker": {
            "color": "#00cc96",
            "symbol": "circle"
           },
           "mode": "markers",
           "name": "Analytic linear",
           "orientation": "v",
           "showlegend": true,
           "type": "scatter",
           "x": [
            0.9708618928971394
           ],
           "xaxis": "x",
           "y": [
            -1.7485500235681515
           ],
           "yaxis": "y"
          }
         ],
         "name": "6.7"
        },
        {
         "data": [
          {
           "hovertemplate": "label=lin_pendulum<br>t=6.800000000000001<br>x=%{x}<br>y=%{y}<extra></extra>",
           "legendgroup": "lin_pendulum",
           "marker": {
            "color": "#636efa",
            "symbol": "circle"
           },
           "mode": "markers",
           "name": "lin_pendulum",
           "orientation": "v",
           "showlegend": true,
           "type": "scatter",
           "x": [
            1.175445510311877
           ],
           "xaxis": "x",
           "y": [
            -1.6181247950290025
           ],
           "yaxis": "y"
          },
          {
           "hovertemplate": "label=nonlin_pendulum<br>t=6.800000000000001<br>x=%{x}<br>y=%{y}<extra></extra>",
           "legendgroup": "nonlin_pendulum",
           "marker": {
            "color": "#EF553B",
            "symbol": "circle"
           },
           "mode": "markers",
           "name": "nonlin_pendulum",
           "orientation": "v",
           "showlegend": true,
           "type": "scatter",
           "x": [
            0.545065683925103
           ],
           "xaxis": "x",
           "y": [
            -1.9242929611177346
           ],
           "yaxis": "y"
          },
          {
           "hovertemplate": "label=Analytic linear<br>t=6.800000000000001<br>x=%{x}<br>y=%{y}<extra></extra>",
           "legendgroup": "Analytic linear",
           "marker": {
            "color": "#00cc96",
            "symbol": "circle"
           },
           "mode": "markers",
           "name": "Analytic linear",
           "orientation": "v",
           "showlegend": true,
           "type": "scatter",
           "x": [
            1.1722472785614435
           ],
           "xaxis": "x",
           "y": [
            -1.6204432473571204
           ],
           "yaxis": "y"
          }
         ],
         "name": "6.800000000000001"
        },
        {
         "data": [
          {
           "hovertemplate": "label=lin_pendulum<br>t=6.9<br>x=%{x}<br>y=%{y}<extra></extra>",
           "legendgroup": "lin_pendulum",
           "marker": {
            "color": "#636efa",
            "symbol": "circle"
           },
           "mode": "markers",
           "name": "lin_pendulum",
           "orientation": "v",
           "showlegend": true,
           "type": "scatter",
           "x": [
            1.3134792105621949
           ],
           "xaxis": "x",
           "y": [
            -1.5082348502209175
           ],
           "yaxis": "y"
          },
          {
           "hovertemplate": "label=nonlin_pendulum<br>t=6.9<br>x=%{x}<br>y=%{y}<extra></extra>",
           "legendgroup": "nonlin_pendulum",
           "marker": {
            "color": "#EF553B",
            "symbol": "circle"
           },
           "mode": "markers",
           "name": "nonlin_pendulum",
           "orientation": "v",
           "showlegend": true,
           "type": "scatter",
           "x": [
            0.8260787259924267
           ],
           "xaxis": "x",
           "y": [
            -1.821426347251716
           ],
           "yaxis": "y"
          },
          {
           "hovertemplate": "label=Analytic linear<br>t=6.9<br>x=%{x}<br>y=%{y}<extra></extra>",
           "legendgroup": "Analytic linear",
           "marker": {
            "color": "#00cc96",
            "symbol": "circle"
           },
           "mode": "markers",
           "name": "Analytic linear",
           "orientation": "v",
           "showlegend": true,
           "type": "scatter",
           "x": [
            1.3113607271317707
           ],
           "xaxis": "x",
           "y": [
            -1.5100771646960407
           ],
           "yaxis": "y"
          }
         ],
         "name": "6.9"
        },
        {
         "data": [
          {
           "hovertemplate": "label=lin_pendulum<br>t=7.0<br>x=%{x}<br>y=%{y}<extra></extra>",
           "legendgroup": "lin_pendulum",
           "marker": {
            "color": "#636efa",
            "symbol": "circle"
           },
           "mode": "markers",
           "name": "lin_pendulum",
           "orientation": "v",
           "showlegend": true,
           "type": "scatter",
           "x": [
            1.3920261398623626
           ],
           "xaxis": "x",
           "y": [
            -1.4360582251217708
           ],
           "yaxis": "y"
          },
          {
           "hovertemplate": "label=nonlin_pendulum<br>t=7.0<br>x=%{x}<br>y=%{y}<extra></extra>",
           "legendgroup": "nonlin_pendulum",
           "marker": {
            "color": "#EF553B",
            "symbol": "circle"
           },
           "mode": "markers",
           "name": "nonlin_pendulum",
           "orientation": "v",
           "showlegend": true,
           "type": "scatter",
           "x": [
            1.0546199494257744
           ],
           "xaxis": "x",
           "y": [
            -1.699345980744703
           ],
           "yaxis": "y"
          },
          {
           "hovertemplate": "label=Analytic linear<br>t=7.0<br>x=%{x}<br>y=%{y}<extra></extra>",
           "legendgroup": "Analytic linear",
           "marker": {
            "color": "#00cc96",
            "symbol": "circle"
           },
           "mode": "markers",
           "name": "Analytic linear",
           "orientation": "v",
           "showlegend": true,
           "type": "scatter",
           "x": [
            1.3907891678001254
           ],
           "xaxis": "x",
           "y": [
            -1.4372562369771908
           ],
           "yaxis": "y"
          }
         ],
         "name": "7.0"
        },
        {
         "data": [
          {
           "hovertemplate": "label=lin_pendulum<br>t=7.1000000000000005<br>x=%{x}<br>y=%{y}<extra></extra>",
           "legendgroup": "lin_pendulum",
           "marker": {
            "color": "#636efa",
            "symbol": "circle"
           },
           "mode": "markers",
           "name": "lin_pendulum",
           "orientation": "v",
           "showlegend": true,
           "type": "scatter",
           "x": [
            1.41416283250524
           ],
           "xaxis": "x",
           "y": [
            -1.4142642904212623
           ],
           "yaxis": "y"
          },
          {
           "hovertemplate": "label=nonlin_pendulum<br>t=7.1000000000000005<br>x=%{x}<br>y=%{y}<extra></extra>",
           "legendgroup": "nonlin_pendulum",
           "marker": {
            "color": "#EF553B",
            "symbol": "circle"
           },
           "mode": "markers",
           "name": "nonlin_pendulum",
           "orientation": "v",
           "showlegend": true,
           "type": "scatter",
           "x": [
            1.2248588685817898
           ],
           "xaxis": "x",
           "y": [
            -1.5810505216648005
           ],
           "yaxis": "y"
          },
          {
           "hovertemplate": "label=Analytic linear<br>t=7.1000000000000005<br>x=%{x}<br>y=%{y}<extra></extra>",
           "legendgroup": "Analytic linear",
           "marker": {
            "color": "#00cc96",
            "symbol": "circle"
           },
           "mode": "markers",
           "name": "Analytic linear",
           "orientation": "v",
           "showlegend": true,
           "type": "scatter",
           "x": [
            1.4140610145953296
           ],
           "xaxis": "x",
           "y": [
            -1.4143660936976774
           ],
           "yaxis": "y"
          }
         ],
         "name": "7.1000000000000005"
        },
        {
         "data": [
          {
           "hovertemplate": "label=lin_pendulum<br>t=7.2<br>x=%{x}<br>y=%{y}<extra></extra>",
           "legendgroup": "lin_pendulum",
           "marker": {
            "color": "#636efa",
            "symbol": "circle"
           },
           "mode": "markers",
           "name": "lin_pendulum",
           "orientation": "v",
           "showlegend": true,
           "type": "scatter",
           "x": [
            1.3812190748557822
           ],
           "xaxis": "x",
           "y": [
            -1.4464556222900642
           ],
           "yaxis": "y"
          },
          {
           "hovertemplate": "label=nonlin_pendulum<br>t=7.2<br>x=%{x}<br>y=%{y}<extra></extra>",
           "legendgroup": "nonlin_pendulum",
           "marker": {
            "color": "#EF553B",
            "symbol": "circle"
           },
           "mode": "markers",
           "name": "nonlin_pendulum",
           "orientation": "v",
           "showlegend": true,
           "type": "scatter",
           "x": [
            1.3379967029899709
           ],
           "xaxis": "x",
           "y": [
            -1.4865277739712661
           ],
           "yaxis": "y"
          },
          {
           "hovertemplate": "label=Analytic linear<br>t=7.2<br>x=%{x}<br>y=%{y}<extra></extra>",
           "legendgroup": "Analytic linear",
           "marker": {
            "color": "#00cc96",
            "symbol": "circle"
           },
           "mode": "markers",
           "name": "Analytic linear",
           "orientation": "v",
           "showlegend": true,
           "type": "scatter",
           "x": [
            1.3825477137173492
           ],
           "xaxis": "x",
           "y": [
            -1.4451857386837619
           ],
           "yaxis": "y"
          }
         ],
         "name": "7.2"
        },
        {
         "data": [
          {
           "hovertemplate": "label=lin_pendulum<br>t=7.300000000000001<br>x=%{x}<br>y=%{y}<extra></extra>",
           "legendgroup": "lin_pendulum",
           "marker": {
            "color": "#636efa",
            "symbol": "circle"
           },
           "mode": "markers",
           "name": "lin_pendulum",
           "orientation": "v",
           "showlegend": true,
           "type": "scatter",
           "x": [
            1.2917423960835563
           ],
           "xaxis": "x",
           "y": [
            -1.5268927867274482
           ],
           "yaxis": "y"
          },
          {
           "hovertemplate": "label=nonlin_pendulum<br>t=7.300000000000001<br>x=%{x}<br>y=%{y}<extra></extra>",
           "legendgroup": "nonlin_pendulum",
           "marker": {
            "color": "#EF553B",
            "symbol": "circle"
           },
           "mode": "markers",
           "name": "nonlin_pendulum",
           "orientation": "v",
           "showlegend": true,
           "type": "scatter",
           "x": [
            1.3977664628210458
           ],
           "xaxis": "x",
           "y": [
            -1.4304715709907492
           ],
           "yaxis": "y"
          },
          {
           "hovertemplate": "label=Analytic linear<br>t=7.300000000000001<br>x=%{x}<br>y=%{y}<extra></extra>",
           "legendgroup": "Analytic linear",
           "marker": {
            "color": "#00cc96",
            "symbol": "circle"
           },
           "mode": "markers",
           "name": "Analytic linear",
           "orientation": "v",
           "showlegend": true,
           "type": "scatter",
           "x": [
            1.29443092739778
           ],
           "xaxis": "x",
           "y": [
            -1.524614237830712
           ],
           "yaxis": "y"
          }
         ],
         "name": "7.300000000000001"
        },
        {
         "data": [
          {
           "hovertemplate": "label=lin_pendulum<br>t=7.4<br>x=%{x}<br>y=%{y}<extra></extra>",
           "legendgroup": "lin_pendulum",
           "marker": {
            "color": "#636efa",
            "symbol": "circle"
           },
           "mode": "markers",
           "name": "lin_pendulum",
           "orientation": "v",
           "showlegend": true,
           "type": "scatter",
           "x": [
            1.1422399917035235
           ],
           "xaxis": "x",
           "y": [
            -1.6417331699618958
           ],
           "yaxis": "y"
          },
          {
           "hovertemplate": "label=nonlin_pendulum<br>t=7.4<br>x=%{x}<br>y=%{y}<extra></extra>",
           "legendgroup": "nonlin_pendulum",
           "marker": {
            "color": "#EF553B",
            "symbol": "circle"
           },
           "mode": "markers",
           "name": "nonlin_pendulum",
           "orientation": "v",
           "showlegend": true,
           "type": "scatter",
           "x": [
            1.407176679079352
           ],
           "xaxis": "x",
           "y": [
            -1.4212156042821955
           ],
           "yaxis": "y"
          },
          {
           "hovertemplate": "label=Analytic linear<br>t=7.4<br>x=%{x}<br>y=%{y}<extra></extra>",
           "legendgroup": "Analytic linear",
           "marker": {
            "color": "#00cc96",
            "symbol": "circle"
           },
           "mode": "markers",
           "name": "Analytic linear",
           "orientation": "v",
           "showlegend": true,
           "type": "scatter",
           "x": [
            1.1460870293555658
           ],
           "xaxis": "x",
           "y": [
            -1.6390498836652088
           ],
           "yaxis": "y"
          }
         ],
         "name": "7.4"
        },
        {
         "data": [
          {
           "hovertemplate": "label=lin_pendulum<br>t=7.5<br>x=%{x}<br>y=%{y}<extra></extra>",
           "legendgroup": "lin_pendulum",
           "marker": {
            "color": "#636efa",
            "symbol": "circle"
           },
           "mode": "markers",
           "name": "lin_pendulum",
           "orientation": "v",
           "showlegend": true,
           "type": "scatter",
           "x": [
            0.9303598003812773
           ],
           "xaxis": "x",
           "y": [
            -1.770432331899333
           ],
           "yaxis": "y"
          },
          {
           "hovertemplate": "label=nonlin_pendulum<br>t=7.5<br>x=%{x}<br>y=%{y}<extra></extra>",
           "legendgroup": "nonlin_pendulum",
           "marker": {
            "color": "#EF553B",
            "symbol": "circle"
           },
           "mode": "markers",
           "name": "nonlin_pendulum",
           "orientation": "v",
           "showlegend": true,
           "type": "scatter",
           "x": [
            1.3669812957663008
           ],
           "xaxis": "x",
           "y": [
            -1.4599185378044506
           ],
           "yaxis": "y"
          },
          {
           "hovertemplate": "label=Analytic linear<br>t=7.5<br>x=%{x}<br>y=%{y}<extra></extra>",
           "legendgroup": "Analytic linear",
           "marker": {
            "color": "#00cc96",
            "symbol": "circle"
           },
           "mode": "markers",
           "name": "Analytic linear",
           "orientation": "v",
           "showlegend": true,
           "type": "scatter",
           "x": [
            0.935413989577546
           ],
           "xaxis": "x",
           "y": [
            -1.7677671419343157
           ],
           "yaxis": "y"
          }
         ],
         "name": "7.5"
        },
        {
         "data": [
          {
           "hovertemplate": "label=lin_pendulum<br>t=7.6000000000000005<br>x=%{x}<br>y=%{y}<extra></extra>",
           "legendgroup": "lin_pendulum",
           "marker": {
            "color": "#636efa",
            "symbol": "circle"
           },
           "mode": "markers",
           "name": "lin_pendulum",
           "orientation": "v",
           "showlegend": true,
           "type": "scatter",
           "x": [
            0.6593984381857633
           ],
           "xaxis": "x",
           "y": [
            -1.888172052467194
           ],
           "yaxis": "y"
          },
          {
           "hovertemplate": "label=nonlin_pendulum<br>t=7.6000000000000005<br>x=%{x}<br>y=%{y}<extra></extra>",
           "legendgroup": "nonlin_pendulum",
           "marker": {
            "color": "#EF553B",
            "symbol": "circle"
           },
           "mode": "markers",
           "name": "nonlin_pendulum",
           "orientation": "v",
           "showlegend": true,
           "type": "scatter",
           "x": [
            1.2752097399375024
           ],
           "xaxis": "x",
           "y": [
            -1.5407271397520481
           ],
           "yaxis": "y"
          },
          {
           "hovertemplate": "label=Analytic linear<br>t=7.6000000000000005<br>x=%{x}<br>y=%{y}<extra></extra>",
           "legendgroup": "Analytic linear",
           "marker": {
            "color": "#00cc96",
            "symbol": "circle"
           },
           "mode": "markers",
           "name": "Analytic linear",
           "orientation": "v",
           "showlegend": true,
           "type": "scatter",
           "x": [
            0.6658422653307869
           ],
           "xaxis": "x",
           "y": [
            -1.885909350339821
           ],
           "yaxis": "y"
          }
         ],
         "name": "7.6000000000000005"
        },
        {
         "data": [
          {
           "hovertemplate": "label=lin_pendulum<br>t=7.7<br>x=%{x}<br>y=%{y}<extra></extra>",
           "legendgroup": "lin_pendulum",
           "marker": {
            "color": "#636efa",
            "symbol": "circle"
           },
           "mode": "markers",
           "name": "lin_pendulum",
           "orientation": "v",
           "showlegend": true,
           "type": "scatter",
           "x": [
            0.341717956934647
           ],
           "xaxis": "x",
           "y": [
            -1.970590986965182
           ],
           "yaxis": "y"
          },
          {
           "hovertemplate": "label=nonlin_pendulum<br>t=7.7<br>x=%{x}<br>y=%{y}<extra></extra>",
           "legendgroup": "nonlin_pendulum",
           "marker": {
            "color": "#EF553B",
            "symbol": "circle"
           },
           "mode": "markers",
           "name": "nonlin_pendulum",
           "orientation": "v",
           "showlegend": true,
           "type": "scatter",
           "x": [
            1.1278057990319281
           ],
           "xaxis": "x",
           "y": [
            -1.6516821969343722
           ],
           "yaxis": "y"
          },
          {
           "hovertemplate": "label=Analytic linear<br>t=7.7<br>x=%{x}<br>y=%{y}<extra></extra>",
           "legendgroup": "Analytic linear",
           "marker": {
            "color": "#00cc96",
            "symbol": "circle"
           },
           "mode": "markers",
           "name": "Analytic linear",
           "orientation": "v",
           "showlegend": true,
           "type": "scatter",
           "x": [
            0.34925039145634895
           ],
           "xaxis": "x",
           "y": [
            -1.9692699571332486
           ],
           "yaxis": "y"
          }
         ],
         "name": "7.7"
        },
        {
         "data": [
          {
           "hovertemplate": "label=lin_pendulum<br>t=7.800000000000001<br>x=%{x}<br>y=%{y}<extra></extra>",
           "legendgroup": "lin_pendulum",
           "marker": {
            "color": "#636efa",
            "symbol": "circle"
           },
           "mode": "markers",
           "name": "lin_pendulum",
           "orientation": "v",
           "showlegend": true,
           "type": "scatter",
           "x": [
            -0.001788111851426187
           ],
           "xaxis": "x",
           "y": [
            -1.999999200663842
           ],
           "yaxis": "y"
          },
          {
           "hovertemplate": "label=nonlin_pendulum<br>t=7.800000000000001<br>x=%{x}<br>y=%{y}<extra></extra>",
           "legendgroup": "nonlin_pendulum",
           "marker": {
            "color": "#EF553B",
            "symbol": "circle"
           },
           "mode": "markers",
           "name": "nonlin_pendulum",
           "orientation": "v",
           "showlegend": true,
           "type": "scatter",
           "x": [
            0.9220549062162154
           ],
           "xaxis": "x",
           "y": [
            -1.774771745865537
           ],
           "yaxis": "y"
          },
          {
           "hovertemplate": "label=Analytic linear<br>t=7.800000000000001<br>x=%{x}<br>y=%{y}<extra></extra>",
           "legendgroup": "Analytic linear",
           "marker": {
            "color": "#00cc96",
            "symbol": "circle"
           },
           "mode": "markers",
           "name": "Analytic linear",
           "orientation": "v",
           "showlegend": true,
           "type": "scatter",
           "x": [
            0.0061521778786729495
           ],
           "xaxis": "x",
           "y": [
            -1.9999905376544533
           ],
           "yaxis": "y"
          }
         ],
         "name": "7.800000000000001"
        },
        {
         "data": [
          {
           "hovertemplate": "label=lin_pendulum<br>t=7.9<br>x=%{x}<br>y=%{y}<extra></extra>",
           "legendgroup": "lin_pendulum",
           "marker": {
            "color": "#636efa",
            "symbol": "circle"
           },
           "mode": "markers",
           "name": "lin_pendulum",
           "orientation": "v",
           "showlegend": true,
           "type": "scatter",
           "x": [
            -0.34506105067519144
           ],
           "xaxis": "x",
           "y": [
            -1.9700083429536366
           ],
           "yaxis": "y"
          },
          {
           "hovertemplate": "label=nonlin_pendulum<br>t=7.9<br>x=%{x}<br>y=%{y}<extra></extra>",
           "legendgroup": "nonlin_pendulum",
           "marker": {
            "color": "#EF553B",
            "symbol": "circle"
           },
           "mode": "markers",
           "name": "nonlin_pendulum",
           "orientation": "v",
           "showlegend": true,
           "type": "scatter",
           "x": [
            0.6605002037589837
           ],
           "xaxis": "x",
           "y": [
            -1.8877869267569212
           ],
           "yaxis": "y"
          },
          {
           "hovertemplate": "label=Analytic linear<br>t=7.9<br>x=%{x}<br>y=%{y}<extra></extra>",
           "legendgroup": "Analytic linear",
           "marker": {
            "color": "#00cc96",
            "symbol": "circle"
           },
           "mode": "markers",
           "name": "Analytic linear",
           "orientation": "v",
           "showlegend": true,
           "type": "scatter",
           "x": [
            -0.3374247693807834
           ],
           "xaxis": "x",
           "y": [
            -1.9713306483206527
           ],
           "yaxis": "y"
          }
         ],
         "name": "7.9"
        },
        {
         "data": [
          {
           "hovertemplate": "label=lin_pendulum<br>t=8.0<br>x=%{x}<br>y=%{y}<extra></extra>",
           "legendgroup": "lin_pendulum",
           "marker": {
            "color": "#636efa",
            "symbol": "circle"
           },
           "mode": "markers",
           "name": "lin_pendulum",
           "orientation": "v",
           "showlegend": true,
           "type": "scatter",
           "x": [
            -0.6620898032359007
           ],
           "xaxis": "x",
           "y": [
            -1.887230005179826
           ],
           "yaxis": "y"
          },
          {
           "hovertemplate": "label=nonlin_pendulum<br>t=8.0<br>x=%{x}<br>y=%{y}<extra></extra>",
           "legendgroup": "nonlin_pendulum",
           "marker": {
            "color": "#EF553B",
            "symbol": "circle"
           },
           "mode": "markers",
           "name": "nonlin_pendulum",
           "orientation": "v",
           "showlegend": true,
           "type": "scatter",
           "x": [
            0.35402216364428407
           ],
           "xaxis": "x",
           "y": [
            -1.9684177167584678
           ],
           "yaxis": "y"
          },
          {
           "hovertemplate": "label=Analytic linear<br>t=8.0<br>x=%{x}<br>y=%{y}<extra></extra>",
           "legendgroup": "Analytic linear",
           "marker": {
            "color": "#00cc96",
            "symbol": "circle"
           },
           "mode": "markers",
           "name": "Analytic linear",
           "orientation": "v",
           "showlegend": true,
           "type": "scatter",
           "x": [
            -0.6553492789534565
           ],
           "xaxis": "x",
           "y": [
            -1.889581255880568
           ],
           "yaxis": "y"
          }
         ],
         "name": "8.0"
        },
        {
         "data": [
          {
           "hovertemplate": "label=lin_pendulum<br>t=8.1<br>x=%{x}<br>y=%{y}<extra></extra>",
           "legendgroup": "lin_pendulum",
           "marker": {
            "color": "#636efa",
            "symbol": "circle"
           },
           "mode": "markers",
           "name": "lin_pendulum",
           "orientation": "v",
           "showlegend": true,
           "type": "scatter",
           "x": [
            -0.932434879493683
           ],
           "xaxis": "x",
           "y": [
            -1.7693403277785766
           ],
           "yaxis": "y"
          },
          {
           "hovertemplate": "label=nonlin_pendulum<br>t=8.1<br>x=%{x}<br>y=%{y}<extra></extra>",
           "legendgroup": "nonlin_pendulum",
           "marker": {
            "color": "#EF553B",
            "symbol": "circle"
           },
           "mode": "markers",
           "name": "nonlin_pendulum",
           "orientation": "v",
           "showlegend": true,
           "type": "scatter",
           "x": [
            0.021535545996465375
           ],
           "xaxis": "x",
           "y": [
            -1.9998840517036567
           ],
           "yaxis": "y"
          },
          {
           "hovertemplate": "label=Analytic linear<br>t=8.1<br>x=%{x}<br>y=%{y}<extra></extra>",
           "legendgroup": "Analytic linear",
           "marker": {
            "color": "#00cc96",
            "symbol": "circle"
           },
           "mode": "markers",
           "name": "Analytic linear",
           "orientation": "v",
           "showlegend": true,
           "type": "scatter",
           "x": [
            -0.9268409205062675
           ],
           "xaxis": "x",
           "y": [
            -1.7722770404412214
           ],
           "yaxis": "y"
          }
         ],
         "name": "8.1"
        },
        {
         "data": [
          {
           "hovertemplate": "label=lin_pendulum<br>t=8.200000000000001<br>x=%{x}<br>y=%{y}<extra></extra>",
           "legendgroup": "lin_pendulum",
           "marker": {
            "color": "#636efa",
            "symbol": "circle"
           },
           "mode": "markers",
           "name": "lin_pendulum",
           "orientation": "v",
           "showlegend": true,
           "type": "scatter",
           "x": [
            -1.1439417764710518
           ],
           "xaxis": "x",
           "y": [
            -1.6405478389989896
           ],
           "yaxis": "y"
          },
          {
           "hovertemplate": "label=nonlin_pendulum<br>t=8.200000000000001<br>x=%{x}<br>y=%{y}<extra></extra>",
           "legendgroup": "nonlin_pendulum",
           "marker": {
            "color": "#EF553B",
            "symbol": "circle"
           },
           "mode": "markers",
           "name": "nonlin_pendulum",
           "orientation": "v",
           "showlegend": true,
           "type": "scatter",
           "x": [
            -0.3124565877151163
           ],
           "xaxis": "x",
           "y": [
            -1.9754419456904893
           ],
           "yaxis": "y"
          },
          {
           "hovertemplate": "label=Analytic linear<br>t=8.200000000000001<br>x=%{x}<br>y=%{y}<extra></extra>",
           "legendgroup": "Analytic linear",
           "marker": {
            "color": "#00cc96",
            "symbol": "circle"
           },
           "mode": "markers",
           "name": "Analytic linear",
           "orientation": "v",
           "showlegend": true,
           "type": "scatter",
           "x": [
            -1.1396993808153666
           ],
           "xaxis": "x",
           "y": [
            -1.643497892109713
           ],
           "yaxis": "y"
          }
         ],
         "name": "8.200000000000001"
        },
        {
         "data": [
          {
           "hovertemplate": "label=lin_pendulum<br>t=8.3<br>x=%{x}<br>y=%{y}<extra></extra>",
           "legendgroup": "lin_pendulum",
           "marker": {
            "color": "#636efa",
            "symbol": "circle"
           },
           "mode": "markers",
           "name": "lin_pendulum",
           "orientation": "v",
           "showlegend": true,
           "type": "scatter",
           "x": [
            -1.2932405572749754
           ],
           "xaxis": "x",
           "y": [
            -1.5256240890268844
           ],
           "yaxis": "y"
          },
          {
           "hovertemplate": "label=nonlin_pendulum<br>t=8.3<br>x=%{x}<br>y=%{y}<extra></extra>",
           "legendgroup": "nonlin_pendulum",
           "marker": {
            "color": "#EF553B",
            "symbol": "circle"
           },
           "mode": "markers",
           "name": "nonlin_pendulum",
           "orientation": "v",
           "showlegend": true,
           "type": "scatter",
           "x": [
            -0.623357362514767
           ],
           "xaxis": "x",
           "y": [
            -1.9003751204955914
           ],
           "yaxis": "y"
          },
          {
           "hovertemplate": "label=Analytic linear<br>t=8.3<br>x=%{x}<br>y=%{y}<extra></extra>",
           "legendgroup": "Analytic linear",
           "marker": {
            "color": "#00cc96",
            "symbol": "circle"
           },
           "mode": "markers",
           "name": "Analytic linear",
           "orientation": "v",
           "showlegend": true,
           "type": "scatter",
           "x": [
            -1.2902330895888459
           ],
           "xaxis": "x",
           "y": [
            -1.5281683724413424
           ],
           "yaxis": "y"
          }
         ],
         "name": "8.3"
        },
        {
         "data": [
          {
           "hovertemplate": "label=lin_pendulum<br>t=8.4<br>x=%{x}<br>y=%{y}<extra></extra>",
           "legendgroup": "lin_pendulum",
           "marker": {
            "color": "#636efa",
            "symbol": "circle"
           },
           "mode": "markers",
           "name": "lin_pendulum",
           "orientation": "v",
           "showlegend": true,
           "type": "scatter",
           "x": [
            -1.3819899965096556
           ],
           "xaxis": "x",
           "y": [
            -1.4457190769811548
           ],
           "yaxis": "y"
          },
          {
           "hovertemplate": "label=nonlin_pendulum<br>t=8.4<br>x=%{x}<br>y=%{y}<extra></extra>",
           "legendgroup": "nonlin_pendulum",
           "marker": {
            "color": "#EF553B",
            "symbol": "circle"
           },
           "mode": "markers",
           "name": "nonlin_pendulum",
           "orientation": "v",
           "showlegend": true,
           "type": "scatter",
           "x": [
            -0.8912720365776012
           ],
           "xaxis": "x",
           "y": [
            -1.7904284841385916
           ],
           "yaxis": "y"
          },
          {
           "hovertemplate": "label=Analytic linear<br>t=8.4<br>x=%{x}<br>y=%{y}<extra></extra>",
           "legendgroup": "Analytic linear",
           "marker": {
            "color": "#00cc96",
            "symbol": "circle"
           },
           "mode": "markers",
           "name": "Analytic linear",
           "orientation": "v",
           "showlegend": true,
           "type": "scatter",
           "x": [
            -1.3804158431615754
           ],
           "xaxis": "x",
           "y": [
            -1.4472222013044567
           ],
           "yaxis": "y"
          }
         ],
         "name": "8.4"
        },
        {
         "data": [
          {
           "hovertemplate": "label=lin_pendulum<br>t=8.5<br>x=%{x}<br>y=%{y}<extra></extra>",
           "legendgroup": "lin_pendulum",
           "marker": {
            "color": "#636efa",
            "symbol": "circle"
           },
           "mode": "markers",
           "name": "lin_pendulum",
           "orientation": "v",
           "showlegend": true,
           "type": "scatter",
           "x": [
            -1.4138770246451091
           ],
           "xaxis": "x",
           "y": [
            -1.414550020034885
           ],
           "yaxis": "y"
          },
          {
           "hovertemplate": "label=nonlin_pendulum<br>t=8.5<br>x=%{x}<br>y=%{y}<extra></extra>",
           "legendgroup": "nonlin_pendulum",
           "marker": {
            "color": "#EF553B",
            "symbol": "circle"
           },
           "mode": "markers",
           "name": "nonlin_pendulum",
           "orientation": "v",
           "showlegend": true,
           "type": "scatter",
           "x": [
            -1.1043681647878785
           ],
           "xaxis": "x",
           "y": [
            -1.6674444388353853
           ],
           "yaxis": "y"
          },
          {
           "hovertemplate": "label=Analytic linear<br>t=8.5<br>x=%{x}<br>y=%{y}<extra></extra>",
           "legendgroup": "Analytic linear",
           "marker": {
            "color": "#00cc96",
            "symbol": "circle"
           },
           "mode": "markers",
           "name": "Analytic linear",
           "orientation": "v",
           "showlegend": true,
           "type": "scatter",
           "x": [
            -1.413882724041472
           ],
           "xaxis": "x",
           "y": [
            -1.4145443233271509
           ],
           "yaxis": "y"
          }
         ],
         "name": "8.5"
        },
        {
         "data": [
          {
           "hovertemplate": "label=lin_pendulum<br>t=8.6<br>x=%{x}<br>y=%{y}<extra></extra>",
           "legendgroup": "lin_pendulum",
           "marker": {
            "color": "#636efa",
            "symbol": "circle"
           },
           "mode": "markers",
           "name": "lin_pendulum",
           "orientation": "v",
           "showlegend": true,
           "type": "scatter",
           "x": [
            -1.391097023722382
           ],
           "xaxis": "x",
           "y": [
            -1.4369582703024921
           ],
           "yaxis": "y"
          },
          {
           "hovertemplate": "label=nonlin_pendulum<br>t=8.6<br>x=%{x}<br>y=%{y}<extra></extra>",
           "legendgroup": "nonlin_pendulum",
           "marker": {
            "color": "#EF553B",
            "symbol": "circle"
           },
           "mode": "markers",
           "name": "nonlin_pendulum",
           "orientation": "v",
           "showlegend": true,
           "type": "scatter",
           "x": [
            -1.2593249549367955
           ],
           "xaxis": "x",
           "y": [
            -1.5537376412616892
           ],
           "yaxis": "y"
          },
          {
           "hovertemplate": "label=Analytic linear<br>t=8.6<br>x=%{x}<br>y=%{y}<extra></extra>",
           "legendgroup": "Analytic linear",
           "marker": {
            "color": "#00cc96",
            "symbol": "circle"
           },
           "mode": "markers",
           "name": "Analytic linear",
           "orientation": "v",
           "showlegend": true,
           "type": "scatter",
           "x": [
            -1.3925533192659725
           ],
           "xaxis": "x",
           "y": [
            -1.4355470222188205
           ],
           "yaxis": "y"
          }
         ],
         "name": "8.6"
        },
        {
         "data": [
          {
           "hovertemplate": "label=lin_pendulum<br>t=8.700000000000001<br>x=%{x}<br>y=%{y}<extra></extra>",
           "legendgroup": "lin_pendulum",
           "marker": {
            "color": "#636efa",
            "symbol": "circle"
           },
           "mode": "markers",
           "name": "lin_pendulum",
           "orientation": "v",
           "showlegend": true,
           "type": "scatter",
           "x": [
            -1.3125102941667592
           ],
           "xaxis": "x",
           "y": [
            -1.5090781052371967
           ],
           "yaxis": "y"
          },
          {
           "hovertemplate": "label=nonlin_pendulum<br>t=8.700000000000001<br>x=%{x}<br>y=%{y}<extra></extra>",
           "legendgroup": "nonlin_pendulum",
           "marker": {
            "color": "#EF553B",
            "symbol": "circle"
           },
           "mode": "markers",
           "name": "nonlin_pendulum",
           "orientation": "v",
           "showlegend": true,
           "type": "scatter",
           "x": [
            -1.3579219329049654
           ],
           "xaxis": "x",
           "y": [
            -1.4683487406388316
           ],
           "yaxis": "y"
          },
          {
           "hovertemplate": "label=Analytic linear<br>t=8.700000000000001<br>x=%{x}<br>y=%{y}<extra></extra>",
           "legendgroup": "Analytic linear",
           "marker": {
            "color": "#00cc96",
            "symbol": "circle"
           },
           "mode": "markers",
           "name": "Analytic linear",
           "orientation": "v",
           "showlegend": true,
           "type": "scatter",
           "x": [
            -1.3151655714316597
           ],
           "xaxis": "x",
           "y": [
            -1.5067645866958899
           ],
           "yaxis": "y"
          }
         ],
         "name": "8.700000000000001"
        },
        {
         "data": [
          {
           "hovertemplate": "label=lin_pendulum<br>t=8.8<br>x=%{x}<br>y=%{y}<extra></extra>",
           "legendgroup": "lin_pendulum",
           "marker": {
            "color": "#636efa",
            "symbol": "circle"
           },
           "mode": "markers",
           "name": "lin_pendulum",
           "orientation": "v",
           "showlegend": true,
           "type": "scatter",
           "x": [
            -1.1742002116888615
           ],
           "xaxis": "x",
           "y": [
            -1.6190286788287083
           ],
           "yaxis": "y"
          },
          {
           "hovertemplate": "label=nonlin_pendulum<br>t=8.8<br>x=%{x}<br>y=%{y}<extra></extra>",
           "legendgroup": "nonlin_pendulum",
           "marker": {
            "color": "#EF553B",
            "symbol": "circle"
           },
           "mode": "markers",
           "name": "nonlin_pendulum",
           "orientation": "v",
           "showlegend": true,
           "type": "scatter",
           "x": [
            -1.4040870616100303
           ],
           "xaxis": "x",
           "y": [
            -1.4242680658567441
           ],
           "yaxis": "y"
          },
          {
           "hovertemplate": "label=Analytic linear<br>t=8.8<br>x=%{x}<br>y=%{y}<extra></extra>",
           "legendgroup": "Analytic linear",
           "marker": {
            "color": "#00cc96",
            "symbol": "circle"
           },
           "mode": "markers",
           "name": "Analytic linear",
           "orientation": "v",
           "showlegend": true,
           "type": "scatter",
           "x": [
            -1.1782242291575193
           ],
           "xaxis": "x",
           "y": [
            -1.6161026161188434
           ],
           "yaxis": "y"
          }
         ],
         "name": "8.8"
        },
        {
         "data": [
          {
           "hovertemplate": "label=lin_pendulum<br>t=8.9<br>x=%{x}<br>y=%{y}<extra></extra>",
           "legendgroup": "lin_pendulum",
           "marker": {
            "color": "#636efa",
            "symbol": "circle"
           },
           "mode": "markers",
           "name": "lin_pendulum",
           "orientation": "v",
           "showlegend": true,
           "type": "scatter",
           "x": [
            -0.9731932974581948
           ],
           "xaxis": "x",
           "y": [
            -1.7472535035828216
           ],
           "yaxis": "y"
          },
          {
           "hovertemplate": "label=nonlin_pendulum<br>t=8.9<br>x=%{x}<br>y=%{y}<extra></extra>",
           "legendgroup": "nonlin_pendulum",
           "marker": {
            "color": "#EF553B",
            "symbol": "circle"
           },
           "mode": "markers",
           "name": "nonlin_pendulum",
           "orientation": "v",
           "showlegend": true,
           "type": "scatter",
           "x": [
            -1.4008938861143851
           ],
           "xaxis": "x",
           "y": [
            -1.4274089532601846
           ],
           "yaxis": "y"
          },
          {
           "hovertemplate": "label=Analytic linear<br>t=8.9<br>x=%{x}<br>y=%{y}<extra></extra>",
           "legendgroup": "Analytic linear",
           "marker": {
            "color": "#00cc96",
            "symbol": "circle"
           },
           "mode": "markers",
           "name": "Analytic linear",
           "orientation": "v",
           "showlegend": true,
           "type": "scatter",
           "x": [
            -0.9790414115670918
           ],
           "xaxis": "x",
           "y": [
            -1.743983346949367
           ],
           "yaxis": "y"
          }
         ],
         "name": "8.9"
        },
        {
         "data": [
          {
           "hovertemplate": "label=lin_pendulum<br>t=9.0<br>x=%{x}<br>y=%{y}<extra></extra>",
           "legendgroup": "lin_pendulum",
           "marker": {
            "color": "#636efa",
            "symbol": "circle"
           },
           "mode": "markers",
           "name": "lin_pendulum",
           "orientation": "v",
           "showlegend": true,
           "type": "scatter",
           "x": [
            -0.7119843611248551
           ],
           "xaxis": "x",
           "y": [
            -1.8689778675826079
           ],
           "yaxis": "y"
          },
          {
           "hovertemplate": "label=nonlin_pendulum<br>t=9.0<br>x=%{x}<br>y=%{y}<extra></extra>",
           "legendgroup": "nonlin_pendulum",
           "marker": {
            "color": "#EF553B",
            "symbol": "circle"
           },
           "mode": "markers",
           "name": "nonlin_pendulum",
           "orientation": "v",
           "showlegend": true,
           "type": "scatter",
           "x": [
            -1.3480114051462322
           ],
           "xaxis": "x",
           "y": [
            -1.4774522840334576
           ],
           "yaxis": "y"
          },
          {
           "hovertemplate": "label=Analytic linear<br>t=9.0<br>x=%{x}<br>y=%{y}<extra></extra>",
           "legendgroup": "Analytic linear",
           "marker": {
            "color": "#00cc96",
            "symbol": "circle"
           },
           "mode": "markers",
           "name": "Analytic linear",
           "orientation": "v",
           "showlegend": true,
           "type": "scatter",
           "x": [
            -0.7197460179806313
           ],
           "xaxis": "x",
           "y": [
            -1.8660025909952602
           ],
           "yaxis": "y"
          }
         ],
         "name": "9.0"
        },
        {
         "data": [
          {
           "hovertemplate": "label=lin_pendulum<br>t=9.1<br>x=%{x}<br>y=%{y}<extra></extra>",
           "legendgroup": "lin_pendulum",
           "marker": {
            "color": "#636efa",
            "symbol": "circle"
           },
           "mode": "markers",
           "name": "lin_pendulum",
           "orientation": "v",
           "showlegend": true,
           "type": "scatter",
           "x": [
            -0.4016457657984972
           ],
           "xaxis": "x",
           "y": [
            -1.9592551336709925
           ],
           "yaxis": "y"
          },
          {
           "hovertemplate": "label=nonlin_pendulum<br>t=9.1<br>x=%{x}<br>y=%{y}<extra></extra>",
           "legendgroup": "nonlin_pendulum",
           "marker": {
            "color": "#EF553B",
            "symbol": "circle"
           },
           "mode": "markers",
           "name": "nonlin_pendulum",
           "orientation": "v",
           "showlegend": true,
           "type": "scatter",
           "x": [
            -1.2420078846427332
           ],
           "xaxis": "x",
           "y": [
            -1.5676148807935204
           ],
           "yaxis": "y"
          },
          {
           "hovertemplate": "label=Analytic linear<br>t=9.1<br>x=%{x}<br>y=%{y}<extra></extra>",
           "legendgroup": "Analytic linear",
           "marker": {
            "color": "#00cc96",
            "symbol": "circle"
           },
           "mode": "markers",
           "name": "Analytic linear",
           "orientation": "v",
           "showlegend": true,
           "type": "scatter",
           "x": [
            -0.41054155601011405
           ],
           "xaxis": "x",
           "y": [
            -1.957410440042863
           ],
           "yaxis": "y"
          }
         ],
         "name": "9.1"
        },
        {
         "data": [
          {
           "hovertemplate": "label=lin_pendulum<br>t=9.200000000000001<br>x=%{x}<br>y=%{y}<extra></extra>",
           "legendgroup": "lin_pendulum",
           "marker": {
            "color": "#636efa",
            "symbol": "circle"
           },
           "mode": "markers",
           "name": "lin_pendulum",
           "orientation": "v",
           "showlegend": true,
           "type": "scatter",
           "x": [
            -0.061147115180805664
           ],
           "xaxis": "x",
           "y": [
            -1.9990650390382663
           ],
           "yaxis": "y"
          },
          {
           "hovertemplate": "label=nonlin_pendulum<br>t=9.200000000000001<br>x=%{x}<br>y=%{y}<extra></extra>",
           "legendgroup": "nonlin_pendulum",
           "marker": {
            "color": "#EF553B",
            "symbol": "circle"
           },
           "mode": "markers",
           "name": "nonlin_pendulum",
           "orientation": "v",
           "showlegend": true,
           "type": "scatter",
           "x": [
            -1.0789984454610189
           ],
           "xaxis": "x",
           "y": [
            -1.683972195344301
           ],
           "yaxis": "y"
          },
          {
           "hovertemplate": "label=Analytic linear<br>t=9.200000000000001<br>x=%{x}<br>y=%{y}<extra></extra>",
           "legendgroup": "Analytic linear",
           "marker": {
            "color": "#00cc96",
            "symbol": "circle"
           },
           "mode": "markers",
           "name": "Analytic linear",
           "orientation": "v",
           "showlegend": true,
           "type": "scatter",
           "x": [
            -0.07048485121602996
           ],
           "xaxis": "x",
           "y": [
            -1.9987575855388402
           ],
           "yaxis": "y"
          }
         ],
         "name": "9.200000000000001"
        },
        {
         "data": [
          {
           "hovertemplate": "label=lin_pendulum<br>t=9.3<br>x=%{x}<br>y=%{y}<extra></extra>",
           "legendgroup": "lin_pendulum",
           "marker": {
            "color": "#636efa",
            "symbol": "circle"
           },
           "mode": "markers",
           "name": "lin_pendulum",
           "orientation": "v",
           "showlegend": true,
           "type": "scatter",
           "x": [
            0.28410899550639596
           ],
           "xaxis": "x",
           "y": [
            -1.979717676506513
           ],
           "yaxis": "y"
          },
          {
           "hovertemplate": "label=nonlin_pendulum<br>t=9.3<br>x=%{x}<br>y=%{y}<extra></extra>",
           "legendgroup": "nonlin_pendulum",
           "marker": {
            "color": "#EF553B",
            "symbol": "circle"
           },
           "mode": "markers",
           "name": "nonlin_pendulum",
           "orientation": "v",
           "showlegend": true,
           "type": "scatter",
           "x": [
            -0.857874452508562
           ],
           "xaxis": "x",
           "y": [
            -1.8066685982030946
           ],
           "yaxis": "y"
          },
          {
           "hovertemplate": "label=Analytic linear<br>t=9.3<br>x=%{x}<br>y=%{y}<extra></extra>",
           "legendgroup": "Analytic linear",
           "marker": {
            "color": "#00cc96",
            "symbol": "circle"
           },
           "mode": "markers",
           "name": "Analytic linear",
           "orientation": "v",
           "showlegend": true,
           "type": "scatter",
           "x": [
            0.2750512398341634
           ],
           "xaxis": "x",
           "y": [
            -1.9809964198518102
           ],
           "yaxis": "y"
          }
         ],
         "name": "9.3"
        },
        {
         "data": [
          {
           "hovertemplate": "label=lin_pendulum<br>t=9.4<br>x=%{x}<br>y=%{y}<extra></extra>",
           "legendgroup": "lin_pendulum",
           "marker": {
            "color": "#636efa",
            "symbol": "circle"
           },
           "mode": "markers",
           "name": "lin_pendulum",
           "orientation": "v",
           "showlegend": true,
           "type": "scatter",
           "x": [
            0.6078186729946866
           ],
           "xaxis": "x",
           "y": [
            -1.9054019158064732
           ],
           "yaxis": "y"
          },
          {
           "hovertemplate": "label=nonlin_pendulum<br>t=9.4<br>x=%{x}<br>y=%{y}<extra></extra>",
           "legendgroup": "nonlin_pendulum",
           "marker": {
            "color": "#EF553B",
            "symbol": "circle"
           },
           "mode": "markers",
           "name": "nonlin_pendulum",
           "orientation": "v",
           "showlegend": true,
           "type": "scatter",
           "x": [
            -0.5834934309958554
           ],
           "xaxis": "x",
           "y": [
            -1.9129912221399985
           ],
           "yaxis": "y"
          },
          {
           "hovertemplate": "label=Analytic linear<br>t=9.4<br>x=%{x}<br>y=%{y}<extra></extra>",
           "legendgroup": "Analytic linear",
           "marker": {
            "color": "#00cc96",
            "symbol": "circle"
           },
           "mode": "markers",
           "name": "Analytic linear",
           "orientation": "v",
           "showlegend": true,
           "type": "scatter",
           "x": [
            0.5995102889181415
           ],
           "xaxis": "x",
           "y": [
            -1.9080323407849475
           ],
           "yaxis": "y"
          }
         ],
         "name": "9.4"
        },
        {
         "data": [
          {
           "hovertemplate": "label=lin_pendulum<br>t=9.5<br>x=%{x}<br>y=%{y}<extra></extra>",
           "legendgroup": "lin_pendulum",
           "marker": {
            "color": "#636efa",
            "symbol": "circle"
           },
           "mode": "markers",
           "name": "lin_pendulum",
           "orientation": "v",
           "showlegend": true,
           "type": "scatter",
           "x": [
            0.8877640509843954
           ],
           "xaxis": "x",
           "y": [
            -1.7921704689509244
           ],
           "yaxis": "y"
          },
          {
           "hovertemplate": "label=nonlin_pendulum<br>t=9.5<br>x=%{x}<br>y=%{y}<extra></extra>",
           "legendgroup": "nonlin_pendulum",
           "marker": {
            "color": "#EF553B",
            "symbol": "circle"
           },
           "mode": "markers",
           "name": "nonlin_pendulum",
           "orientation": "v",
           "showlegend": true,
           "type": "scatter",
           "x": [
            -0.26841717279407423
           ],
           "xaxis": "x",
           "y": [
            -1.9819062090192956
           ],
           "yaxis": "y"
          },
          {
           "hovertemplate": "label=Analytic linear<br>t=9.5<br>x=%{x}<br>y=%{y}<extra></extra>",
           "legendgroup": "Analytic linear",
           "marker": {
            "color": "#00cc96",
            "symbol": "circle"
           },
           "mode": "markers",
           "name": "Analytic linear",
           "orientation": "v",
           "showlegend": true,
           "type": "scatter",
           "x": [
            0.8807879778198388
           ],
           "xaxis": "x",
           "y": [
            -1.7956092387064728
           ],
           "yaxis": "y"
          }
         ],
         "name": "9.5"
        },
        {
         "data": [
          {
           "hovertemplate": "label=lin_pendulum<br>t=9.600000000000001<br>x=%{x}<br>y=%{y}<extra></extra>",
           "legendgroup": "lin_pendulum",
           "marker": {
            "color": "#636efa",
            "symbol": "circle"
           },
           "mode": "markers",
           "name": "lin_pendulum",
           "orientation": "v",
           "showlegend": true,
           "type": "scatter",
           "x": [
            1.1104774651107556
           ],
           "xaxis": "x",
           "y": [
            -1.6633820365391683
           ],
           "yaxis": "y"
          },
          {
           "hovertemplate": "label=nonlin_pendulum<br>t=9.600000000000001<br>x=%{x}<br>y=%{y}<extra></extra>",
           "legendgroup": "nonlin_pendulum",
           "marker": {
            "color": "#EF553B",
            "symbol": "circle"
           },
           "mode": "markers",
           "name": "nonlin_pendulum",
           "orientation": "v",
           "showlegend": true,
           "type": "scatter",
           "x": [
            0.06676553537413699
           ],
           "xaxis": "x",
           "y": [
            -1.9988852801714772
           ],
           "yaxis": "y"
          },
          {
           "hovertemplate": "label=Analytic linear<br>t=9.600000000000001<br>x=%{x}<br>y=%{y}<extra></extra>",
           "legendgroup": "Analytic linear",
           "marker": {
            "color": "#00cc96",
            "symbol": "circle"
           },
           "mode": "markers",
           "name": "Analytic linear",
           "orientation": "v",
           "showlegend": true,
           "type": "scatter",
           "x": [
            1.1050016048721336
           ],
           "xaxis": "x",
           "y": [
            -1.6670247308393504
           ],
           "yaxis": "y"
          }
         ],
         "name": "9.600000000000001"
        },
        {
         "data": [
          {
           "hovertemplate": "label=lin_pendulum<br>t=9.700000000000001<br>x=%{x}<br>y=%{y}<extra></extra>",
           "legendgroup": "lin_pendulum",
           "marker": {
            "color": "#636efa",
            "symbol": "circle"
           },
           "mode": "markers",
           "name": "lin_pendulum",
           "orientation": "v",
           "showlegend": true,
           "type": "scatter",
           "x": [
            1.2707418589862043
           ],
           "xaxis": "x",
           "y": [
            -1.544414169780984
           ],
           "yaxis": "y"
          },
          {
           "hovertemplate": "label=nonlin_pendulum<br>t=9.700000000000001<br>x=%{x}<br>y=%{y}<extra></extra>",
           "legendgroup": "nonlin_pendulum",
           "marker": {
            "color": "#EF553B",
            "symbol": "circle"
           },
           "mode": "markers",
           "name": "nonlin_pendulum",
           "orientation": "v",
           "showlegend": true,
           "type": "scatter",
           "x": [
            0.3971504749110323
           ],
           "xaxis": "x",
           "y": [
            -1.9601712936062352
           ],
           "yaxis": "y"
          },
          {
           "hovertemplate": "label=Analytic linear<br>t=9.700000000000001<br>x=%{x}<br>y=%{y}<extra></extra>",
           "legendgroup": "Analytic linear",
           "marker": {
            "color": "#00cc96",
            "symbol": "circle"
           },
           "mode": "markers",
           "name": "Analytic linear",
           "orientation": "v",
           "showlegend": true,
           "type": "scatter",
           "x": [
            1.2670348771305906
           ],
           "xaxis": "x",
           "y": [
            -1.5474568233507096
           ],
           "yaxis": "y"
          }
         ],
         "name": "9.700000000000001"
        },
        {
         "data": [
          {
           "hovertemplate": "label=lin_pendulum<br>t=9.8<br>x=%{x}<br>y=%{y}<extra></extra>",
           "legendgroup": "lin_pendulum",
           "marker": {
            "color": "#636efa",
            "symbol": "circle"
           },
           "mode": "markers",
           "name": "lin_pendulum",
           "orientation": "v",
           "showlegend": true,
           "type": "scatter",
           "x": [
            1.36995723789087
           ],
           "xaxis": "x",
           "y": [
            -1.4571263385000004
           ],
           "yaxis": "y"
          },
          {
           "hovertemplate": "label=nonlin_pendulum<br>t=9.8<br>x=%{x}<br>y=%{y}<extra></extra>",
           "legendgroup": "nonlin_pendulum",
           "marker": {
            "color": "#EF553B",
            "symbol": "circle"
           },
           "mode": "markers",
           "name": "nonlin_pendulum",
           "orientation": "v",
           "showlegend": true,
           "type": "scatter",
           "x": [
            0.6982211802783709
           ],
           "xaxis": "x",
           "y": [
            -1.8741630621188432
           ],
           "yaxis": "y"
          },
          {
           "hovertemplate": "label=Analytic linear<br>t=9.8<br>x=%{x}<br>y=%{y}<extra></extra>",
           "legendgroup": "Analytic linear",
           "marker": {
            "color": "#00cc96",
            "symbol": "circle"
           },
           "mode": "markers",
           "name": "Analytic linear",
           "orientation": "v",
           "showlegend": true,
           "type": "scatter",
           "x": [
            1.3681061845519924
           ],
           "xaxis": "x",
           "y": [
            -1.458864444624856
           ],
           "yaxis": "y"
          }
         ],
         "name": "9.8"
        },
        {
         "data": [
          {
           "hovertemplate": "label=lin_pendulum<br>t=9.9<br>x=%{x}<br>y=%{y}<extra></extra>",
           "legendgroup": "lin_pendulum",
           "marker": {
            "color": "#636efa",
            "symbol": "circle"
           },
           "mode": "markers",
           "name": "lin_pendulum",
           "orientation": "v",
           "showlegend": true,
           "type": "scatter",
           "x": [
            1.4120116002604375
           ],
           "xaxis": "x",
           "y": [
            -1.4164121013073698
           ],
           "yaxis": "y"
          },
          {
           "hovertemplate": "label=nonlin_pendulum<br>t=9.9<br>x=%{x}<br>y=%{y}<extra></extra>",
           "legendgroup": "nonlin_pendulum",
           "marker": {
            "color": "#EF553B",
            "symbol": "circle"
           },
           "mode": "markers",
           "name": "nonlin_pendulum",
           "orientation": "v",
           "showlegend": true,
           "type": "scatter",
           "x": [
            0.9522937239802836
           ],
           "xaxis": "x",
           "y": [
            -1.7587315495173683
           ],
           "yaxis": "y"
          },
          {
           "hovertemplate": "label=Analytic linear<br>t=9.9<br>x=%{x}<br>y=%{y}<extra></extra>",
           "legendgroup": "Analytic linear",
           "marker": {
            "color": "#00cc96",
            "symbol": "circle"
           },
           "mode": "markers",
           "name": "Analytic linear",
           "orientation": "v",
           "showlegend": true,
           "type": "scatter",
           "x": [
            1.4118380452253925
           ],
           "xaxis": "x",
           "y": [
            -1.416585095945225
           ],
           "yaxis": "y"
          }
         ],
         "name": "9.9"
        }
       ],
       "layout": {
        "legend": {
         "title": {
          "text": "label"
         },
         "tracegroupgap": 0
        },
        "margin": {
         "t": 60
        },
        "sliders": [
         {
          "active": 0,
          "currentvalue": {
           "prefix": "t="
          },
          "len": 0.9,
          "pad": {
           "b": 10,
           "t": 60
          },
          "steps": [
           {
            "args": [
             [
              "0.0"
             ],
             {
              "frame": {
               "duration": 0,
               "redraw": false
              },
              "fromcurrent": true,
              "mode": "immediate",
              "transition": {
               "duration": 0,
               "easing": "linear"
              }
             }
            ],
            "label": "0.0",
            "method": "animate"
           },
           {
            "args": [
             [
              "0.1"
             ],
             {
              "frame": {
               "duration": 0,
               "redraw": false
              },
              "fromcurrent": true,
              "mode": "immediate",
              "transition": {
               "duration": 0,
               "easing": "linear"
              }
             }
            ],
            "label": "0.1",
            "method": "animate"
           },
           {
            "args": [
             [
              "0.2"
             ],
             {
              "frame": {
               "duration": 0,
               "redraw": false
              },
              "fromcurrent": true,
              "mode": "immediate",
              "transition": {
               "duration": 0,
               "easing": "linear"
              }
             }
            ],
            "label": "0.2",
            "method": "animate"
           },
           {
            "args": [
             [
              "0.30000000000000004"
             ],
             {
              "frame": {
               "duration": 0,
               "redraw": false
              },
              "fromcurrent": true,
              "mode": "immediate",
              "transition": {
               "duration": 0,
               "easing": "linear"
              }
             }
            ],
            "label": "0.30000000000000004",
            "method": "animate"
           },
           {
            "args": [
             [
              "0.4"
             ],
             {
              "frame": {
               "duration": 0,
               "redraw": false
              },
              "fromcurrent": true,
              "mode": "immediate",
              "transition": {
               "duration": 0,
               "easing": "linear"
              }
             }
            ],
            "label": "0.4",
            "method": "animate"
           },
           {
            "args": [
             [
              "0.5"
             ],
             {
              "frame": {
               "duration": 0,
               "redraw": false
              },
              "fromcurrent": true,
              "mode": "immediate",
              "transition": {
               "duration": 0,
               "easing": "linear"
              }
             }
            ],
            "label": "0.5",
            "method": "animate"
           },
           {
            "args": [
             [
              "0.6000000000000001"
             ],
             {
              "frame": {
               "duration": 0,
               "redraw": false
              },
              "fromcurrent": true,
              "mode": "immediate",
              "transition": {
               "duration": 0,
               "easing": "linear"
              }
             }
            ],
            "label": "0.6000000000000001",
            "method": "animate"
           },
           {
            "args": [
             [
              "0.7000000000000001"
             ],
             {
              "frame": {
               "duration": 0,
               "redraw": false
              },
              "fromcurrent": true,
              "mode": "immediate",
              "transition": {
               "duration": 0,
               "easing": "linear"
              }
             }
            ],
            "label": "0.7000000000000001",
            "method": "animate"
           },
           {
            "args": [
             [
              "0.8"
             ],
             {
              "frame": {
               "duration": 0,
               "redraw": false
              },
              "fromcurrent": true,
              "mode": "immediate",
              "transition": {
               "duration": 0,
               "easing": "linear"
              }
             }
            ],
            "label": "0.8",
            "method": "animate"
           },
           {
            "args": [
             [
              "0.9"
             ],
             {
              "frame": {
               "duration": 0,
               "redraw": false
              },
              "fromcurrent": true,
              "mode": "immediate",
              "transition": {
               "duration": 0,
               "easing": "linear"
              }
             }
            ],
            "label": "0.9",
            "method": "animate"
           },
           {
            "args": [
             [
              "1.0"
             ],
             {
              "frame": {
               "duration": 0,
               "redraw": false
              },
              "fromcurrent": true,
              "mode": "immediate",
              "transition": {
               "duration": 0,
               "easing": "linear"
              }
             }
            ],
            "label": "1.0",
            "method": "animate"
           },
           {
            "args": [
             [
              "1.1"
             ],
             {
              "frame": {
               "duration": 0,
               "redraw": false
              },
              "fromcurrent": true,
              "mode": "immediate",
              "transition": {
               "duration": 0,
               "easing": "linear"
              }
             }
            ],
            "label": "1.1",
            "method": "animate"
           },
           {
            "args": [
             [
              "1.2000000000000002"
             ],
             {
              "frame": {
               "duration": 0,
               "redraw": false
              },
              "fromcurrent": true,
              "mode": "immediate",
              "transition": {
               "duration": 0,
               "easing": "linear"
              }
             }
            ],
            "label": "1.2000000000000002",
            "method": "animate"
           },
           {
            "args": [
             [
              "1.3"
             ],
             {
              "frame": {
               "duration": 0,
               "redraw": false
              },
              "fromcurrent": true,
              "mode": "immediate",
              "transition": {
               "duration": 0,
               "easing": "linear"
              }
             }
            ],
            "label": "1.3",
            "method": "animate"
           },
           {
            "args": [
             [
              "1.4000000000000001"
             ],
             {
              "frame": {
               "duration": 0,
               "redraw": false
              },
              "fromcurrent": true,
              "mode": "immediate",
              "transition": {
               "duration": 0,
               "easing": "linear"
              }
             }
            ],
            "label": "1.4000000000000001",
            "method": "animate"
           },
           {
            "args": [
             [
              "1.5"
             ],
             {
              "frame": {
               "duration": 0,
               "redraw": false
              },
              "fromcurrent": true,
              "mode": "immediate",
              "transition": {
               "duration": 0,
               "easing": "linear"
              }
             }
            ],
            "label": "1.5",
            "method": "animate"
           },
           {
            "args": [
             [
              "1.6"
             ],
             {
              "frame": {
               "duration": 0,
               "redraw": false
              },
              "fromcurrent": true,
              "mode": "immediate",
              "transition": {
               "duration": 0,
               "easing": "linear"
              }
             }
            ],
            "label": "1.6",
            "method": "animate"
           },
           {
            "args": [
             [
              "1.7000000000000002"
             ],
             {
              "frame": {
               "duration": 0,
               "redraw": false
              },
              "fromcurrent": true,
              "mode": "immediate",
              "transition": {
               "duration": 0,
               "easing": "linear"
              }
             }
            ],
            "label": "1.7000000000000002",
            "method": "animate"
           },
           {
            "args": [
             [
              "1.8"
             ],
             {
              "frame": {
               "duration": 0,
               "redraw": false
              },
              "fromcurrent": true,
              "mode": "immediate",
              "transition": {
               "duration": 0,
               "easing": "linear"
              }
             }
            ],
            "label": "1.8",
            "method": "animate"
           },
           {
            "args": [
             [
              "1.9000000000000001"
             ],
             {
              "frame": {
               "duration": 0,
               "redraw": false
              },
              "fromcurrent": true,
              "mode": "immediate",
              "transition": {
               "duration": 0,
               "easing": "linear"
              }
             }
            ],
            "label": "1.9000000000000001",
            "method": "animate"
           },
           {
            "args": [
             [
              "2.0"
             ],
             {
              "frame": {
               "duration": 0,
               "redraw": false
              },
              "fromcurrent": true,
              "mode": "immediate",
              "transition": {
               "duration": 0,
               "easing": "linear"
              }
             }
            ],
            "label": "2.0",
            "method": "animate"
           },
           {
            "args": [
             [
              "2.1"
             ],
             {
              "frame": {
               "duration": 0,
               "redraw": false
              },
              "fromcurrent": true,
              "mode": "immediate",
              "transition": {
               "duration": 0,
               "easing": "linear"
              }
             }
            ],
            "label": "2.1",
            "method": "animate"
           },
           {
            "args": [
             [
              "2.2"
             ],
             {
              "frame": {
               "duration": 0,
               "redraw": false
              },
              "fromcurrent": true,
              "mode": "immediate",
              "transition": {
               "duration": 0,
               "easing": "linear"
              }
             }
            ],
            "label": "2.2",
            "method": "animate"
           },
           {
            "args": [
             [
              "2.3000000000000003"
             ],
             {
              "frame": {
               "duration": 0,
               "redraw": false
              },
              "fromcurrent": true,
              "mode": "immediate",
              "transition": {
               "duration": 0,
               "easing": "linear"
              }
             }
            ],
            "label": "2.3000000000000003",
            "method": "animate"
           },
           {
            "args": [
             [
              "2.4000000000000004"
             ],
             {
              "frame": {
               "duration": 0,
               "redraw": false
              },
              "fromcurrent": true,
              "mode": "immediate",
              "transition": {
               "duration": 0,
               "easing": "linear"
              }
             }
            ],
            "label": "2.4000000000000004",
            "method": "animate"
           },
           {
            "args": [
             [
              "2.5"
             ],
             {
              "frame": {
               "duration": 0,
               "redraw": false
              },
              "fromcurrent": true,
              "mode": "immediate",
              "transition": {
               "duration": 0,
               "easing": "linear"
              }
             }
            ],
            "label": "2.5",
            "method": "animate"
           },
           {
            "args": [
             [
              "2.6"
             ],
             {
              "frame": {
               "duration": 0,
               "redraw": false
              },
              "fromcurrent": true,
              "mode": "immediate",
              "transition": {
               "duration": 0,
               "easing": "linear"
              }
             }
            ],
            "label": "2.6",
            "method": "animate"
           },
           {
            "args": [
             [
              "2.7"
             ],
             {
              "frame": {
               "duration": 0,
               "redraw": false
              },
              "fromcurrent": true,
              "mode": "immediate",
              "transition": {
               "duration": 0,
               "easing": "linear"
              }
             }
            ],
            "label": "2.7",
            "method": "animate"
           },
           {
            "args": [
             [
              "2.8000000000000003"
             ],
             {
              "frame": {
               "duration": 0,
               "redraw": false
              },
              "fromcurrent": true,
              "mode": "immediate",
              "transition": {
               "duration": 0,
               "easing": "linear"
              }
             }
            ],
            "label": "2.8000000000000003",
            "method": "animate"
           },
           {
            "args": [
             [
              "2.9000000000000004"
             ],
             {
              "frame": {
               "duration": 0,
               "redraw": false
              },
              "fromcurrent": true,
              "mode": "immediate",
              "transition": {
               "duration": 0,
               "easing": "linear"
              }
             }
            ],
            "label": "2.9000000000000004",
            "method": "animate"
           },
           {
            "args": [
             [
              "3.0"
             ],
             {
              "frame": {
               "duration": 0,
               "redraw": false
              },
              "fromcurrent": true,
              "mode": "immediate",
              "transition": {
               "duration": 0,
               "easing": "linear"
              }
             }
            ],
            "label": "3.0",
            "method": "animate"
           },
           {
            "args": [
             [
              "3.1"
             ],
             {
              "frame": {
               "duration": 0,
               "redraw": false
              },
              "fromcurrent": true,
              "mode": "immediate",
              "transition": {
               "duration": 0,
               "easing": "linear"
              }
             }
            ],
            "label": "3.1",
            "method": "animate"
           },
           {
            "args": [
             [
              "3.2"
             ],
             {
              "frame": {
               "duration": 0,
               "redraw": false
              },
              "fromcurrent": true,
              "mode": "immediate",
              "transition": {
               "duration": 0,
               "easing": "linear"
              }
             }
            ],
            "label": "3.2",
            "method": "animate"
           },
           {
            "args": [
             [
              "3.3000000000000003"
             ],
             {
              "frame": {
               "duration": 0,
               "redraw": false
              },
              "fromcurrent": true,
              "mode": "immediate",
              "transition": {
               "duration": 0,
               "easing": "linear"
              }
             }
            ],
            "label": "3.3000000000000003",
            "method": "animate"
           },
           {
            "args": [
             [
              "3.4000000000000004"
             ],
             {
              "frame": {
               "duration": 0,
               "redraw": false
              },
              "fromcurrent": true,
              "mode": "immediate",
              "transition": {
               "duration": 0,
               "easing": "linear"
              }
             }
            ],
            "label": "3.4000000000000004",
            "method": "animate"
           },
           {
            "args": [
             [
              "3.5"
             ],
             {
              "frame": {
               "duration": 0,
               "redraw": false
              },
              "fromcurrent": true,
              "mode": "immediate",
              "transition": {
               "duration": 0,
               "easing": "linear"
              }
             }
            ],
            "label": "3.5",
            "method": "animate"
           },
           {
            "args": [
             [
              "3.6"
             ],
             {
              "frame": {
               "duration": 0,
               "redraw": false
              },
              "fromcurrent": true,
              "mode": "immediate",
              "transition": {
               "duration": 0,
               "easing": "linear"
              }
             }
            ],
            "label": "3.6",
            "method": "animate"
           },
           {
            "args": [
             [
              "3.7"
             ],
             {
              "frame": {
               "duration": 0,
               "redraw": false
              },
              "fromcurrent": true,
              "mode": "immediate",
              "transition": {
               "duration": 0,
               "easing": "linear"
              }
             }
            ],
            "label": "3.7",
            "method": "animate"
           },
           {
            "args": [
             [
              "3.8000000000000003"
             ],
             {
              "frame": {
               "duration": 0,
               "redraw": false
              },
              "fromcurrent": true,
              "mode": "immediate",
              "transition": {
               "duration": 0,
               "easing": "linear"
              }
             }
            ],
            "label": "3.8000000000000003",
            "method": "animate"
           },
           {
            "args": [
             [
              "3.9000000000000004"
             ],
             {
              "frame": {
               "duration": 0,
               "redraw": false
              },
              "fromcurrent": true,
              "mode": "immediate",
              "transition": {
               "duration": 0,
               "easing": "linear"
              }
             }
            ],
            "label": "3.9000000000000004",
            "method": "animate"
           },
           {
            "args": [
             [
              "4.0"
             ],
             {
              "frame": {
               "duration": 0,
               "redraw": false
              },
              "fromcurrent": true,
              "mode": "immediate",
              "transition": {
               "duration": 0,
               "easing": "linear"
              }
             }
            ],
            "label": "4.0",
            "method": "animate"
           },
           {
            "args": [
             [
              "4.1000000000000005"
             ],
             {
              "frame": {
               "duration": 0,
               "redraw": false
              },
              "fromcurrent": true,
              "mode": "immediate",
              "transition": {
               "duration": 0,
               "easing": "linear"
              }
             }
            ],
            "label": "4.1000000000000005",
            "method": "animate"
           },
           {
            "args": [
             [
              "4.2"
             ],
             {
              "frame": {
               "duration": 0,
               "redraw": false
              },
              "fromcurrent": true,
              "mode": "immediate",
              "transition": {
               "duration": 0,
               "easing": "linear"
              }
             }
            ],
            "label": "4.2",
            "method": "animate"
           },
           {
            "args": [
             [
              "4.3"
             ],
             {
              "frame": {
               "duration": 0,
               "redraw": false
              },
              "fromcurrent": true,
              "mode": "immediate",
              "transition": {
               "duration": 0,
               "easing": "linear"
              }
             }
            ],
            "label": "4.3",
            "method": "animate"
           },
           {
            "args": [
             [
              "4.4"
             ],
             {
              "frame": {
               "duration": 0,
               "redraw": false
              },
              "fromcurrent": true,
              "mode": "immediate",
              "transition": {
               "duration": 0,
               "easing": "linear"
              }
             }
            ],
            "label": "4.4",
            "method": "animate"
           },
           {
            "args": [
             [
              "4.5"
             ],
             {
              "frame": {
               "duration": 0,
               "redraw": false
              },
              "fromcurrent": true,
              "mode": "immediate",
              "transition": {
               "duration": 0,
               "easing": "linear"
              }
             }
            ],
            "label": "4.5",
            "method": "animate"
           },
           {
            "args": [
             [
              "4.6000000000000005"
             ],
             {
              "frame": {
               "duration": 0,
               "redraw": false
              },
              "fromcurrent": true,
              "mode": "immediate",
              "transition": {
               "duration": 0,
               "easing": "linear"
              }
             }
            ],
            "label": "4.6000000000000005",
            "method": "animate"
           },
           {
            "args": [
             [
              "4.7"
             ],
             {
              "frame": {
               "duration": 0,
               "redraw": false
              },
              "fromcurrent": true,
              "mode": "immediate",
              "transition": {
               "duration": 0,
               "easing": "linear"
              }
             }
            ],
            "label": "4.7",
            "method": "animate"
           },
           {
            "args": [
             [
              "4.800000000000001"
             ],
             {
              "frame": {
               "duration": 0,
               "redraw": false
              },
              "fromcurrent": true,
              "mode": "immediate",
              "transition": {
               "duration": 0,
               "easing": "linear"
              }
             }
            ],
            "label": "4.800000000000001",
            "method": "animate"
           },
           {
            "args": [
             [
              "4.9"
             ],
             {
              "frame": {
               "duration": 0,
               "redraw": false
              },
              "fromcurrent": true,
              "mode": "immediate",
              "transition": {
               "duration": 0,
               "easing": "linear"
              }
             }
            ],
            "label": "4.9",
            "method": "animate"
           },
           {
            "args": [
             [
              "5.0"
             ],
             {
              "frame": {
               "duration": 0,
               "redraw": false
              },
              "fromcurrent": true,
              "mode": "immediate",
              "transition": {
               "duration": 0,
               "easing": "linear"
              }
             }
            ],
            "label": "5.0",
            "method": "animate"
           },
           {
            "args": [
             [
              "5.1000000000000005"
             ],
             {
              "frame": {
               "duration": 0,
               "redraw": false
              },
              "fromcurrent": true,
              "mode": "immediate",
              "transition": {
               "duration": 0,
               "easing": "linear"
              }
             }
            ],
            "label": "5.1000000000000005",
            "method": "animate"
           },
           {
            "args": [
             [
              "5.2"
             ],
             {
              "frame": {
               "duration": 0,
               "redraw": false
              },
              "fromcurrent": true,
              "mode": "immediate",
              "transition": {
               "duration": 0,
               "easing": "linear"
              }
             }
            ],
            "label": "5.2",
            "method": "animate"
           },
           {
            "args": [
             [
              "5.300000000000001"
             ],
             {
              "frame": {
               "duration": 0,
               "redraw": false
              },
              "fromcurrent": true,
              "mode": "immediate",
              "transition": {
               "duration": 0,
               "easing": "linear"
              }
             }
            ],
            "label": "5.300000000000001",
            "method": "animate"
           },
           {
            "args": [
             [
              "5.4"
             ],
             {
              "frame": {
               "duration": 0,
               "redraw": false
              },
              "fromcurrent": true,
              "mode": "immediate",
              "transition": {
               "duration": 0,
               "easing": "linear"
              }
             }
            ],
            "label": "5.4",
            "method": "animate"
           },
           {
            "args": [
             [
              "5.5"
             ],
             {
              "frame": {
               "duration": 0,
               "redraw": false
              },
              "fromcurrent": true,
              "mode": "immediate",
              "transition": {
               "duration": 0,
               "easing": "linear"
              }
             }
            ],
            "label": "5.5",
            "method": "animate"
           },
           {
            "args": [
             [
              "5.6000000000000005"
             ],
             {
              "frame": {
               "duration": 0,
               "redraw": false
              },
              "fromcurrent": true,
              "mode": "immediate",
              "transition": {
               "duration": 0,
               "easing": "linear"
              }
             }
            ],
            "label": "5.6000000000000005",
            "method": "animate"
           },
           {
            "args": [
             [
              "5.7"
             ],
             {
              "frame": {
               "duration": 0,
               "redraw": false
              },
              "fromcurrent": true,
              "mode": "immediate",
              "transition": {
               "duration": 0,
               "easing": "linear"
              }
             }
            ],
            "label": "5.7",
            "method": "animate"
           },
           {
            "args": [
             [
              "5.800000000000001"
             ],
             {
              "frame": {
               "duration": 0,
               "redraw": false
              },
              "fromcurrent": true,
              "mode": "immediate",
              "transition": {
               "duration": 0,
               "easing": "linear"
              }
             }
            ],
            "label": "5.800000000000001",
            "method": "animate"
           },
           {
            "args": [
             [
              "5.9"
             ],
             {
              "frame": {
               "duration": 0,
               "redraw": false
              },
              "fromcurrent": true,
              "mode": "immediate",
              "transition": {
               "duration": 0,
               "easing": "linear"
              }
             }
            ],
            "label": "5.9",
            "method": "animate"
           },
           {
            "args": [
             [
              "6.0"
             ],
             {
              "frame": {
               "duration": 0,
               "redraw": false
              },
              "fromcurrent": true,
              "mode": "immediate",
              "transition": {
               "duration": 0,
               "easing": "linear"
              }
             }
            ],
            "label": "6.0",
            "method": "animate"
           },
           {
            "args": [
             [
              "6.1000000000000005"
             ],
             {
              "frame": {
               "duration": 0,
               "redraw": false
              },
              "fromcurrent": true,
              "mode": "immediate",
              "transition": {
               "duration": 0,
               "easing": "linear"
              }
             }
            ],
            "label": "6.1000000000000005",
            "method": "animate"
           },
           {
            "args": [
             [
              "6.2"
             ],
             {
              "frame": {
               "duration": 0,
               "redraw": false
              },
              "fromcurrent": true,
              "mode": "immediate",
              "transition": {
               "duration": 0,
               "easing": "linear"
              }
             }
            ],
            "label": "6.2",
            "method": "animate"
           },
           {
            "args": [
             [
              "6.300000000000001"
             ],
             {
              "frame": {
               "duration": 0,
               "redraw": false
              },
              "fromcurrent": true,
              "mode": "immediate",
              "transition": {
               "duration": 0,
               "easing": "linear"
              }
             }
            ],
            "label": "6.300000000000001",
            "method": "animate"
           },
           {
            "args": [
             [
              "6.4"
             ],
             {
              "frame": {
               "duration": 0,
               "redraw": false
              },
              "fromcurrent": true,
              "mode": "immediate",
              "transition": {
               "duration": 0,
               "easing": "linear"
              }
             }
            ],
            "label": "6.4",
            "method": "animate"
           },
           {
            "args": [
             [
              "6.5"
             ],
             {
              "frame": {
               "duration": 0,
               "redraw": false
              },
              "fromcurrent": true,
              "mode": "immediate",
              "transition": {
               "duration": 0,
               "easing": "linear"
              }
             }
            ],
            "label": "6.5",
            "method": "animate"
           },
           {
            "args": [
             [
              "6.6000000000000005"
             ],
             {
              "frame": {
               "duration": 0,
               "redraw": false
              },
              "fromcurrent": true,
              "mode": "immediate",
              "transition": {
               "duration": 0,
               "easing": "linear"
              }
             }
            ],
            "label": "6.6000000000000005",
            "method": "animate"
           },
           {
            "args": [
             [
              "6.7"
             ],
             {
              "frame": {
               "duration": 0,
               "redraw": false
              },
              "fromcurrent": true,
              "mode": "immediate",
              "transition": {
               "duration": 0,
               "easing": "linear"
              }
             }
            ],
            "label": "6.7",
            "method": "animate"
           },
           {
            "args": [
             [
              "6.800000000000001"
             ],
             {
              "frame": {
               "duration": 0,
               "redraw": false
              },
              "fromcurrent": true,
              "mode": "immediate",
              "transition": {
               "duration": 0,
               "easing": "linear"
              }
             }
            ],
            "label": "6.800000000000001",
            "method": "animate"
           },
           {
            "args": [
             [
              "6.9"
             ],
             {
              "frame": {
               "duration": 0,
               "redraw": false
              },
              "fromcurrent": true,
              "mode": "immediate",
              "transition": {
               "duration": 0,
               "easing": "linear"
              }
             }
            ],
            "label": "6.9",
            "method": "animate"
           },
           {
            "args": [
             [
              "7.0"
             ],
             {
              "frame": {
               "duration": 0,
               "redraw": false
              },
              "fromcurrent": true,
              "mode": "immediate",
              "transition": {
               "duration": 0,
               "easing": "linear"
              }
             }
            ],
            "label": "7.0",
            "method": "animate"
           },
           {
            "args": [
             [
              "7.1000000000000005"
             ],
             {
              "frame": {
               "duration": 0,
               "redraw": false
              },
              "fromcurrent": true,
              "mode": "immediate",
              "transition": {
               "duration": 0,
               "easing": "linear"
              }
             }
            ],
            "label": "7.1000000000000005",
            "method": "animate"
           },
           {
            "args": [
             [
              "7.2"
             ],
             {
              "frame": {
               "duration": 0,
               "redraw": false
              },
              "fromcurrent": true,
              "mode": "immediate",
              "transition": {
               "duration": 0,
               "easing": "linear"
              }
             }
            ],
            "label": "7.2",
            "method": "animate"
           },
           {
            "args": [
             [
              "7.300000000000001"
             ],
             {
              "frame": {
               "duration": 0,
               "redraw": false
              },
              "fromcurrent": true,
              "mode": "immediate",
              "transition": {
               "duration": 0,
               "easing": "linear"
              }
             }
            ],
            "label": "7.300000000000001",
            "method": "animate"
           },
           {
            "args": [
             [
              "7.4"
             ],
             {
              "frame": {
               "duration": 0,
               "redraw": false
              },
              "fromcurrent": true,
              "mode": "immediate",
              "transition": {
               "duration": 0,
               "easing": "linear"
              }
             }
            ],
            "label": "7.4",
            "method": "animate"
           },
           {
            "args": [
             [
              "7.5"
             ],
             {
              "frame": {
               "duration": 0,
               "redraw": false
              },
              "fromcurrent": true,
              "mode": "immediate",
              "transition": {
               "duration": 0,
               "easing": "linear"
              }
             }
            ],
            "label": "7.5",
            "method": "animate"
           },
           {
            "args": [
             [
              "7.6000000000000005"
             ],
             {
              "frame": {
               "duration": 0,
               "redraw": false
              },
              "fromcurrent": true,
              "mode": "immediate",
              "transition": {
               "duration": 0,
               "easing": "linear"
              }
             }
            ],
            "label": "7.6000000000000005",
            "method": "animate"
           },
           {
            "args": [
             [
              "7.7"
             ],
             {
              "frame": {
               "duration": 0,
               "redraw": false
              },
              "fromcurrent": true,
              "mode": "immediate",
              "transition": {
               "duration": 0,
               "easing": "linear"
              }
             }
            ],
            "label": "7.7",
            "method": "animate"
           },
           {
            "args": [
             [
              "7.800000000000001"
             ],
             {
              "frame": {
               "duration": 0,
               "redraw": false
              },
              "fromcurrent": true,
              "mode": "immediate",
              "transition": {
               "duration": 0,
               "easing": "linear"
              }
             }
            ],
            "label": "7.800000000000001",
            "method": "animate"
           },
           {
            "args": [
             [
              "7.9"
             ],
             {
              "frame": {
               "duration": 0,
               "redraw": false
              },
              "fromcurrent": true,
              "mode": "immediate",
              "transition": {
               "duration": 0,
               "easing": "linear"
              }
             }
            ],
            "label": "7.9",
            "method": "animate"
           },
           {
            "args": [
             [
              "8.0"
             ],
             {
              "frame": {
               "duration": 0,
               "redraw": false
              },
              "fromcurrent": true,
              "mode": "immediate",
              "transition": {
               "duration": 0,
               "easing": "linear"
              }
             }
            ],
            "label": "8.0",
            "method": "animate"
           },
           {
            "args": [
             [
              "8.1"
             ],
             {
              "frame": {
               "duration": 0,
               "redraw": false
              },
              "fromcurrent": true,
              "mode": "immediate",
              "transition": {
               "duration": 0,
               "easing": "linear"
              }
             }
            ],
            "label": "8.1",
            "method": "animate"
           },
           {
            "args": [
             [
              "8.200000000000001"
             ],
             {
              "frame": {
               "duration": 0,
               "redraw": false
              },
              "fromcurrent": true,
              "mode": "immediate",
              "transition": {
               "duration": 0,
               "easing": "linear"
              }
             }
            ],
            "label": "8.200000000000001",
            "method": "animate"
           },
           {
            "args": [
             [
              "8.3"
             ],
             {
              "frame": {
               "duration": 0,
               "redraw": false
              },
              "fromcurrent": true,
              "mode": "immediate",
              "transition": {
               "duration": 0,
               "easing": "linear"
              }
             }
            ],
            "label": "8.3",
            "method": "animate"
           },
           {
            "args": [
             [
              "8.4"
             ],
             {
              "frame": {
               "duration": 0,
               "redraw": false
              },
              "fromcurrent": true,
              "mode": "immediate",
              "transition": {
               "duration": 0,
               "easing": "linear"
              }
             }
            ],
            "label": "8.4",
            "method": "animate"
           },
           {
            "args": [
             [
              "8.5"
             ],
             {
              "frame": {
               "duration": 0,
               "redraw": false
              },
              "fromcurrent": true,
              "mode": "immediate",
              "transition": {
               "duration": 0,
               "easing": "linear"
              }
             }
            ],
            "label": "8.5",
            "method": "animate"
           },
           {
            "args": [
             [
              "8.6"
             ],
             {
              "frame": {
               "duration": 0,
               "redraw": false
              },
              "fromcurrent": true,
              "mode": "immediate",
              "transition": {
               "duration": 0,
               "easing": "linear"
              }
             }
            ],
            "label": "8.6",
            "method": "animate"
           },
           {
            "args": [
             [
              "8.700000000000001"
             ],
             {
              "frame": {
               "duration": 0,
               "redraw": false
              },
              "fromcurrent": true,
              "mode": "immediate",
              "transition": {
               "duration": 0,
               "easing": "linear"
              }
             }
            ],
            "label": "8.700000000000001",
            "method": "animate"
           },
           {
            "args": [
             [
              "8.8"
             ],
             {
              "frame": {
               "duration": 0,
               "redraw": false
              },
              "fromcurrent": true,
              "mode": "immediate",
              "transition": {
               "duration": 0,
               "easing": "linear"
              }
             }
            ],
            "label": "8.8",
            "method": "animate"
           },
           {
            "args": [
             [
              "8.9"
             ],
             {
              "frame": {
               "duration": 0,
               "redraw": false
              },
              "fromcurrent": true,
              "mode": "immediate",
              "transition": {
               "duration": 0,
               "easing": "linear"
              }
             }
            ],
            "label": "8.9",
            "method": "animate"
           },
           {
            "args": [
             [
              "9.0"
             ],
             {
              "frame": {
               "duration": 0,
               "redraw": false
              },
              "fromcurrent": true,
              "mode": "immediate",
              "transition": {
               "duration": 0,
               "easing": "linear"
              }
             }
            ],
            "label": "9.0",
            "method": "animate"
           },
           {
            "args": [
             [
              "9.1"
             ],
             {
              "frame": {
               "duration": 0,
               "redraw": false
              },
              "fromcurrent": true,
              "mode": "immediate",
              "transition": {
               "duration": 0,
               "easing": "linear"
              }
             }
            ],
            "label": "9.1",
            "method": "animate"
           },
           {
            "args": [
             [
              "9.200000000000001"
             ],
             {
              "frame": {
               "duration": 0,
               "redraw": false
              },
              "fromcurrent": true,
              "mode": "immediate",
              "transition": {
               "duration": 0,
               "easing": "linear"
              }
             }
            ],
            "label": "9.200000000000001",
            "method": "animate"
           },
           {
            "args": [
             [
              "9.3"
             ],
             {
              "frame": {
               "duration": 0,
               "redraw": false
              },
              "fromcurrent": true,
              "mode": "immediate",
              "transition": {
               "duration": 0,
               "easing": "linear"
              }
             }
            ],
            "label": "9.3",
            "method": "animate"
           },
           {
            "args": [
             [
              "9.4"
             ],
             {
              "frame": {
               "duration": 0,
               "redraw": false
              },
              "fromcurrent": true,
              "mode": "immediate",
              "transition": {
               "duration": 0,
               "easing": "linear"
              }
             }
            ],
            "label": "9.4",
            "method": "animate"
           },
           {
            "args": [
             [
              "9.5"
             ],
             {
              "frame": {
               "duration": 0,
               "redraw": false
              },
              "fromcurrent": true,
              "mode": "immediate",
              "transition": {
               "duration": 0,
               "easing": "linear"
              }
             }
            ],
            "label": "9.5",
            "method": "animate"
           },
           {
            "args": [
             [
              "9.600000000000001"
             ],
             {
              "frame": {
               "duration": 0,
               "redraw": false
              },
              "fromcurrent": true,
              "mode": "immediate",
              "transition": {
               "duration": 0,
               "easing": "linear"
              }
             }
            ],
            "label": "9.600000000000001",
            "method": "animate"
           },
           {
            "args": [
             [
              "9.700000000000001"
             ],
             {
              "frame": {
               "duration": 0,
               "redraw": false
              },
              "fromcurrent": true,
              "mode": "immediate",
              "transition": {
               "duration": 0,
               "easing": "linear"
              }
             }
            ],
            "label": "9.700000000000001",
            "method": "animate"
           },
           {
            "args": [
             [
              "9.8"
             ],
             {
              "frame": {
               "duration": 0,
               "redraw": false
              },
              "fromcurrent": true,
              "mode": "immediate",
              "transition": {
               "duration": 0,
               "easing": "linear"
              }
             }
            ],
            "label": "9.8",
            "method": "animate"
           },
           {
            "args": [
             [
              "9.9"
             ],
             {
              "frame": {
               "duration": 0,
               "redraw": false
              },
              "fromcurrent": true,
              "mode": "immediate",
              "transition": {
               "duration": 0,
               "easing": "linear"
              }
             }
            ],
            "label": "9.9",
            "method": "animate"
           }
          ],
          "x": 0.1,
          "xanchor": "left",
          "y": 0,
          "yanchor": "top"
         }
        ],
        "template": {
         "data": {
          "bar": [
           {
            "error_x": {
             "color": "#2a3f5f"
            },
            "error_y": {
             "color": "#2a3f5f"
            },
            "marker": {
             "line": {
              "color": "#E5ECF6",
              "width": 0.5
             },
             "pattern": {
              "fillmode": "overlay",
              "size": 10,
              "solidity": 0.2
             }
            },
            "type": "bar"
           }
          ],
          "barpolar": [
           {
            "marker": {
             "line": {
              "color": "#E5ECF6",
              "width": 0.5
             },
             "pattern": {
              "fillmode": "overlay",
              "size": 10,
              "solidity": 0.2
             }
            },
            "type": "barpolar"
           }
          ],
          "carpet": [
           {
            "aaxis": {
             "endlinecolor": "#2a3f5f",
             "gridcolor": "white",
             "linecolor": "white",
             "minorgridcolor": "white",
             "startlinecolor": "#2a3f5f"
            },
            "baxis": {
             "endlinecolor": "#2a3f5f",
             "gridcolor": "white",
             "linecolor": "white",
             "minorgridcolor": "white",
             "startlinecolor": "#2a3f5f"
            },
            "type": "carpet"
           }
          ],
          "choropleth": [
           {
            "colorbar": {
             "outlinewidth": 0,
             "ticks": ""
            },
            "type": "choropleth"
           }
          ],
          "contour": [
           {
            "colorbar": {
             "outlinewidth": 0,
             "ticks": ""
            },
            "colorscale": [
             [
              0,
              "#0d0887"
             ],
             [
              0.1111111111111111,
              "#46039f"
             ],
             [
              0.2222222222222222,
              "#7201a8"
             ],
             [
              0.3333333333333333,
              "#9c179e"
             ],
             [
              0.4444444444444444,
              "#bd3786"
             ],
             [
              0.5555555555555556,
              "#d8576b"
             ],
             [
              0.6666666666666666,
              "#ed7953"
             ],
             [
              0.7777777777777778,
              "#fb9f3a"
             ],
             [
              0.8888888888888888,
              "#fdca26"
             ],
             [
              1,
              "#f0f921"
             ]
            ],
            "type": "contour"
           }
          ],
          "contourcarpet": [
           {
            "colorbar": {
             "outlinewidth": 0,
             "ticks": ""
            },
            "type": "contourcarpet"
           }
          ],
          "heatmap": [
           {
            "colorbar": {
             "outlinewidth": 0,
             "ticks": ""
            },
            "colorscale": [
             [
              0,
              "#0d0887"
             ],
             [
              0.1111111111111111,
              "#46039f"
             ],
             [
              0.2222222222222222,
              "#7201a8"
             ],
             [
              0.3333333333333333,
              "#9c179e"
             ],
             [
              0.4444444444444444,
              "#bd3786"
             ],
             [
              0.5555555555555556,
              "#d8576b"
             ],
             [
              0.6666666666666666,
              "#ed7953"
             ],
             [
              0.7777777777777778,
              "#fb9f3a"
             ],
             [
              0.8888888888888888,
              "#fdca26"
             ],
             [
              1,
              "#f0f921"
             ]
            ],
            "type": "heatmap"
           }
          ],
          "heatmapgl": [
           {
            "colorbar": {
             "outlinewidth": 0,
             "ticks": ""
            },
            "colorscale": [
             [
              0,
              "#0d0887"
             ],
             [
              0.1111111111111111,
              "#46039f"
             ],
             [
              0.2222222222222222,
              "#7201a8"
             ],
             [
              0.3333333333333333,
              "#9c179e"
             ],
             [
              0.4444444444444444,
              "#bd3786"
             ],
             [
              0.5555555555555556,
              "#d8576b"
             ],
             [
              0.6666666666666666,
              "#ed7953"
             ],
             [
              0.7777777777777778,
              "#fb9f3a"
             ],
             [
              0.8888888888888888,
              "#fdca26"
             ],
             [
              1,
              "#f0f921"
             ]
            ],
            "type": "heatmapgl"
           }
          ],
          "histogram": [
           {
            "marker": {
             "pattern": {
              "fillmode": "overlay",
              "size": 10,
              "solidity": 0.2
             }
            },
            "type": "histogram"
           }
          ],
          "histogram2d": [
           {
            "colorbar": {
             "outlinewidth": 0,
             "ticks": ""
            },
            "colorscale": [
             [
              0,
              "#0d0887"
             ],
             [
              0.1111111111111111,
              "#46039f"
             ],
             [
              0.2222222222222222,
              "#7201a8"
             ],
             [
              0.3333333333333333,
              "#9c179e"
             ],
             [
              0.4444444444444444,
              "#bd3786"
             ],
             [
              0.5555555555555556,
              "#d8576b"
             ],
             [
              0.6666666666666666,
              "#ed7953"
             ],
             [
              0.7777777777777778,
              "#fb9f3a"
             ],
             [
              0.8888888888888888,
              "#fdca26"
             ],
             [
              1,
              "#f0f921"
             ]
            ],
            "type": "histogram2d"
           }
          ],
          "histogram2dcontour": [
           {
            "colorbar": {
             "outlinewidth": 0,
             "ticks": ""
            },
            "colorscale": [
             [
              0,
              "#0d0887"
             ],
             [
              0.1111111111111111,
              "#46039f"
             ],
             [
              0.2222222222222222,
              "#7201a8"
             ],
             [
              0.3333333333333333,
              "#9c179e"
             ],
             [
              0.4444444444444444,
              "#bd3786"
             ],
             [
              0.5555555555555556,
              "#d8576b"
             ],
             [
              0.6666666666666666,
              "#ed7953"
             ],
             [
              0.7777777777777778,
              "#fb9f3a"
             ],
             [
              0.8888888888888888,
              "#fdca26"
             ],
             [
              1,
              "#f0f921"
             ]
            ],
            "type": "histogram2dcontour"
           }
          ],
          "mesh3d": [
           {
            "colorbar": {
             "outlinewidth": 0,
             "ticks": ""
            },
            "type": "mesh3d"
           }
          ],
          "parcoords": [
           {
            "line": {
             "colorbar": {
              "outlinewidth": 0,
              "ticks": ""
             }
            },
            "type": "parcoords"
           }
          ],
          "pie": [
           {
            "automargin": true,
            "type": "pie"
           }
          ],
          "scatter": [
           {
            "fillpattern": {
             "fillmode": "overlay",
             "size": 10,
             "solidity": 0.2
            },
            "type": "scatter"
           }
          ],
          "scatter3d": [
           {
            "line": {
             "colorbar": {
              "outlinewidth": 0,
              "ticks": ""
             }
            },
            "marker": {
             "colorbar": {
              "outlinewidth": 0,
              "ticks": ""
             }
            },
            "type": "scatter3d"
           }
          ],
          "scattercarpet": [
           {
            "marker": {
             "colorbar": {
              "outlinewidth": 0,
              "ticks": ""
             }
            },
            "type": "scattercarpet"
           }
          ],
          "scattergeo": [
           {
            "marker": {
             "colorbar": {
              "outlinewidth": 0,
              "ticks": ""
             }
            },
            "type": "scattergeo"
           }
          ],
          "scattergl": [
           {
            "marker": {
             "colorbar": {
              "outlinewidth": 0,
              "ticks": ""
             }
            },
            "type": "scattergl"
           }
          ],
          "scattermapbox": [
           {
            "marker": {
             "colorbar": {
              "outlinewidth": 0,
              "ticks": ""
             }
            },
            "type": "scattermapbox"
           }
          ],
          "scatterpolar": [
           {
            "marker": {
             "colorbar": {
              "outlinewidth": 0,
              "ticks": ""
             }
            },
            "type": "scatterpolar"
           }
          ],
          "scatterpolargl": [
           {
            "marker": {
             "colorbar": {
              "outlinewidth": 0,
              "ticks": ""
             }
            },
            "type": "scatterpolargl"
           }
          ],
          "scatterternary": [
           {
            "marker": {
             "colorbar": {
              "outlinewidth": 0,
              "ticks": ""
             }
            },
            "type": "scatterternary"
           }
          ],
          "surface": [
           {
            "colorbar": {
             "outlinewidth": 0,
             "ticks": ""
            },
            "colorscale": [
             [
              0,
              "#0d0887"
             ],
             [
              0.1111111111111111,
              "#46039f"
             ],
             [
              0.2222222222222222,
              "#7201a8"
             ],
             [
              0.3333333333333333,
              "#9c179e"
             ],
             [
              0.4444444444444444,
              "#bd3786"
             ],
             [
              0.5555555555555556,
              "#d8576b"
             ],
             [
              0.6666666666666666,
              "#ed7953"
             ],
             [
              0.7777777777777778,
              "#fb9f3a"
             ],
             [
              0.8888888888888888,
              "#fdca26"
             ],
             [
              1,
              "#f0f921"
             ]
            ],
            "type": "surface"
           }
          ],
          "table": [
           {
            "cells": {
             "fill": {
              "color": "#EBF0F8"
             },
             "line": {
              "color": "white"
             }
            },
            "header": {
             "fill": {
              "color": "#C8D4E3"
             },
             "line": {
              "color": "white"
             }
            },
            "type": "table"
           }
          ]
         },
         "layout": {
          "annotationdefaults": {
           "arrowcolor": "#2a3f5f",
           "arrowhead": 0,
           "arrowwidth": 1
          },
          "autotypenumbers": "strict",
          "coloraxis": {
           "colorbar": {
            "outlinewidth": 0,
            "ticks": ""
           }
          },
          "colorscale": {
           "diverging": [
            [
             0,
             "#8e0152"
            ],
            [
             0.1,
             "#c51b7d"
            ],
            [
             0.2,
             "#de77ae"
            ],
            [
             0.3,
             "#f1b6da"
            ],
            [
             0.4,
             "#fde0ef"
            ],
            [
             0.5,
             "#f7f7f7"
            ],
            [
             0.6,
             "#e6f5d0"
            ],
            [
             0.7,
             "#b8e186"
            ],
            [
             0.8,
             "#7fbc41"
            ],
            [
             0.9,
             "#4d9221"
            ],
            [
             1,
             "#276419"
            ]
           ],
           "sequential": [
            [
             0,
             "#0d0887"
            ],
            [
             0.1111111111111111,
             "#46039f"
            ],
            [
             0.2222222222222222,
             "#7201a8"
            ],
            [
             0.3333333333333333,
             "#9c179e"
            ],
            [
             0.4444444444444444,
             "#bd3786"
            ],
            [
             0.5555555555555556,
             "#d8576b"
            ],
            [
             0.6666666666666666,
             "#ed7953"
            ],
            [
             0.7777777777777778,
             "#fb9f3a"
            ],
            [
             0.8888888888888888,
             "#fdca26"
            ],
            [
             1,
             "#f0f921"
            ]
           ],
           "sequentialminus": [
            [
             0,
             "#0d0887"
            ],
            [
             0.1111111111111111,
             "#46039f"
            ],
            [
             0.2222222222222222,
             "#7201a8"
            ],
            [
             0.3333333333333333,
             "#9c179e"
            ],
            [
             0.4444444444444444,
             "#bd3786"
            ],
            [
             0.5555555555555556,
             "#d8576b"
            ],
            [
             0.6666666666666666,
             "#ed7953"
            ],
            [
             0.7777777777777778,
             "#fb9f3a"
            ],
            [
             0.8888888888888888,
             "#fdca26"
            ],
            [
             1,
             "#f0f921"
            ]
           ]
          },
          "colorway": [
           "#636efa",
           "#EF553B",
           "#00cc96",
           "#ab63fa",
           "#FFA15A",
           "#19d3f3",
           "#FF6692",
           "#B6E880",
           "#FF97FF",
           "#FECB52"
          ],
          "font": {
           "color": "#2a3f5f"
          },
          "geo": {
           "bgcolor": "white",
           "lakecolor": "white",
           "landcolor": "#E5ECF6",
           "showlakes": true,
           "showland": true,
           "subunitcolor": "white"
          },
          "hoverlabel": {
           "align": "left"
          },
          "hovermode": "closest",
          "mapbox": {
           "style": "light"
          },
          "paper_bgcolor": "white",
          "plot_bgcolor": "#E5ECF6",
          "polar": {
           "angularaxis": {
            "gridcolor": "white",
            "linecolor": "white",
            "ticks": ""
           },
           "bgcolor": "#E5ECF6",
           "radialaxis": {
            "gridcolor": "white",
            "linecolor": "white",
            "ticks": ""
           }
          },
          "scene": {
           "xaxis": {
            "backgroundcolor": "#E5ECF6",
            "gridcolor": "white",
            "gridwidth": 2,
            "linecolor": "white",
            "showbackground": true,
            "ticks": "",
            "zerolinecolor": "white"
           },
           "yaxis": {
            "backgroundcolor": "#E5ECF6",
            "gridcolor": "white",
            "gridwidth": 2,
            "linecolor": "white",
            "showbackground": true,
            "ticks": "",
            "zerolinecolor": "white"
           },
           "zaxis": {
            "backgroundcolor": "#E5ECF6",
            "gridcolor": "white",
            "gridwidth": 2,
            "linecolor": "white",
            "showbackground": true,
            "ticks": "",
            "zerolinecolor": "white"
           }
          },
          "shapedefaults": {
           "line": {
            "color": "#2a3f5f"
           }
          },
          "ternary": {
           "aaxis": {
            "gridcolor": "white",
            "linecolor": "white",
            "ticks": ""
           },
           "baxis": {
            "gridcolor": "white",
            "linecolor": "white",
            "ticks": ""
           },
           "bgcolor": "#E5ECF6",
           "caxis": {
            "gridcolor": "white",
            "linecolor": "white",
            "ticks": ""
           }
          },
          "title": {
           "x": 0.05
          },
          "xaxis": {
           "automargin": true,
           "gridcolor": "white",
           "linecolor": "white",
           "ticks": "",
           "title": {
            "standoff": 15
           },
           "zerolinecolor": "white",
           "zerolinewidth": 2
          },
          "yaxis": {
           "automargin": true,
           "gridcolor": "white",
           "linecolor": "white",
           "ticks": "",
           "title": {
            "standoff": 15
           },
           "zerolinecolor": "white",
           "zerolinewidth": 2
          }
         }
        },
        "updatemenus": [
         {
          "buttons": [
           {
            "args": [
             null,
             {
              "frame": {
               "duration": 500,
               "redraw": false
              },
              "fromcurrent": true,
              "mode": "immediate",
              "transition": {
               "duration": 500,
               "easing": "linear"
              }
             }
            ],
            "label": "&#9654;",
            "method": "animate"
           },
           {
            "args": [
             [
              null
             ],
             {
              "frame": {
               "duration": 0,
               "redraw": false
              },
              "fromcurrent": true,
              "mode": "immediate",
              "transition": {
               "duration": 0,
               "easing": "linear"
              }
             }
            ],
            "label": "&#9724;",
            "method": "animate"
           }
          ],
          "direction": "left",
          "pad": {
           "r": 10,
           "t": 70
          },
          "showactive": false,
          "type": "buttons",
          "x": 0.1,
          "xanchor": "right",
          "y": 0,
          "yanchor": "top"
         }
        ],
        "xaxis": {
         "anchor": "y",
         "domain": [
          0,
          1
         ],
         "range": [
          -2,
          2
         ],
         "title": {
          "text": "x"
         }
        },
        "yaxis": {
         "anchor": "x",
         "domain": [
          0,
          1
         ],
         "range": [
          -2.1,
          0
         ],
         "title": {
          "text": "y"
         }
        }
       }
      }
     },
     "metadata": {},
     "output_type": "display_data"
    }
   ],
   "source": [
    "px.scatter(ddf, x=\"x\", y=\"y\", animation_frame=\"t\",  color='label', size_max=55, range_x=[-2,2], range_y=[-2.1,0])\n"
   ]
  },
  {
   "cell_type": "code",
   "execution_count": 102,
   "metadata": {},
   "outputs": [
    {
     "data": {
      "application/vnd.plotly.v1+json": {
       "config": {
        "plotlyServerURL": "https://plot.ly"
       },
       "data": [
        {
         "hovertemplate": "label=lin_pendulum<br>t=%{x}<br>theta=%{y}<extra></extra>",
         "legendgroup": "lin_pendulum",
         "line": {
          "color": "#636efa",
          "dash": "solid"
         },
         "marker": {
          "symbol": "circle"
         },
         "mode": "lines",
         "name": "lin_pendulum",
         "orientation": "v",
         "showlegend": true,
         "type": "scatter",
         "x": [
          0,
          0.1,
          0.2,
          0.30000000000000004,
          0.4,
          0.5,
          0.6000000000000001,
          0.7000000000000001,
          0.8,
          0.9,
          1,
          1.1,
          1.2000000000000002,
          1.3,
          1.4000000000000001,
          1.5,
          1.6,
          1.7000000000000002,
          1.8,
          1.9000000000000001,
          2,
          2.1,
          2.2,
          2.3000000000000003,
          2.4000000000000004,
          2.5,
          2.6,
          2.7,
          2.8000000000000003,
          2.9000000000000004,
          3,
          3.1,
          3.2,
          3.3000000000000003,
          3.4000000000000004,
          3.5,
          3.6,
          3.7,
          3.8000000000000003,
          3.9000000000000004,
          4,
          4.1000000000000005,
          4.2,
          4.3,
          4.4,
          4.5,
          4.6000000000000005,
          4.7,
          4.800000000000001,
          4.9,
          5,
          5.1000000000000005,
          5.2,
          5.300000000000001,
          5.4,
          5.5,
          5.6000000000000005,
          5.7,
          5.800000000000001,
          5.9,
          6,
          6.1000000000000005,
          6.2,
          6.300000000000001,
          6.4,
          6.5,
          6.6000000000000005,
          6.7,
          6.800000000000001,
          6.9,
          7,
          7.1000000000000005,
          7.2,
          7.300000000000001,
          7.4,
          7.5,
          7.6000000000000005,
          7.7,
          7.800000000000001,
          7.9,
          8,
          8.1,
          8.200000000000001,
          8.3,
          8.4,
          8.5,
          8.6,
          8.700000000000001,
          8.8,
          8.9,
          9,
          9.1,
          9.200000000000001,
          9.3,
          9.4,
          9.5,
          9.600000000000001,
          9.700000000000001,
          9.8,
          9.9
         ],
         "xaxis": "x",
         "y": [
          -0.7853981633974483,
          -0.7662212641225712,
          -0.7096088958243866,
          -0.6183172956092744,
          -0.4968663779211003,
          -0.35114868753565853,
          -0.18815536887343165,
          -0.015932926407603444,
          0.15705653195535682,
          0.32233188540555496,
          0.4717819937801811,
          0.5982136215456171,
          0.6954572224401308,
          0.7588577909403882,
          0.7850137772648086,
          0.7726075613969644,
          0.7225074704442416,
          0.6373169849997019,
          0.5209784851939585,
          0.3790047789937455,
          0.2184298793996997,
          0.047316018820903194,
          -0.1260856731875763,
          -0.29329065461397835,
          -0.44623882621677236,
          -0.5773734760259738,
          -0.6804039075027715,
          -0.7500572810878039,
          -0.7828961205596123,
          -0.7775212752763399,
          -0.7343962330706835,
          -0.6553790613273016,
          -0.5440997901835234,
          -0.4060696815508718,
          -0.24841819709847954,
          -0.07868198372765339,
          0.09488251509023315,
          0.2639147593140359,
          0.4200384442009336,
          0.5556865872675139,
          0.6640911305406199,
          0.7399219938318927,
          0.7796281387036383,
          0.7814818581974243,
          0.7451403424444432,
          0.6721285579154139,
          0.5660954261087716,
          0.43263339421522995,
          0.2781253927985955,
          0.11000792907792567,
          -0.06362199307822591,
          -0.23411476833488945,
          -0.3932172712328049,
          -0.5330124793894505,
          -0.6466556783002435,
          -0.7287172088425451,
          -0.7753428663423378,
          -0.7841522018362479,
          -0.7544156301672843,
          -0.687612318955885,
          -0.587376026666902,
          -0.4585860826360032,
          -0.3073637948029014,
          -0.14097449940525808,
          0.032287696333472275,
          0.20398396770504412,
          0.36564102557821776,
          0.5093672293819184,
          0.628241282176488,
          0.7164871195946151,
          0.7698298414774805,
          0.7853622926072285,
          0.7623315154030165,
          0.7021638716402553,
          0.6078696153209516,
          0.483837827781012,
          0.3359849626140378,
          0.17170140117547245,
          -0.0008940560448216506,
          -0.1733981445683444,
          -0.33741069929222056,
          -0.485010264021532,
          -0.6089065677393414,
          -0.7031454623289269,
          -0.7628646240259563,
          -0.7851602235932942,
          -0.7691830536090014,
          -0.7158448816985568,
          -0.627471903417252,
          -0.5081898491358234,
          -0.3639755888597285,
          -0.20219784423313122,
          -0.03057832266191396,
          0.142536653381579,
          0.30879340789901727,
          0.4599262540237704,
          0.5886499834103616,
          0.6884887749333061,
          0.7545743515654963,
          0.7838423507043416
         ],
         "yaxis": "y"
        },
        {
         "hovertemplate": "label=nonlin_pendulum<br>t=%{x}<br>theta=%{y}<extra></extra>",
         "legendgroup": "nonlin_pendulum",
         "line": {
          "color": "#EF553B",
          "dash": "solid"
         },
         "marker": {
          "symbol": "circle"
         },
         "mode": "lines",
         "name": "nonlin_pendulum",
         "orientation": "v",
         "showlegend": true,
         "type": "scatter",
         "x": [
          0,
          0.1,
          0.2,
          0.30000000000000004,
          0.4,
          0.5,
          0.6000000000000001,
          0.7000000000000001,
          0.8,
          0.9,
          1,
          1.1,
          1.2000000000000002,
          1.3,
          1.4000000000000001,
          1.5,
          1.6,
          1.7000000000000002,
          1.8,
          1.9000000000000001,
          2,
          2.1,
          2.2,
          2.3000000000000003,
          2.4000000000000004,
          2.5,
          2.6,
          2.7,
          2.8000000000000003,
          2.9000000000000004,
          3,
          3.1,
          3.2,
          3.3000000000000003,
          3.4000000000000004,
          3.5,
          3.6,
          3.7,
          3.8000000000000003,
          3.9000000000000004,
          4,
          4.1000000000000005,
          4.2,
          4.3,
          4.4,
          4.5,
          4.6000000000000005,
          4.7,
          4.800000000000001,
          4.9,
          5,
          5.1000000000000005,
          5.2,
          5.300000000000001,
          5.4,
          5.5,
          5.6000000000000005,
          5.7,
          5.800000000000001,
          5.9,
          6,
          6.1000000000000005,
          6.2,
          6.300000000000001,
          6.4,
          6.5,
          6.6000000000000005,
          6.7,
          6.800000000000001,
          6.9,
          7,
          7.1000000000000005,
          7.2,
          7.300000000000001,
          7.4,
          7.5,
          7.6000000000000005,
          7.7,
          7.800000000000001,
          7.9,
          8,
          8.1,
          8.200000000000001,
          8.3,
          8.4,
          8.5,
          8.6,
          8.700000000000001,
          8.8,
          8.9,
          9,
          9.1,
          9.200000000000001,
          9.3,
          9.4,
          9.5,
          9.600000000000001,
          9.700000000000001,
          9.8,
          9.9
         ],
         "xaxis": "x",
         "y": [
          -0.7853981633974483,
          -0.7681142041062192,
          -0.7168476683363507,
          -0.6334518874795021,
          -0.5211647118829419,
          -0.38461598882779624,
          -0.2297028068951973,
          -0.0635020539190071,
          0.10575199517411012,
          0.26979583683752895,
          0.4207966748134031,
          0.5518084475630016,
          0.6571384620454543,
          0.732457584709473,
          0.7751649284768388,
          0.7835057105667645,
          0.7571228213928726,
          0.6971537278079986,
          0.6059577825718041,
          0.48693513528669574,
          0.3449753518582608,
          0.18644165872338425,
          0.018967524047119252,
          -0.1493939500695502,
          -0.31046981165335025,
          -0.45672351129836297,
          -0.5813662855720211,
          -0.6792182240413072,
          -0.7462942520634702,
          -0.7800005777747707,
          -0.7792776018542121,
          -0.744419640614981,
          -0.6763763697096243,
          -0.5775100516203204,
          -0.45182897933790006,
          -0.30496985223954615,
          -0.1435651210439974,
          0.024752829210777205,
          0.1919522254362313,
          0.3498959536227536,
          0.49104950768359534,
          0.6091710735505715,
          0.699240475968693,
          0.7577765753072279,
          0.782903027384933,
          0.7735342671559852,
          0.7297288088748699,
          0.6531206600963231,
          0.5469142879574496,
          0.41545821286879203,
          0.2643533447197634,
          0.10039647516481681,
          -0.06863327862453394,
          -0.2341718764264228,
          -0.3883923760614078,
          -0.5240678860701196,
          -0.6352203057265746,
          -0.7172460530126642,
          -0.7671698157087713,
          -0.7831574590472523,
          -0.7644214786511001,
          -0.711682040966945,
          -0.6271345328346632,
          -0.5140169231037893,
          -0.37686932089654207,
          -0.22164318756520823,
          -0.05565990141137722,
          0.11294852002232803,
          0.2760245447663721,
          0.42578889031258965,
          0.5554314900401311,
          0.6591301359933951,
          0.7328603336197461,
          0.7738349038307948,
          0.7804346334109474,
          0.7525339708251786,
          0.6913851594937505,
          0.5991041857317612,
          0.47915269327731885,
          0.3365685312110565,
          0.1779487428882679,
          0.010767981087213968,
          -0.15687089499609275,
          -0.316959205857288,
          -0.4618846001953685,
          -0.5849816485288335,
          -0.6811186697437382,
          -0.7463464659995755,
          -0.7782630403791038,
          -0.7760235341940386,
          -0.7396179121798189,
          -0.6700229075675288,
          -0.569842238823105,
          -0.44331594681218306,
          -0.29605249199143735,
          -0.13461478038072644,
          0.03338897114229206,
          0.19990399384467206,
          0.35662180812796906,
          0.4962677641228427
         ],
         "yaxis": "y"
        },
        {
         "hovertemplate": "label=Analytic linear<br>t=%{x}<br>theta=%{y}<extra></extra>",
         "legendgroup": "Analytic linear",
         "line": {
          "color": "#00cc96",
          "dash": "solid"
         },
         "marker": {
          "symbol": "circle"
         },
         "mode": "lines",
         "name": "Analytic linear",
         "orientation": "v",
         "showlegend": true,
         "type": "scatter",
         "x": [
          0,
          0.1,
          0.2,
          0.30000000000000004,
          0.4,
          0.5,
          0.6000000000000001,
          0.7000000000000001,
          0.8,
          0.9,
          1,
          1.1,
          1.2000000000000002,
          1.3,
          1.4000000000000001,
          1.5,
          1.6,
          1.7000000000000002,
          1.8,
          1.9000000000000001,
          2,
          2.1,
          2.2,
          2.3000000000000003,
          2.4000000000000004,
          2.5,
          2.6,
          2.7,
          2.8000000000000003,
          2.9000000000000004,
          3,
          3.1,
          3.2,
          3.3000000000000003,
          3.4000000000000004,
          3.5,
          3.6,
          3.7,
          3.8000000000000003,
          3.9000000000000004,
          4,
          4.1000000000000005,
          4.2,
          4.3,
          4.4,
          4.5,
          4.6000000000000005,
          4.7,
          4.800000000000001,
          4.9,
          5,
          5.1000000000000005,
          5.2,
          5.300000000000001,
          5.4,
          5.5,
          5.6000000000000005,
          5.7,
          5.800000000000001,
          5.9,
          6,
          6.1000000000000005,
          6.2,
          6.300000000000001,
          6.4,
          6.5,
          6.6000000000000005,
          6.7,
          6.800000000000001,
          6.9,
          7,
          7.1000000000000005,
          7.2,
          7.300000000000001,
          7.4,
          7.5,
          7.6000000000000005,
          7.7,
          7.800000000000001,
          7.9,
          8,
          8.1,
          8.200000000000001,
          8.3,
          8.4,
          8.5,
          8.6,
          8.700000000000001,
          8.8,
          8.9,
          9,
          9.1,
          9.200000000000001,
          9.3,
          9.4,
          9.5,
          9.600000000000001,
          9.700000000000001,
          9.8,
          9.9
         ],
         "xaxis": "x",
         "y": [
          -0.7853981633974483,
          -0.7662148777996028,
          -0.7096021213545995,
          -0.6183254179100317,
          -0.4968436194271328,
          -0.3510910917953176,
          -0.18818782203384254,
          -0.016091608096141467,
          0.1567906782522758,
          0.32201376573783225,
          0.47150653369255346,
          0.5979662849721463,
          0.6952154815112425,
          0.7585035160425659,
          0.7847387784811412,
          0.7726396805688119,
          0.7227972612500152,
          0.6376463145164861,
          0.5213464501209403,
          0.3795788973243152,
          0.2192689777801309,
          0.04824780470994287,
          -0.12513026569042596,
          -0.29239574317794564,
          -0.44537773666872954,
          -0.5766031009245273,
          -0.6796614984693504,
          -0.7495185435215802,
          -0.7827617309119614,
          -0.7777671364002496,
          -0.7347787451074419,
          -0.6558965328827164,
          -0.5449738828283477,
          -0.4074293481684955,
          -0.24998195681478225,
          -0.08032298795714002,
          0.09325974566050363,
          0.2622867560305936,
          0.41850110147745057,
          0.554271736901033,
          0.6629662890758543,
          0.7392750469929681,
          0.7794703403700578,
          0.7815886357320613,
          0.7455264546987023,
          0.6730454288863623,
          0.5676862444931549,
          0.43459568036009116,
          0.2802751886706025,
          0.1122633000799566,
          -0.06123263226825181,
          -0.2317373605942151,
          -0.39092175694298076,
          -0.5310096897161041,
          -0.6451578864221511,
          -0.7277902264131745,
          -0.7748701334618784,
          -0.7840977618468806,
          -0.7550223434382056,
          -0.689064207646348,
          -0.5894453985640088,
          -0.46103227864173596,
          -0.3100978076820431,
          -0.14401510978405765,
          0.02910270255687712,
          0.20079885266116312,
          0.3626860118158001,
          0.5068560189034907,
          0.6262661927734622,
          0.7150833660581501,
          0.7689688344403904,
          0.785290301646205,
          0.763250466685149,
          0.7039259718726519,
          0.610214809029865,
          0.48669475305950205,
          0.33939973839423443,
          0.17552510229138787,
          0.003076093790515068,
          -0.16952318138644182,
          -0.3338412770151197,
          -0.48185128113100995,
          -0.6063229293596445,
          -0.7011758021429305,
          -0.7617763522352115,
          -0.7851642527246494,
          -0.7701970085163174,
          -0.7176057670298094,
          -0.6299596017679648,
          -0.5115400134984978,
          -0.36813177964519456,
          -0.2067403688615346,
          -0.0352497250383677,
          0.1379628620593553,
          0.30443598602074434,
          0.4560374621014336,
          0.5853615831117627,
          0.6860908869957902,
          0.7533047638144278,
          0.7837198267322063
         ],
         "yaxis": "y"
        }
       ],
       "layout": {
        "legend": {
         "title": {
          "text": "label"
         },
         "tracegroupgap": 0
        },
        "margin": {
         "t": 60
        },
        "template": {
         "data": {
          "bar": [
           {
            "error_x": {
             "color": "#2a3f5f"
            },
            "error_y": {
             "color": "#2a3f5f"
            },
            "marker": {
             "line": {
              "color": "#E5ECF6",
              "width": 0.5
             },
             "pattern": {
              "fillmode": "overlay",
              "size": 10,
              "solidity": 0.2
             }
            },
            "type": "bar"
           }
          ],
          "barpolar": [
           {
            "marker": {
             "line": {
              "color": "#E5ECF6",
              "width": 0.5
             },
             "pattern": {
              "fillmode": "overlay",
              "size": 10,
              "solidity": 0.2
             }
            },
            "type": "barpolar"
           }
          ],
          "carpet": [
           {
            "aaxis": {
             "endlinecolor": "#2a3f5f",
             "gridcolor": "white",
             "linecolor": "white",
             "minorgridcolor": "white",
             "startlinecolor": "#2a3f5f"
            },
            "baxis": {
             "endlinecolor": "#2a3f5f",
             "gridcolor": "white",
             "linecolor": "white",
             "minorgridcolor": "white",
             "startlinecolor": "#2a3f5f"
            },
            "type": "carpet"
           }
          ],
          "choropleth": [
           {
            "colorbar": {
             "outlinewidth": 0,
             "ticks": ""
            },
            "type": "choropleth"
           }
          ],
          "contour": [
           {
            "colorbar": {
             "outlinewidth": 0,
             "ticks": ""
            },
            "colorscale": [
             [
              0,
              "#0d0887"
             ],
             [
              0.1111111111111111,
              "#46039f"
             ],
             [
              0.2222222222222222,
              "#7201a8"
             ],
             [
              0.3333333333333333,
              "#9c179e"
             ],
             [
              0.4444444444444444,
              "#bd3786"
             ],
             [
              0.5555555555555556,
              "#d8576b"
             ],
             [
              0.6666666666666666,
              "#ed7953"
             ],
             [
              0.7777777777777778,
              "#fb9f3a"
             ],
             [
              0.8888888888888888,
              "#fdca26"
             ],
             [
              1,
              "#f0f921"
             ]
            ],
            "type": "contour"
           }
          ],
          "contourcarpet": [
           {
            "colorbar": {
             "outlinewidth": 0,
             "ticks": ""
            },
            "type": "contourcarpet"
           }
          ],
          "heatmap": [
           {
            "colorbar": {
             "outlinewidth": 0,
             "ticks": ""
            },
            "colorscale": [
             [
              0,
              "#0d0887"
             ],
             [
              0.1111111111111111,
              "#46039f"
             ],
             [
              0.2222222222222222,
              "#7201a8"
             ],
             [
              0.3333333333333333,
              "#9c179e"
             ],
             [
              0.4444444444444444,
              "#bd3786"
             ],
             [
              0.5555555555555556,
              "#d8576b"
             ],
             [
              0.6666666666666666,
              "#ed7953"
             ],
             [
              0.7777777777777778,
              "#fb9f3a"
             ],
             [
              0.8888888888888888,
              "#fdca26"
             ],
             [
              1,
              "#f0f921"
             ]
            ],
            "type": "heatmap"
           }
          ],
          "heatmapgl": [
           {
            "colorbar": {
             "outlinewidth": 0,
             "ticks": ""
            },
            "colorscale": [
             [
              0,
              "#0d0887"
             ],
             [
              0.1111111111111111,
              "#46039f"
             ],
             [
              0.2222222222222222,
              "#7201a8"
             ],
             [
              0.3333333333333333,
              "#9c179e"
             ],
             [
              0.4444444444444444,
              "#bd3786"
             ],
             [
              0.5555555555555556,
              "#d8576b"
             ],
             [
              0.6666666666666666,
              "#ed7953"
             ],
             [
              0.7777777777777778,
              "#fb9f3a"
             ],
             [
              0.8888888888888888,
              "#fdca26"
             ],
             [
              1,
              "#f0f921"
             ]
            ],
            "type": "heatmapgl"
           }
          ],
          "histogram": [
           {
            "marker": {
             "pattern": {
              "fillmode": "overlay",
              "size": 10,
              "solidity": 0.2
             }
            },
            "type": "histogram"
           }
          ],
          "histogram2d": [
           {
            "colorbar": {
             "outlinewidth": 0,
             "ticks": ""
            },
            "colorscale": [
             [
              0,
              "#0d0887"
             ],
             [
              0.1111111111111111,
              "#46039f"
             ],
             [
              0.2222222222222222,
              "#7201a8"
             ],
             [
              0.3333333333333333,
              "#9c179e"
             ],
             [
              0.4444444444444444,
              "#bd3786"
             ],
             [
              0.5555555555555556,
              "#d8576b"
             ],
             [
              0.6666666666666666,
              "#ed7953"
             ],
             [
              0.7777777777777778,
              "#fb9f3a"
             ],
             [
              0.8888888888888888,
              "#fdca26"
             ],
             [
              1,
              "#f0f921"
             ]
            ],
            "type": "histogram2d"
           }
          ],
          "histogram2dcontour": [
           {
            "colorbar": {
             "outlinewidth": 0,
             "ticks": ""
            },
            "colorscale": [
             [
              0,
              "#0d0887"
             ],
             [
              0.1111111111111111,
              "#46039f"
             ],
             [
              0.2222222222222222,
              "#7201a8"
             ],
             [
              0.3333333333333333,
              "#9c179e"
             ],
             [
              0.4444444444444444,
              "#bd3786"
             ],
             [
              0.5555555555555556,
              "#d8576b"
             ],
             [
              0.6666666666666666,
              "#ed7953"
             ],
             [
              0.7777777777777778,
              "#fb9f3a"
             ],
             [
              0.8888888888888888,
              "#fdca26"
             ],
             [
              1,
              "#f0f921"
             ]
            ],
            "type": "histogram2dcontour"
           }
          ],
          "mesh3d": [
           {
            "colorbar": {
             "outlinewidth": 0,
             "ticks": ""
            },
            "type": "mesh3d"
           }
          ],
          "parcoords": [
           {
            "line": {
             "colorbar": {
              "outlinewidth": 0,
              "ticks": ""
             }
            },
            "type": "parcoords"
           }
          ],
          "pie": [
           {
            "automargin": true,
            "type": "pie"
           }
          ],
          "scatter": [
           {
            "fillpattern": {
             "fillmode": "overlay",
             "size": 10,
             "solidity": 0.2
            },
            "type": "scatter"
           }
          ],
          "scatter3d": [
           {
            "line": {
             "colorbar": {
              "outlinewidth": 0,
              "ticks": ""
             }
            },
            "marker": {
             "colorbar": {
              "outlinewidth": 0,
              "ticks": ""
             }
            },
            "type": "scatter3d"
           }
          ],
          "scattercarpet": [
           {
            "marker": {
             "colorbar": {
              "outlinewidth": 0,
              "ticks": ""
             }
            },
            "type": "scattercarpet"
           }
          ],
          "scattergeo": [
           {
            "marker": {
             "colorbar": {
              "outlinewidth": 0,
              "ticks": ""
             }
            },
            "type": "scattergeo"
           }
          ],
          "scattergl": [
           {
            "marker": {
             "colorbar": {
              "outlinewidth": 0,
              "ticks": ""
             }
            },
            "type": "scattergl"
           }
          ],
          "scattermapbox": [
           {
            "marker": {
             "colorbar": {
              "outlinewidth": 0,
              "ticks": ""
             }
            },
            "type": "scattermapbox"
           }
          ],
          "scatterpolar": [
           {
            "marker": {
             "colorbar": {
              "outlinewidth": 0,
              "ticks": ""
             }
            },
            "type": "scatterpolar"
           }
          ],
          "scatterpolargl": [
           {
            "marker": {
             "colorbar": {
              "outlinewidth": 0,
              "ticks": ""
             }
            },
            "type": "scatterpolargl"
           }
          ],
          "scatterternary": [
           {
            "marker": {
             "colorbar": {
              "outlinewidth": 0,
              "ticks": ""
             }
            },
            "type": "scatterternary"
           }
          ],
          "surface": [
           {
            "colorbar": {
             "outlinewidth": 0,
             "ticks": ""
            },
            "colorscale": [
             [
              0,
              "#0d0887"
             ],
             [
              0.1111111111111111,
              "#46039f"
             ],
             [
              0.2222222222222222,
              "#7201a8"
             ],
             [
              0.3333333333333333,
              "#9c179e"
             ],
             [
              0.4444444444444444,
              "#bd3786"
             ],
             [
              0.5555555555555556,
              "#d8576b"
             ],
             [
              0.6666666666666666,
              "#ed7953"
             ],
             [
              0.7777777777777778,
              "#fb9f3a"
             ],
             [
              0.8888888888888888,
              "#fdca26"
             ],
             [
              1,
              "#f0f921"
             ]
            ],
            "type": "surface"
           }
          ],
          "table": [
           {
            "cells": {
             "fill": {
              "color": "#EBF0F8"
             },
             "line": {
              "color": "white"
             }
            },
            "header": {
             "fill": {
              "color": "#C8D4E3"
             },
             "line": {
              "color": "white"
             }
            },
            "type": "table"
           }
          ]
         },
         "layout": {
          "annotationdefaults": {
           "arrowcolor": "#2a3f5f",
           "arrowhead": 0,
           "arrowwidth": 1
          },
          "autotypenumbers": "strict",
          "coloraxis": {
           "colorbar": {
            "outlinewidth": 0,
            "ticks": ""
           }
          },
          "colorscale": {
           "diverging": [
            [
             0,
             "#8e0152"
            ],
            [
             0.1,
             "#c51b7d"
            ],
            [
             0.2,
             "#de77ae"
            ],
            [
             0.3,
             "#f1b6da"
            ],
            [
             0.4,
             "#fde0ef"
            ],
            [
             0.5,
             "#f7f7f7"
            ],
            [
             0.6,
             "#e6f5d0"
            ],
            [
             0.7,
             "#b8e186"
            ],
            [
             0.8,
             "#7fbc41"
            ],
            [
             0.9,
             "#4d9221"
            ],
            [
             1,
             "#276419"
            ]
           ],
           "sequential": [
            [
             0,
             "#0d0887"
            ],
            [
             0.1111111111111111,
             "#46039f"
            ],
            [
             0.2222222222222222,
             "#7201a8"
            ],
            [
             0.3333333333333333,
             "#9c179e"
            ],
            [
             0.4444444444444444,
             "#bd3786"
            ],
            [
             0.5555555555555556,
             "#d8576b"
            ],
            [
             0.6666666666666666,
             "#ed7953"
            ],
            [
             0.7777777777777778,
             "#fb9f3a"
            ],
            [
             0.8888888888888888,
             "#fdca26"
            ],
            [
             1,
             "#f0f921"
            ]
           ],
           "sequentialminus": [
            [
             0,
             "#0d0887"
            ],
            [
             0.1111111111111111,
             "#46039f"
            ],
            [
             0.2222222222222222,
             "#7201a8"
            ],
            [
             0.3333333333333333,
             "#9c179e"
            ],
            [
             0.4444444444444444,
             "#bd3786"
            ],
            [
             0.5555555555555556,
             "#d8576b"
            ],
            [
             0.6666666666666666,
             "#ed7953"
            ],
            [
             0.7777777777777778,
             "#fb9f3a"
            ],
            [
             0.8888888888888888,
             "#fdca26"
            ],
            [
             1,
             "#f0f921"
            ]
           ]
          },
          "colorway": [
           "#636efa",
           "#EF553B",
           "#00cc96",
           "#ab63fa",
           "#FFA15A",
           "#19d3f3",
           "#FF6692",
           "#B6E880",
           "#FF97FF",
           "#FECB52"
          ],
          "font": {
           "color": "#2a3f5f"
          },
          "geo": {
           "bgcolor": "white",
           "lakecolor": "white",
           "landcolor": "#E5ECF6",
           "showlakes": true,
           "showland": true,
           "subunitcolor": "white"
          },
          "hoverlabel": {
           "align": "left"
          },
          "hovermode": "closest",
          "mapbox": {
           "style": "light"
          },
          "paper_bgcolor": "white",
          "plot_bgcolor": "#E5ECF6",
          "polar": {
           "angularaxis": {
            "gridcolor": "white",
            "linecolor": "white",
            "ticks": ""
           },
           "bgcolor": "#E5ECF6",
           "radialaxis": {
            "gridcolor": "white",
            "linecolor": "white",
            "ticks": ""
           }
          },
          "scene": {
           "xaxis": {
            "backgroundcolor": "#E5ECF6",
            "gridcolor": "white",
            "gridwidth": 2,
            "linecolor": "white",
            "showbackground": true,
            "ticks": "",
            "zerolinecolor": "white"
           },
           "yaxis": {
            "backgroundcolor": "#E5ECF6",
            "gridcolor": "white",
            "gridwidth": 2,
            "linecolor": "white",
            "showbackground": true,
            "ticks": "",
            "zerolinecolor": "white"
           },
           "zaxis": {
            "backgroundcolor": "#E5ECF6",
            "gridcolor": "white",
            "gridwidth": 2,
            "linecolor": "white",
            "showbackground": true,
            "ticks": "",
            "zerolinecolor": "white"
           }
          },
          "shapedefaults": {
           "line": {
            "color": "#2a3f5f"
           }
          },
          "ternary": {
           "aaxis": {
            "gridcolor": "white",
            "linecolor": "white",
            "ticks": ""
           },
           "baxis": {
            "gridcolor": "white",
            "linecolor": "white",
            "ticks": ""
           },
           "bgcolor": "#E5ECF6",
           "caxis": {
            "gridcolor": "white",
            "linecolor": "white",
            "ticks": ""
           }
          },
          "title": {
           "x": 0.05
          },
          "xaxis": {
           "automargin": true,
           "gridcolor": "white",
           "linecolor": "white",
           "ticks": "",
           "title": {
            "standoff": 15
           },
           "zerolinecolor": "white",
           "zerolinewidth": 2
          },
          "yaxis": {
           "automargin": true,
           "gridcolor": "white",
           "linecolor": "white",
           "ticks": "",
           "title": {
            "standoff": 15
           },
           "zerolinecolor": "white",
           "zerolinewidth": 2
          }
         }
        },
        "xaxis": {
         "anchor": "y",
         "domain": [
          0,
          1
         ],
         "title": {
          "text": "t"
         }
        },
        "yaxis": {
         "anchor": "x",
         "domain": [
          0,
          1
         ],
         "title": {
          "text": "theta"
         }
        }
       }
      }
     },
     "metadata": {},
     "output_type": "display_data"
    }
   ],
   "source": [
    "px.line(ddf,x='t',y='theta',color='label')\n",
    "\n"
   ]
  },
  {
   "cell_type": "code",
   "execution_count": 130,
   "metadata": {},
   "outputs": [
    {
     "name": "stdout",
     "output_type": "stream",
     "text": [
      "Analytic linear\n",
      "lin_pendulum\n",
      "nonlin_pendulum\n"
     ]
    }
   ],
   "source": [
    "for name, group in ddf.groupby('label'):\n",
    "    res=ddf[]"
   ]
  },
  {
   "cell_type": "code",
   "execution_count": 139,
   "metadata": {},
   "outputs": [
    {
     "data": {
      "text/plain": [
       "0       0.000000\n",
       "1       0.019157\n",
       "2       0.075710\n",
       "3       0.166903\n",
       "4       0.288215\n",
       "          ...   \n",
       "3113         NaN\n",
       "3114         NaN\n",
       "3115         NaN\n",
       "3116         NaN\n",
       "3117         NaN\n",
       "Name: theta, Length: 3118, dtype: float64"
      ]
     },
     "execution_count": 139,
     "metadata": {},
     "output_type": "execute_result"
    }
   ],
   "source": [
    "ddf['theta'].where(ddf['label']=='lin_pendulum').dropna()-ddf['theta'].where(ddf['label']=='Analytic linear').dropna()"
   ]
  },
  {
   "cell_type": "code",
   "execution_count": null,
   "metadata": {},
   "outputs": [],
   "source": []
  }
 ],
 "metadata": {
  "kernelspec": {
   "display_name": "dyn_sys",
   "language": "python",
   "name": "python3"
  },
  "language_info": {
   "codemirror_mode": {
    "name": "ipython",
    "version": 3
   },
   "file_extension": ".py",
   "mimetype": "text/x-python",
   "name": "python",
   "nbconvert_exporter": "python",
   "pygments_lexer": "ipython3",
   "version": "3.11.3"
  }
 },
 "nbformat": 4,
 "nbformat_minor": 2
}
