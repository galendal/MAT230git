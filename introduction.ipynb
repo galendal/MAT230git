{
 "cells": [
  {
   "cell_type": "markdown",
   "metadata": {},
   "source": [
    "# Introduction to MAT230\n",
    "The first Jupyter file. \n",
    "\n",
    "You run the individual cells by pushing at the right place or by holding *shift* and hit *enter* on your keyboard.\n",
    "\n",
    "If you're running this Jupyter file through *mybinder.org* you can play around with the code without altering the file on the server. Next time you open it will be back to the one on the net. "
   ]
  },
  {
   "cell_type": "markdown",
   "metadata": {},
   "source": [
    "##  Read libraries\n",
    "\n",
    "First, let's read some libraries. Enter the cell below, hold *shift* and hit *enter*."
   ]
  },
  {
   "cell_type": "code",
   "execution_count": 1,
   "metadata": {},
   "outputs": [],
   "source": [
    "# This is a comment line. \n",
    "from sympy import dsolve, Eq, symbols, Function, lambdify,solve, init_printing, pprint, latex # This is also a comment. \n",
    "from sympy.plotting import plot\n",
    "from scipy.integrate import solve_ivp\n",
    "import numpy as np\n",
    "from matplotlib import pyplot as plt\n"
   ]
  },
  {
   "cell_type": "markdown",
   "metadata": {},
   "source": [
    "## The first problem demonstrating *sympy* and *numpy*\n",
    "Let's solve this problem:\n",
    "$$\\frac{d x(t)}{d t} = 1-x(t)$$"
   ]
  },
  {
   "cell_type": "markdown",
   "metadata": {},
   "source": [
    "First solve it symbolically"
   ]
  },
  {
   "cell_type": "code",
   "execution_count": 2,
   "metadata": {},
   "outputs": [
    {
     "name": "stdout",
     "output_type": "stream",
     "text": [
      "Checking...\n"
     ]
    },
    {
     "data": {
      "text/latex": [
       "$\\displaystyle \\frac{d}{d t} x{\\left(t \\right)} = 1 - x{\\left(t \\right)}$"
      ],
      "text/plain": [
       "Eq(Derivative(x(t), t), 1 - x(t))"
      ]
     },
     "execution_count": 2,
     "metadata": {},
     "output_type": "execute_result"
    }
   ],
   "source": [
    "#Declare sympy symbols\n",
    "t = symbols('t')\n",
    "x = symbols('x', cls=Function)\n",
    "\n",
    "#define the problem\n",
    "deqn1 = Eq(x(t).diff(t), 1- x(t))\n",
    "\n",
    "print(\"Checking...\")\n",
    "\n",
    "deqn1\n"
   ]
  },
  {
   "cell_type": "markdown",
   "metadata": {},
   "source": [
    "Solving the problem"
   ]
  },
  {
   "cell_type": "code",
   "execution_count": 3,
   "metadata": {},
   "outputs": [
    {
     "name": "stdout",
     "output_type": "stream",
     "text": [
      "the solution is with initial conditions is:\n"
     ]
    },
    {
     "data": {
      "text/latex": [
       "$\\displaystyle x{\\left(t \\right)} = C_{1} e^{- t} + 1$"
      ],
      "text/plain": [
       "Eq(x(t), C1*exp(-t) + 1)"
      ]
     },
     "execution_count": 3,
     "metadata": {},
     "output_type": "execute_result"
    }
   ],
   "source": [
    "# Solve the problem with sympy using initial conditions:\n",
    "\n",
    "sol1 = dsolve(deqn1, x(t))#,ics=ics)\n",
    "\n",
    "#Print the solution\n",
    "print('the solution is with initial conditions is:')\n",
    "sol1"
   ]
  },
  {
   "cell_type": "markdown",
   "metadata": {},
   "source": [
    "This is the general solution. \n",
    "\n",
    "Lets use the initial conditions, $x(0)=x_0$ "
   ]
  },
  {
   "cell_type": "code",
   "execution_count": 4,
   "metadata": {},
   "outputs": [
    {
     "name": "stdout",
     "output_type": "stream",
     "text": [
      "C =  [X0 - 1]\n"
     ]
    }
   ],
   "source": [
    "\n",
    "C1=symbols('C1')\n",
    "X0=symbols('X0')\n",
    "C=symbols('C')\n",
    "sol1.subs(t,0).subs(x(0),X0)\n",
    "C=solve(sol1.subs(t,0).subs(x(0),X0),C1)\n",
    "print('C = ', C)"
   ]
  },
  {
   "cell_type": "code",
   "execution_count": 5,
   "metadata": {},
   "outputs": [
    {
     "data": {
      "text/latex": [
       "$\\displaystyle x{\\left(t \\right)} = C_{1} e^{- t} + 1$"
      ],
      "text/plain": [
       "Eq(x(t), C1*exp(-t) + 1)"
      ]
     },
     "execution_count": 5,
     "metadata": {},
     "output_type": "execute_result"
    }
   ],
   "source": [
    "sol1.subs(C1,C)"
   ]
  },
  {
   "cell_type": "code",
   "execution_count": 6,
   "metadata": {},
   "outputs": [
    {
     "name": "stdout",
     "output_type": "stream",
     "text": [
      "the solution is with initial conditions {x(0): 2}  is:\n"
     ]
    },
    {
     "data": {
      "text/latex": [
       "$\\displaystyle x{\\left(t \\right)} = 1 + e^{- t}$"
      ],
      "text/plain": [
       "Eq(x(t), 1 + exp(-t))"
      ]
     },
     "execution_count": 6,
     "metadata": {},
     "output_type": "execute_result"
    }
   ],
   "source": [
    "# Solve the problem with sympy using initial conditions:\n",
    "ics={x(0):2} \n",
    "\n",
    "sol2 = dsolve(deqn1, x(t),ics=ics)\n",
    "\n",
    "#Print the solution\n",
    "print('the solution is with initial conditions', ics, ' is:')\n",
    "sol2"
   ]
  },
  {
   "cell_type": "markdown",
   "metadata": {},
   "source": [
    "### Plot the solution"
   ]
  },
  {
   "cell_type": "code",
   "execution_count": 7,
   "metadata": {},
   "outputs": [
    {
     "data": {
      "text/plain": [
       "2.0"
      ]
     },
     "execution_count": 7,
     "metadata": {},
     "output_type": "execute_result"
    }
   ],
   "source": [
    "# Lambdify the equation\n",
    "g=lambdify(t,sol2.rhs,'numpy')\n",
    "\n",
    "# Now we can evaluate at numerical $t$s\n",
    "g(0)"
   ]
  },
  {
   "cell_type": "code",
   "execution_count": 8,
   "metadata": {},
   "outputs": [
    {
     "data": {
      "text/plain": [
       "[<matplotlib.lines.Line2D at 0x281231490>]"
      ]
     },
     "execution_count": 8,
     "metadata": {},
     "output_type": "execute_result"
    },
    {
     "data": {
      "image/png": "[encoded data removed]",
      "text/plain": [
       "<Figure size 640x480 with 1 Axes>"
      ]
     },
     "metadata": {},
     "output_type": "display_data"
    }
   ],
   "source": [
    "# Make an array of t values and plot\n",
    "tval=np.linspace(0,4)\n",
    "plt.plot(tval,g(tval))"
   ]
  },
  {
   "cell_type": "markdown",
   "metadata": {},
   "source": [
    "## Numerical solution using *numpy*.\n",
    "\n",
    "The *numpy* library already loaded. Using a *lamdbified* rhs of the problem. Solve at the same times as the previously \n",
    "\n"
   ]
  },
  {
   "cell_type": "code",
   "execution_count": 9,
   "metadata": {},
   "outputs": [],
   "source": [
    "rhs=lambdify(t,deqn1.rhs,'numpy')\n"
   ]
  },
  {
   "cell_type": "code",
   "execution_count": 10,
   "metadata": {},
   "outputs": [
    {
     "ename": "NameError",
     "evalue": "name 'x' is not defined",
     "output_type": "error",
     "traceback": [
      "\u001b[0;31m---------------------------------------------------------------------------\u001b[0m",
      "\u001b[0;31mNameError\u001b[0m                                 Traceback (most recent call last)",
      "Cell \u001b[0;32mIn[10], line 1\u001b[0m\n\u001b[0;32m----> 1\u001b[0m \u001b[43mrhs\u001b[49m\u001b[43m(\u001b[49m\u001b[38;5;241;43m1\u001b[39;49m\u001b[43m)\u001b[49m\n",
      "File \u001b[0;32m<lambdifygenerated-2>:2\u001b[0m, in \u001b[0;36m_lambdifygenerated\u001b[0;34m(t)\u001b[0m\n\u001b[1;32m      1\u001b[0m \u001b[38;5;28;01mdef\u001b[39;00m \u001b[38;5;21m_lambdifygenerated\u001b[39m(t):\n\u001b[0;32m----> 2\u001b[0m     \u001b[38;5;28;01mreturn\u001b[39;00m \u001b[38;5;241m1\u001b[39m \u001b[38;5;241m-\u001b[39m \u001b[43mx\u001b[49m(t)\n",
      "\u001b[0;31mNameError\u001b[0m: name 'x' is not defined"
     ]
    }
   ],
   "source": [
    "rhs(1)"
   ]
  },
  {
   "cell_type": "code",
   "execution_count": null,
   "metadata": {},
   "outputs": [],
   "source": []
  }
 ],
 "metadata": {
  "kernelspec": {
   "display_name": "venv",
   "language": "python",
   "name": "python3"
  },
  "language_info": {
   "codemirror_mode": {
    "name": "ipython",
    "version": 3
   },
   "file_extension": ".py",
   "mimetype": "text/x-python",
   "name": "python",
   "nbconvert_exporter": "python",
   "pygments_lexer": "ipython3",
   "version": "3.11.3"
  },
  "orig_nbformat": 4,
  "vscode": {
   "interpreter": {
    "hash": "16647ce0c82f44e260e72e9c8032e13b5a31dc8dd577de1db7c73c766b1ea8ae"
   }
  }
 },
 "nbformat": 4,
 "nbformat_minor": 2
}
