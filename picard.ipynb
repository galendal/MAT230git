{
 "cells": [
  {
   "cell_type": "code",
   "execution_count": 7,
   "metadata": {},
   "outputs": [],
   "source": [
    "from sympy import * #dsolve, Eq, symbols, Function, lambdify,solve, classify_ode, integrate, Add\n",
    "from sympy.plotting import plot\n",
    "from scipy.integrate import solve_ivp\n",
    "import numpy as np\n",
    "from matplotlib import pyplot as plt"
   ]
  },
  {
   "cell_type": "markdown",
   "metadata": {},
   "source": [
    "Define the problem"
   ]
  },
  {
   "cell_type": "code",
   "execution_count": 22,
   "metadata": {},
   "outputs": [
    {
     "name": "stdout",
     "output_type": "stream",
     "text": [
      "d                  \n",
      "──(f(t)) = f(t) + 2\n",
      "dt                 \n",
      " Initial conditions  {f(0): 3}\n"
     ]
    }
   ],
   "source": [
    "#Define the symbols\n",
    "x,b,t=symbols('x b t')\n",
    "f = symbols('f', cls=Function)\n",
    "c=symbols('c')\n",
    "\n",
    "#The problwm\n",
    "deqn = Eq(f(t).diff(t), f(t)+2)\n",
    "ics={f(0):3}\n",
    "pprint(deqn)\n",
    "print(' Initial conditions ', ics)"
   ]
  },
  {
   "cell_type": "markdown",
   "metadata": {},
   "source": [
    "Picard iteration.\n"
   ]
  },
  {
   "cell_type": "code",
   "execution_count": 23,
   "metadata": {},
   "outputs": [
    {
     "name": "stdout",
     "output_type": "stream",
     "text": [
      "n  0  res:  3\n",
      "n  1  res:  5*t + 3\n",
      "n  2  res:  5*t**2/2 + 5*t + 3\n",
      "n  3  res:  5*t**3/6 + 5*t**2/2 + 5*t + 3\n",
      "n  4  res:  5*t**4/24 + 5*t**3/6 + 5*t**2/2 + 5*t + 3\n"
     ]
    }
   ],
   "source": [
    "b=ics[f(0)] # Set initial condition.\n",
    "expr=b # Initiate the result expreson to the initial conditions.\n",
    "n=4 #Number of Picard iterations\n",
    "\n",
    "print('n ', 0, ' res: ', expr)\n",
    "#Loop through n terms\n",
    "for ii in np.arange(4)+1:\n",
    "    expr=deqn.rhs.subs(f(t),expr).integrate((t,0,t))+b\n",
    "    print('n ', ii, ' res: ', expr)"
   ]
  },
  {
   "cell_type": "markdown",
   "metadata": {},
   "source": [
    "The analytical solution."
   ]
  },
  {
   "cell_type": "code",
   "execution_count": 24,
   "metadata": {},
   "outputs": [
    {
     "data": {
      "text/latex": [
       "$\\displaystyle f{\\left(t \\right)} = 5 e^{t} - 2$"
      ],
      "text/plain": [
       "Eq(f(t), 5*exp(t) - 2)"
      ]
     },
     "execution_count": 24,
     "metadata": {},
     "output_type": "execute_result"
    }
   ],
   "source": [
    "sol=dsolve(deqn, f(t),ics=ics)\n",
    "sol"
   ]
  },
  {
   "cell_type": "markdown",
   "metadata": {},
   "source": [
    "and the Taylor expansion of the analytical solution:"
   ]
  },
  {
   "cell_type": "code",
   "execution_count": 25,
   "metadata": {},
   "outputs": [
    {
     "data": {
      "text/latex": [
       "$\\displaystyle 3 + 5 t + \\frac{5 t^{2}}{2} + \\frac{5 t^{3}}{6} + \\frac{5 t^{4}}{24} + \\frac{t^{5}}{24} + O\\left(t^{6}\\right)$"
      ],
      "text/plain": [
       "3 + 5*t + 5*t**2/2 + 5*t**3/6 + 5*t**4/24 + t**5/24 + O(t**6)"
      ]
     },
     "execution_count": 25,
     "metadata": {},
     "output_type": "execute_result"
    }
   ],
   "source": [
    "series(sol.rhs,t)"
   ]
  },
  {
   "cell_type": "code",
   "execution_count": null,
   "metadata": {},
   "outputs": [],
   "source": []
  }
 ],
 "metadata": {
  "interpreter": {
   "hash": "cc5aea2381060e6c07a5bcea4572f763dfe34e6a40ece333d15e520321d95b42"
  },
  "kernelspec": {
   "display_name": "Python 3.8.5 64-bit ('venv': venv)",
   "language": "python",
   "name": "python3"
  },
  "language_info": {
   "codemirror_mode": {
    "name": "ipython",
    "version": 3
   },
   "file_extension": ".py",
   "mimetype": "text/x-python",
   "name": "python",
   "nbconvert_exporter": "python",
   "pygments_lexer": "ipython3",
   "version": "3.8.5"
  },
  "orig_nbformat": 4
 },
 "nbformat": 4,
 "nbformat_minor": 2
}
