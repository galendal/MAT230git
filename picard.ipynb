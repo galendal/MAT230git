{
 "cells": [
  {
   "cell_type": "code",
   "execution_count": 1,
   "metadata": {},
   "outputs": [],
   "source": [
    "from sympy import * #dsolve, Eq, symbols, Function, lambdify,solve, classify_ode, integrate, Add\n",
    "from sympy.plotting import plot\n",
    "from scipy.integrate import solve_ivp\n",
    "import numpy as np\n",
    "from matplotlib import pyplot as plt"
   ]
  },
  {
   "cell_type": "code",
   "execution_count": 30,
   "metadata": {},
   "outputs": [],
   "source": [
    "def picard_recursive(F,b,x0,n):\n",
    "\n",
    "    # Base case\n",
    "    if n == 0:\n",
    "        return b\n",
    "    # Recursive case\n",
    "    else:\n",
    "        return b+F.subs(f(t),picard_recursive(F,b,x0,n-1)).integrate((t,x0,t))"
   ]
  },
  {
   "cell_type": "markdown",
   "metadata": {},
   "source": [
    "## Define the problem"
   ]
  },
  {
   "cell_type": "code",
   "execution_count": 56,
   "metadata": {},
   "outputs": [],
   "source": [
    "#Define the symbols\n",
    "x,b,t=symbols('x b t ')\n",
    "f = symbols('f', cls=Function)\n",
    "c=symbols('c')\n"
   ]
  },
  {
   "cell_type": "code",
   "execution_count": 81,
   "metadata": {},
   "outputs": [
    {
     "name": "stdout",
     "output_type": "stream",
     "text": [
      "d                  \n",
      "──(f(t)) = f(t) + 2\n",
      "dt                 \n",
      " Initial conditions  {f(0): 0}\n"
     ]
    }
   ],
   "source": [
    "\n",
    "#The problem\n",
    "\n",
    "deqn = Eq(f(t).diff(t), f(t)+2)\n",
    "\n",
    "X0=0\n",
    "b=0\n",
    "ics={f(X0):b}\n",
    "pprint(deqn)\n",
    "print(' Initial conditions ', ics)"
   ]
  },
  {
   "cell_type": "markdown",
   "metadata": {},
   "source": [
    "## Picard iteration.\n",
    "\n",
    "Looping first. "
   ]
  },
  {
   "cell_type": "code",
   "execution_count": 82,
   "metadata": {},
   "outputs": [
    {
     "name": "stdout",
     "output_type": "stream",
     "text": [
      "n  0  res:  0\n",
      "n  1  res:  2*t\n",
      "n  2  res:  t**2 + 2*t\n",
      "n  3  res:  t**3/3 + t**2 + 2*t\n"
     ]
    }
   ],
   "source": [
    "\n",
    "b=ics[f(X0)] # Set initial condition.\n",
    "expr=b # Initiate the result expreson to the initial conditions.\n",
    "\n",
    "n=3 #Number of Picard iterations\n",
    "\n",
    "print('n ', 0, ' res: ', expr)\n",
    "#Loop through n terms\n",
    "for ii in np.arange(n)+1:\n",
    "    expr=deqn.rhs.subs(f(t),expr).integrate((t,X0,t))+b\n",
    "    print('n ', ii, ' res: ', expr)"
   ]
  },
  {
   "cell_type": "markdown",
   "metadata": {},
   "source": [
    "Recursive function"
   ]
  },
  {
   "cell_type": "code",
   "execution_count": 83,
   "metadata": {},
   "outputs": [
    {
     "data": {
      "text/latex": [
       "$\\displaystyle \\frac{t^{3}}{3} + t^{2} + 2 t$"
      ],
      "text/plain": [
       "t**3/3 + t**2 + 2*t"
      ]
     },
     "execution_count": 83,
     "metadata": {},
     "output_type": "execute_result"
    }
   ],
   "source": [
    "picard_recursive(deqn.rhs,b,X0,n)"
   ]
  },
  {
   "cell_type": "markdown",
   "metadata": {},
   "source": [
    "## The analytical solution. (if possible)"
   ]
  },
  {
   "cell_type": "code",
   "execution_count": 84,
   "metadata": {},
   "outputs": [
    {
     "data": {
      "text/latex": [
       "$\\displaystyle f{\\left(t \\right)} = 2 e^{t} - 2$"
      ],
      "text/plain": [
       "Eq(f(t), 2*exp(t) - 2)"
      ]
     },
     "execution_count": 84,
     "metadata": {},
     "output_type": "execute_result"
    }
   ],
   "source": [
    "sol=dsolve(deqn, f(t),ics=ics)\n",
    "sol"
   ]
  },
  {
   "cell_type": "markdown",
   "metadata": {},
   "source": [
    "and the Taylor expansion of the analytical solution:"
   ]
  },
  {
   "cell_type": "code",
   "execution_count": 85,
   "metadata": {},
   "outputs": [
    {
     "data": {
      "text/latex": [
       "$\\displaystyle 2 t + t^{2} + \\frac{t^{3}}{3} + \\frac{t^{4}}{12} + \\frac{t^{5}}{60} + O\\left(t^{6}\\right)$"
      ],
      "text/plain": [
       "2*t + t**2 + t**3/3 + t**4/12 + t**5/60 + O(t**6)"
      ]
     },
     "execution_count": 85,
     "metadata": {},
     "output_type": "execute_result"
    }
   ],
   "source": [
    "series(sol.rhs,t)"
   ]
  },
  {
   "cell_type": "code",
   "execution_count": null,
   "metadata": {},
   "outputs": [],
   "source": []
  },
  {
   "cell_type": "code",
   "execution_count": null,
   "metadata": {},
   "outputs": [],
   "source": []
  }
 ],
 "metadata": {
  "interpreter": {
   "hash": "cc5aea2381060e6c07a5bcea4572f763dfe34e6a40ece333d15e520321d95b42"
  },
  "kernelspec": {
   "display_name": "Python 3.8.5 64-bit ('venv': venv)",
   "language": "python",
   "name": "python3"
  },
  "language_info": {
   "codemirror_mode": {
    "name": "ipython",
    "version": 3
   },
   "file_extension": ".py",
   "mimetype": "text/x-python",
   "name": "python",
   "nbconvert_exporter": "python",
   "pygments_lexer": "ipython3",
   "version": "3.8.5"
  },
  "orig_nbformat": 4
 },
 "nbformat": 4,
 "nbformat_minor": 2
}
