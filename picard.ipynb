{
 "cells": [
  {
   "cell_type": "code",
   "execution_count": 1,
   "metadata": {},
   "outputs": [],
   "source": [
    "from sympy import * #dsolve, Eq, symbols, Function, lambdify,solve, classify_ode, integrate, Add\n",
    "from sympy.plotting import plot\n",
    "from scipy.integrate import solve_ivp\n",
    "import numpy as np\n",
    "from matplotlib import pyplot as plt"
   ]
  },
  {
   "cell_type": "code",
   "execution_count": 30,
   "metadata": {},
   "outputs": [],
   "source": [
    "def picard_recursive(F,b,x0,n):\n",
    "\n",
    "    # Base case\n",
    "    if n == 0:\n",
    "        return b\n",
    "    # Recursive case\n",
    "    else:\n",
    "        return b+F.subs(f(t),picard_recursive(F,b,x0,n-1)).integrate((t,x0,t))"
   ]
  },
  {
   "cell_type": "markdown",
   "metadata": {},
   "source": [
    "## Define the problem"
   ]
  },
  {
   "cell_type": "code",
   "execution_count": 56,
   "metadata": {},
   "outputs": [],
   "source": [
    "#Define the symbols\n",
    "x,b,t=symbols('x b t ')\n",
    "f = symbols('f', cls=Function)\n",
    "c=symbols('c')\n"
   ]
  },
  {
   "cell_type": "code",
   "execution_count": 76,
   "metadata": {},
   "outputs": [
    {
     "name": "stdout",
     "output_type": "stream",
     "text": [
      "d                   \n",
      "──(f(t)) = cos(f(t))\n",
      "dt                  \n",
      " Initial conditions  {f(0): 0}\n"
     ]
    }
   ],
   "source": [
    "\n",
    "#The problem\n",
    "\n",
    "deqn = Eq(f(t).diff(t), cos(f(t)))\n",
    "\n",
    "X0=0\n",
    "b=0\n",
    "ics={f(X0):b}\n",
    "pprint(deqn)\n",
    "print(' Initial conditions ', ics)"
   ]
  },
  {
   "cell_type": "markdown",
   "metadata": {},
   "source": [
    "## Picard iteration.\n",
    "\n",
    "Looping first. "
   ]
  },
  {
   "cell_type": "code",
   "execution_count": 79,
   "metadata": {},
   "outputs": [
    {
     "name": "stdout",
     "output_type": "stream",
     "text": [
      "n  0  res:  0\n",
      "n  1  res:  t\n",
      "n  2  res:  sin(t)\n",
      "n  3  res:  Integral(cos(sin(t)), (t, 0, t))\n"
     ]
    }
   ],
   "source": [
    "\n",
    "b=ics[f(X0)] # Set initial condition.\n",
    "expr=b # Initiate the result expreson to the initial conditions.\n",
    "\n",
    "n=3 #Number of Picard iterations\n",
    "\n",
    "print('n ', 0, ' res: ', expr)\n",
    "#Loop through n terms\n",
    "for ii in np.arange(n)+1:\n",
    "    expr=deqn.rhs.subs(f(t),expr).integrate((t,X0,t))+b\n",
    "    print('n ', ii, ' res: ', expr)"
   ]
  },
  {
   "cell_type": "markdown",
   "metadata": {},
   "source": [
    "Recursive function"
   ]
  },
  {
   "cell_type": "code",
   "execution_count": 80,
   "metadata": {},
   "outputs": [
    {
     "data": {
      "text/latex": [
       "$\\displaystyle \\int\\limits_{0}^{t} \\cos{\\left(\\sin{\\left(t \\right)} \\right)}\\, dt$"
      ],
      "text/plain": [
       "Integral(cos(sin(t)), (t, 0, t))"
      ]
     },
     "execution_count": 80,
     "metadata": {},
     "output_type": "execute_result"
    }
   ],
   "source": [
    "picard_recursive(deqn.rhs,b,X0,n)"
   ]
  },
  {
   "cell_type": "markdown",
   "metadata": {},
   "source": [
    "## The analytical solution. (if possible)"
   ]
  },
  {
   "cell_type": "code",
   "execution_count": 70,
   "metadata": {},
   "outputs": [
    {
     "data": {
      "text/latex": [
       "$\\displaystyle - \\frac{3}{\\sqrt[3]{f{\\left(t \\right)}}} = t - 3$"
      ],
      "text/plain": [
       "Eq(-3/f(t)**(1/3), t - 3)"
      ]
     },
     "execution_count": 70,
     "metadata": {},
     "output_type": "execute_result"
    }
   ],
   "source": [
    "sol=dsolve(deqn, f(t),ics=ics)\n",
    "sol"
   ]
  },
  {
   "cell_type": "markdown",
   "metadata": {},
   "source": [
    "and the Taylor expansion of the analytical solution:"
   ]
  },
  {
   "cell_type": "code",
   "execution_count": 71,
   "metadata": {},
   "outputs": [
    {
     "data": {
      "text/latex": [
       "$\\displaystyle t - 3$"
      ],
      "text/plain": [
       "t - 3"
      ]
     },
     "execution_count": 71,
     "metadata": {},
     "output_type": "execute_result"
    }
   ],
   "source": [
    "series(sol.rhs,t)"
   ]
  },
  {
   "cell_type": "code",
   "execution_count": 73,
   "metadata": {},
   "outputs": [
    {
     "ename": "AttributeError",
     "evalue": "'Equality' object has no attribute 'solve'",
     "output_type": "error",
     "traceback": [
      "\u001b[0;31m---------------------------------------------------------------------------\u001b[0m",
      "\u001b[0;31mAttributeError\u001b[0m                            Traceback (most recent call last)",
      "\u001b[0;32m/var/folders/0q/9km71d951t92fm7tt48bvzlw0000gr/T/ipykernel_46483/1129723406.py\u001b[0m in \u001b[0;36m<module>\u001b[0;34m\u001b[0m\n\u001b[0;32m----> 1\u001b[0;31m \u001b[0msol\u001b[0m\u001b[0;34m.\u001b[0m\u001b[0msolve\u001b[0m\u001b[0;34m(\u001b[0m\u001b[0mf\u001b[0m\u001b[0;34m(\u001b[0m\u001b[0mt\u001b[0m\u001b[0;34m)\u001b[0m\u001b[0;34m)\u001b[0m\u001b[0;34m\u001b[0m\u001b[0;34m\u001b[0m\u001b[0m\n\u001b[0m",
      "\u001b[0;31mAttributeError\u001b[0m: 'Equality' object has no attribute 'solve'"
     ]
    }
   ],
   "source": []
  },
  {
   "cell_type": "code",
   "execution_count": null,
   "metadata": {},
   "outputs": [],
   "source": []
  }
 ],
 "metadata": {
  "interpreter": {
   "hash": "cc5aea2381060e6c07a5bcea4572f763dfe34e6a40ece333d15e520321d95b42"
  },
  "kernelspec": {
   "display_name": "Python 3.8.5 64-bit ('venv': venv)",
   "language": "python",
   "name": "python3"
  },
  "language_info": {
   "codemirror_mode": {
    "name": "ipython",
    "version": 3
   },
   "file_extension": ".py",
   "mimetype": "text/x-python",
   "name": "python",
   "nbconvert_exporter": "python",
   "pygments_lexer": "ipython3",
   "version": "3.8.5"
  },
  "orig_nbformat": 4
 },
 "nbformat": 4,
 "nbformat_minor": 2
}
