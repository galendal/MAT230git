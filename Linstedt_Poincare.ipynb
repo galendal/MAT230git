{
 "cells": [
  {
   "cell_type": "code",
   "execution_count": 213,
   "metadata": {},
   "outputs": [],
   "source": [
    "#%% Program 05d: The Lindstedt-Poincare Method\n",
    "# Deriving the order epsilon equations.\n",
    "# See Example 9.\n",
    "\n",
    "#from sympy import collect, expand, Function, Symbol\n",
    "import sympy as sp\n",
    "import scipy as sc\n",
    "from scipy.integrate import solve_ivp\n",
    "import matplotlib.pyplot as plt\n",
    "import numpy as np\n",
    "import pprint\n"
   ]
  },
  {
   "attachments": {},
   "cell_type": "markdown",
   "metadata": {},
   "source": [
    "## Define the problem"
   ]
  },
  {
   "cell_type": "code",
   "execution_count": 105,
   "metadata": {},
   "outputs": [
    {
     "data": {
      "text/latex": [
       "$\\displaystyle - eps^{7} \\operatorname{x_{2}}^{3}{\\left(\\tau \\right)} + eps^{6} w_{2}^{2} \\frac{d^{2}}{d \\tau^{2}} \\operatorname{x_{2}}{\\left(\\tau \\right)} - 3 eps^{6} \\operatorname{x_{1}}{\\left(\\tau \\right)} \\operatorname{x_{2}}^{2}{\\left(\\tau \\right)} + 2 eps^{5} w_{1} w_{2} \\frac{d^{2}}{d \\tau^{2}} \\operatorname{x_{2}}{\\left(\\tau \\right)} + eps^{5} w_{2}^{2} \\frac{d^{2}}{d \\tau^{2}} \\operatorname{x_{1}}{\\left(\\tau \\right)} - 3 eps^{5} \\operatorname{x_{0}}{\\left(\\tau \\right)} \\operatorname{x_{2}}^{2}{\\left(\\tau \\right)} - 3 eps^{5} \\operatorname{x_{1}}^{2}{\\left(\\tau \\right)} \\operatorname{x_{2}}{\\left(\\tau \\right)} + eps^{4} w_{1}^{2} \\frac{d^{2}}{d \\tau^{2}} \\operatorname{x_{2}}{\\left(\\tau \\right)} + 2 eps^{4} w_{1} w_{2} \\frac{d^{2}}{d \\tau^{2}} \\operatorname{x_{1}}{\\left(\\tau \\right)} + eps^{4} w_{2}^{2} \\frac{d^{2}}{d \\tau^{2}} \\operatorname{x_{0}}{\\left(\\tau \\right)} + 2 eps^{4} w_{2} \\frac{d^{2}}{d \\tau^{2}} \\operatorname{x_{2}}{\\left(\\tau \\right)} - 6 eps^{4} \\operatorname{x_{0}}{\\left(\\tau \\right)} \\operatorname{x_{1}}{\\left(\\tau \\right)} \\operatorname{x_{2}}{\\left(\\tau \\right)} - eps^{4} \\operatorname{x_{1}}^{3}{\\left(\\tau \\right)} + eps^{3} w_{1}^{2} \\frac{d^{2}}{d \\tau^{2}} \\operatorname{x_{1}}{\\left(\\tau \\right)} + 2 eps^{3} w_{1} w_{2} \\frac{d^{2}}{d \\tau^{2}} \\operatorname{x_{0}}{\\left(\\tau \\right)} + 2 eps^{3} w_{1} \\frac{d^{2}}{d \\tau^{2}} \\operatorname{x_{2}}{\\left(\\tau \\right)} + 2 eps^{3} w_{2} \\frac{d^{2}}{d \\tau^{2}} \\operatorname{x_{1}}{\\left(\\tau \\right)} - 3 eps^{3} \\operatorname{x_{0}}^{2}{\\left(\\tau \\right)} \\operatorname{x_{2}}{\\left(\\tau \\right)} - 3 eps^{3} \\operatorname{x_{0}}{\\left(\\tau \\right)} \\operatorname{x_{1}}^{2}{\\left(\\tau \\right)} + eps^{2} w_{1}^{2} \\frac{d^{2}}{d \\tau^{2}} \\operatorname{x_{0}}{\\left(\\tau \\right)} + 2 eps^{2} w_{1} \\frac{d^{2}}{d \\tau^{2}} \\operatorname{x_{1}}{\\left(\\tau \\right)} + 2 eps^{2} w_{2} \\frac{d^{2}}{d \\tau^{2}} \\operatorname{x_{0}}{\\left(\\tau \\right)} - 3 eps^{2} \\operatorname{x_{0}}^{2}{\\left(\\tau \\right)} \\operatorname{x_{1}}{\\left(\\tau \\right)} + eps^{2} \\operatorname{x_{2}}{\\left(\\tau \\right)} + eps^{2} \\frac{d^{2}}{d \\tau^{2}} \\operatorname{x_{2}}{\\left(\\tau \\right)} + 2 eps w_{1} \\frac{d^{2}}{d \\tau^{2}} \\operatorname{x_{0}}{\\left(\\tau \\right)} - eps \\operatorname{x_{0}}^{3}{\\left(\\tau \\right)} + eps \\operatorname{x_{1}}{\\left(\\tau \\right)} + eps \\frac{d^{2}}{d \\tau^{2}} \\operatorname{x_{1}}{\\left(\\tau \\right)} + \\operatorname{x_{0}}{\\left(\\tau \\right)} + \\frac{d^{2}}{d \\tau^{2}} \\operatorname{x_{0}}{\\left(\\tau \\right)}$"
      ],
      "text/plain": [
       "-eps**7*x2(tau)**3 + eps**6*w2**2*Derivative(x2(tau), (tau, 2)) - 3*eps**6*x1(tau)*x2(tau)**2 + 2*eps**5*w1*w2*Derivative(x2(tau), (tau, 2)) + eps**5*w2**2*Derivative(x1(tau), (tau, 2)) - 3*eps**5*x0(tau)*x2(tau)**2 - 3*eps**5*x1(tau)**2*x2(tau) + eps**4*w1**2*Derivative(x2(tau), (tau, 2)) + 2*eps**4*w1*w2*Derivative(x1(tau), (tau, 2)) + eps**4*w2**2*Derivative(x0(tau), (tau, 2)) + 2*eps**4*w2*Derivative(x2(tau), (tau, 2)) - 6*eps**4*x0(tau)*x1(tau)*x2(tau) - eps**4*x1(tau)**3 + eps**3*w1**2*Derivative(x1(tau), (tau, 2)) + 2*eps**3*w1*w2*Derivative(x0(tau), (tau, 2)) + 2*eps**3*w1*Derivative(x2(tau), (tau, 2)) + 2*eps**3*w2*Derivative(x1(tau), (tau, 2)) - 3*eps**3*x0(tau)**2*x2(tau) - 3*eps**3*x0(tau)*x1(tau)**2 + eps**2*w1**2*Derivative(x0(tau), (tau, 2)) + 2*eps**2*w1*Derivative(x1(tau), (tau, 2)) + 2*eps**2*w2*Derivative(x0(tau), (tau, 2)) - 3*eps**2*x0(tau)**2*x1(tau) + eps**2*x2(tau) + eps**2*Derivative(x2(tau), (tau, 2)) + 2*eps*w1*Derivative(x0(tau), (tau, 2)) - eps*x0(tau)**3 + eps*x1(tau) + eps*Derivative(x1(tau), (tau, 2)) + x0(tau) + Derivative(x0(tau), (tau, 2))"
      ]
     },
     "execution_count": 105,
     "metadata": {},
     "output_type": "execute_result"
    }
   ],
   "source": [
    "\n",
    "x0 = sp.Function('x0')\n",
    "x1 = sp.Function('x1')\n",
    "x2 = sp.Function('x2')\n",
    "x = sp.Function('x')\n",
    "tau = sp.Symbol('tau')\n",
    "eps = sp.Symbol('eps')\n",
    "w1 = sp.Symbol('w1')\n",
    "w2 = sp.Symbol('w2')\n",
    "\n",
    "x = x0(tau) + eps * x1(tau) + eps ** 2 * x2(tau)\n",
    "exp1 = (1 + eps * w1 + eps ** 2 * w2) ** 2 * x.diff(tau, tau) + x - eps * x **3\n",
    "exp1= sp.expand(exp1)\n",
    "exp1\n"
   ]
  },
  {
   "attachments": {},
   "cell_type": "markdown",
   "metadata": {},
   "source": [
    "We need to be careful with this expansion, we only used to second order in $\\epsilon$ for the expansion in $x$ and $\\tau$. "
   ]
  },
  {
   "attachments": {},
   "cell_type": "markdown",
   "metadata": {},
   "source": [
    "## Zeroth order LIndstedt Poincare."
   ]
  },
  {
   "attachments": {},
   "cell_type": "markdown",
   "metadata": {},
   "source": [
    "Collect the coefficients for $\\epsilon^0=O(1)$."
   ]
  },
  {
   "cell_type": "code",
   "execution_count": 106,
   "metadata": {},
   "outputs": [
    {
     "name": "stdout",
     "output_type": "stream",
     "text": [
      "          2       \n",
      "         d        \n",
      "x₀(τ) + ───(x₀(τ))\n",
      "          2       \n",
      "        dτ        \n"
     ]
    }
   ],
   "source": [
    "\n",
    "#%% Zeroth order\n",
    "eq0 = exp1.coeff(eps,0)\n",
    "sp.pprint(eq0)\n"
   ]
  },
  {
   "attachments": {},
   "cell_type": "markdown",
   "metadata": {},
   "source": [
    "and solve the equation with the initial conditions, "
   ]
  },
  {
   "cell_type": "code",
   "execution_count": 107,
   "metadata": {},
   "outputs": [
    {
     "name": "stdout",
     "output_type": "stream",
     "text": [
      "x₀(τ) = cos(τ)\n"
     ]
    }
   ],
   "source": [
    "\n",
    "sol0=sp.solvers.ode.dsolve(eq0,ics={x0(0): 1, x0(tau).diff(tau).subs(tau, 0): 0})\n",
    "sp.pprint(sol0)\n",
    "\n"
   ]
  },
  {
   "attachments": {},
   "cell_type": "markdown",
   "metadata": {},
   "source": [
    "We need to assure that the $O(\\epsilon)$ is not secular, so we need to look at the $O(\\epsilon)$ problem."
   ]
  },
  {
   "cell_type": "code",
   "execution_count": 108,
   "metadata": {},
   "outputs": [
    {
     "data": {
      "text/latex": [
       "$\\displaystyle 2 w_{1} \\frac{d^{2}}{d \\tau^{2}} \\operatorname{x_{0}}{\\left(\\tau \\right)} - \\operatorname{x_{0}}^{3}{\\left(\\tau \\right)} + \\operatorname{x_{1}}{\\left(\\tau \\right)} + \\frac{d^{2}}{d \\tau^{2}} \\operatorname{x_{1}}{\\left(\\tau \\right)}$"
      ],
      "text/plain": [
       "2*w1*Derivative(x0(tau), (tau, 2)) - x0(tau)**3 + x1(tau) + Derivative(x1(tau), (tau, 2))"
      ]
     },
     "execution_count": 108,
     "metadata": {},
     "output_type": "execute_result"
    }
   ],
   "source": [
    "\n",
    "# %% First order\n",
    "eq1 = exp1.coeff(eps,1)\n",
    "eq1\n"
   ]
  },
  {
   "cell_type": "code",
   "execution_count": 109,
   "metadata": {},
   "outputs": [
    {
     "data": {
      "text/latex": [
       "$\\displaystyle - w_{1} e^{i \\tau} - w_{1} e^{- i \\tau} + \\operatorname{x_{1}}{\\left(\\tau \\right)} - \\frac{e^{3 i \\tau}}{8} - \\frac{3 e^{i \\tau}}{8} + \\frac{d^{2}}{d \\tau^{2}} \\operatorname{x_{1}}{\\left(\\tau \\right)} - \\frac{3 e^{- i \\tau}}{8} - \\frac{e^{- 3 i \\tau}}{8}$"
      ],
      "text/plain": [
       "-w1*exp(I*tau) - w1*exp(-I*tau) + x1(tau) - exp(3*I*tau)/8 - 3*exp(I*tau)/8 + Derivative(x1(tau), (tau, 2)) - 3*exp(-I*tau)/8 - exp(-3*I*tau)/8"
      ]
     },
     "execution_count": 109,
     "metadata": {},
     "output_type": "execute_result"
    }
   ],
   "source": [
    "\n",
    "prob1=eq1.subs(x0(tau),sol0.rhs)\n",
    "prob1=prob1.simplify().rewrite(sp.exp).expand()\n",
    "prob1\n"
   ]
  },
  {
   "cell_type": "code",
   "execution_count": 110,
   "metadata": {},
   "outputs": [
    {
     "data": {
      "text/latex": [
       "$\\displaystyle - w_{1} - \\frac{3}{8}$"
      ],
      "text/plain": [
       "-w1 - 3/8"
      ]
     },
     "execution_count": 110,
     "metadata": {},
     "output_type": "execute_result"
    }
   ],
   "source": [
    "\n",
    "#%%\n",
    "secular= prob1.simplify().rewrite(sp.exp).expand().coeff(sp.exp(sp.I*tau))\n",
    "secular"
   ]
  },
  {
   "cell_type": "code",
   "execution_count": 111,
   "metadata": {},
   "outputs": [
    {
     "data": {
      "text/plain": [
       "[-3/8]"
      ]
     },
     "execution_count": 111,
     "metadata": {},
     "output_type": "execute_result"
    }
   ],
   "source": [
    "\n",
    "#sp.pprint(secular)\n",
    "sw1=sp.solve(secular,w1)\n",
    "\n",
    "sw1"
   ]
  },
  {
   "cell_type": "code",
   "execution_count": 112,
   "metadata": {},
   "outputs": [
    {
     "data": {
      "text/latex": [
       "$\\displaystyle t \\left(1 - \\frac{3 eps}{8}\\right)$"
      ],
      "text/plain": [
       "t*(1 - 3*eps/8)"
      ]
     },
     "execution_count": 112,
     "metadata": {},
     "output_type": "execute_result"
    }
   ],
   "source": [
    "tau_exp=t*(1+eps*sw1[0])\n",
    "tau_exp"
   ]
  },
  {
   "attachments": {},
   "cell_type": "markdown",
   "metadata": {},
   "source": [
    "The zeroth order expansion assuring that the next term is not secular:"
   ]
  },
  {
   "cell_type": "code",
   "execution_count": 143,
   "metadata": {},
   "outputs": [
    {
     "data": {
      "text/latex": [
       "$\\displaystyle \\cos{\\left(t \\left(- \\frac{21 eps^{2}}{256} - \\frac{3 eps}{8} + 1\\right) \\right)}$"
      ],
      "text/plain": [
       "cos(t*(-21*eps**2/256 - 3*eps/8 + 1))"
      ]
     },
     "execution_count": 143,
     "metadata": {},
     "output_type": "execute_result"
    }
   ],
   "source": [
    "asymp_exp_0=sol0.subs('tau',tau_exp).rhs \n",
    "asymp_exp_0"
   ]
  },
  {
   "attachments": {},
   "cell_type": "markdown",
   "metadata": {},
   "source": [
    "This is the $O(1)$ expansion, we are sure that the first neglected term is not secular. "
   ]
  },
  {
   "attachments": {},
   "cell_type": "markdown",
   "metadata": {},
   "source": [
    "## First order\n",
    "Solving for the $O(\\epsilon)$ problem."
   ]
  },
  {
   "cell_type": "code",
   "execution_count": 120,
   "metadata": {},
   "outputs": [
    {
     "data": {
      "text/latex": [
       "$\\displaystyle \\operatorname{x_{1}}{\\left(\\tau \\right)} - \\frac{e^{3 i \\tau}}{8} + \\frac{d^{2}}{d \\tau^{2}} \\operatorname{x_{1}}{\\left(\\tau \\right)} - \\frac{e^{- 3 i \\tau}}{8}$"
      ],
      "text/plain": [
       "x1(tau) - exp(3*I*tau)/8 + Derivative(x1(tau), (tau, 2)) - exp(-3*I*tau)/8"
      ]
     },
     "execution_count": 120,
     "metadata": {},
     "output_type": "execute_result"
    }
   ],
   "source": [
    "prob1=prob1.subs('w1',sw1[0])\n",
    "prob1"
   ]
  },
  {
   "cell_type": "code",
   "execution_count": 117,
   "metadata": {},
   "outputs": [
    {
     "data": {
      "text/latex": [
       "$\\displaystyle \\operatorname{x_{1}}{\\left(\\tau \\right)} = - \\frac{e^{3 i \\tau}}{64} + \\frac{\\cos{\\left(\\tau \\right)}}{32} - \\frac{e^{- 3 i \\tau}}{64}$"
      ],
      "text/plain": [
       "Eq(x1(tau), -exp(3*I*tau)/64 + cos(tau)/32 - exp(-3*I*tau)/64)"
      ]
     },
     "execution_count": 117,
     "metadata": {},
     "output_type": "execute_result"
    }
   ],
   "source": [
    "\n",
    "#%%\n",
    "sol1=sp.solvers.ode.dsolve(prob1,ics={x1(0):0,x1(tau).diff(tau).subs(tau, 0): 0})\n",
    "sol1\n",
    "# %%"
   ]
  },
  {
   "cell_type": "code",
   "execution_count": 121,
   "metadata": {},
   "outputs": [
    {
     "data": {
      "text/latex": [
       "$\\displaystyle \\operatorname{x_{1}}{\\left(\\tau \\right)} = \\frac{\\cos{\\left(\\tau \\right)}}{32} - \\frac{\\cos{\\left(3 \\tau \\right)}}{32}$"
      ],
      "text/plain": [
       "Eq(x1(tau), cos(tau)/32 - cos(3*tau)/32)"
      ]
     },
     "execution_count": 121,
     "metadata": {},
     "output_type": "execute_result"
    }
   ],
   "source": [
    "sol1=sol1.rewrite(sp.cos)\n",
    "sol1"
   ]
  },
  {
   "attachments": {},
   "cell_type": "markdown",
   "metadata": {},
   "source": [
    "We need to assure that the $O(\\epsilon^2)$ is not secular. "
   ]
  },
  {
   "cell_type": "code",
   "execution_count": 129,
   "metadata": {},
   "outputs": [
    {
     "data": {
      "text/latex": [
       "$\\displaystyle - w_{2} e^{i \\tau} - w_{2} e^{- i \\tau} + \\operatorname{x_{2}}{\\left(\\tau \\right)} + \\frac{3 e^{5 i \\tau}}{256} - \\frac{3 e^{3 i \\tau}}{32} - \\frac{21 e^{i \\tau}}{256} + \\frac{d^{2}}{d \\tau^{2}} \\operatorname{x_{2}}{\\left(\\tau \\right)} - \\frac{21 e^{- i \\tau}}{256} - \\frac{3 e^{- 3 i \\tau}}{32} + \\frac{3 e^{- 5 i \\tau}}{256}$"
      ],
      "text/plain": [
       "-w2*exp(I*tau) - w2*exp(-I*tau) + x2(tau) + 3*exp(5*I*tau)/256 - 3*exp(3*I*tau)/32 - 21*exp(I*tau)/256 + Derivative(x2(tau), (tau, 2)) - 21*exp(-I*tau)/256 - 3*exp(-3*I*tau)/32 + 3*exp(-5*I*tau)/256"
      ]
     },
     "execution_count": 129,
     "metadata": {},
     "output_type": "execute_result"
    }
   ],
   "source": [
    "eq2 = exp1.coeff(eps,2)\n",
    "prob2=eq2.subs(x0(tau),sol0.rhs).subs(x1(tau),sol1.rhs).subs('w1',sw1[0])\n",
    "prob2=prob2.simplify().rewrite(sp.exp).expand()\n",
    "prob2"
   ]
  },
  {
   "cell_type": "code",
   "execution_count": 130,
   "metadata": {},
   "outputs": [
    {
     "data": {
      "text/latex": [
       "$\\displaystyle - w_{2} - \\frac{21}{256}$"
      ],
      "text/plain": [
       "-w2 - 21/256"
      ]
     },
     "execution_count": 130,
     "metadata": {},
     "output_type": "execute_result"
    }
   ],
   "source": [
    "secular2= prob2.simplify().rewrite(sp.exp).expand().coeff(sp.exp(sp.I*tau))\n",
    "secular2"
   ]
  },
  {
   "cell_type": "code",
   "execution_count": 132,
   "metadata": {},
   "outputs": [
    {
     "data": {
      "text/plain": [
       "[-21/256]"
      ]
     },
     "execution_count": 132,
     "metadata": {},
     "output_type": "execute_result"
    }
   ],
   "source": [
    "sw2=sp.solve(secular2,w2)\n",
    "\n",
    "sw2"
   ]
  },
  {
   "cell_type": "code",
   "execution_count": 139,
   "metadata": {},
   "outputs": [
    {
     "data": {
      "text/latex": [
       "$\\displaystyle eps \\left(\\frac{\\cos{\\left(\\tau \\right)}}{32} - \\frac{\\cos{\\left(3 \\tau \\right)}}{32}\\right) + \\cos{\\left(\\tau \\right)}$"
      ],
      "text/plain": [
       "eps*(cos(tau)/32 - cos(3*tau)/32) + cos(tau)"
      ]
     },
     "execution_count": 139,
     "metadata": {},
     "output_type": "execute_result"
    }
   ],
   "source": [
    "soltot1=sol0.rhs+eps*sol1.rhs\n",
    "soltot1"
   ]
  },
  {
   "cell_type": "code",
   "execution_count": 140,
   "metadata": {},
   "outputs": [
    {
     "data": {
      "text/latex": [
       "$\\displaystyle t \\left(- \\frac{21 eps^{2}}{256} - \\frac{3 eps}{8} + 1\\right)$"
      ],
      "text/plain": [
       "t*(-21*eps**2/256 - 3*eps/8 + 1)"
      ]
     },
     "execution_count": 140,
     "metadata": {},
     "output_type": "execute_result"
    }
   ],
   "source": [
    "tau_exp=t*(1+eps*sw1[0]+eps**2*sw2[0])\n",
    "tau_exp"
   ]
  },
  {
   "cell_type": "code",
   "execution_count": 156,
   "metadata": {},
   "outputs": [
    {
     "data": {
      "text/latex": [
       "$\\displaystyle eps \\left(\\frac{\\cos{\\left(t \\left(- \\frac{21 eps^{2}}{256} - \\frac{3 eps}{8} + 1\\right) \\right)}}{32} - \\frac{\\cos{\\left(3 t \\left(- \\frac{21 eps^{2}}{256} - \\frac{3 eps}{8} + 1\\right) \\right)}}{32}\\right) + \\cos{\\left(t \\left(- \\frac{21 eps^{2}}{256} - \\frac{3 eps}{8} + 1\\right) \\right)}$"
      ],
      "text/plain": [
       "eps*(cos(t*(-21*eps**2/256 - 3*eps/8 + 1))/32 - cos(3*t*(-21*eps**2/256 - 3*eps/8 + 1))/32) + cos(t*(-21*eps**2/256 - 3*eps/8 + 1))"
      ]
     },
     "execution_count": 156,
     "metadata": {},
     "output_type": "execute_result"
    }
   ],
   "source": [
    "asymp_exp_1=soltot1.subs('tau',tau_exp)\n",
    "asymp_exp_1"
   ]
  },
  {
   "cell_type": "code",
   "execution_count": 157,
   "metadata": {},
   "outputs": [
    {
     "data": {
      "text/latex": [
       "$\\displaystyle \\cos{\\left(t \\left(- \\frac{21 eps^{2}}{256} - \\frac{3 eps}{8} + 1\\right) \\right)}$"
      ],
      "text/plain": [
       "cos(t*(-21*eps**2/256 - 3*eps/8 + 1))"
      ]
     },
     "execution_count": 157,
     "metadata": {},
     "output_type": "execute_result"
    }
   ],
   "source": []
  },
  {
   "attachments": {},
   "cell_type": "markdown",
   "metadata": {},
   "source": [
    "## Second order??"
   ]
  },
  {
   "attachments": {},
   "cell_type": "markdown",
   "metadata": {},
   "source": [
    "## Prepare for print\n",
    "\n",
    "\n"
   ]
  },
  {
   "cell_type": "code",
   "execution_count": 222,
   "metadata": {},
   "outputs": [],
   "source": [
    "eps_use=0.05\n",
    "t_max=50\n",
    "time=np.linspace(0,t_max,num=100)\n",
    "\n",
    "solexp0=sp.lambdify(t,asymp_exp_0.subs('eps',eps_use))\n",
    "\n",
    "solexp1=sp.lambdify(t,asymp_exp_1.subs('eps',eps_use))"
   ]
  },
  {
   "attachments": {},
   "cell_type": "markdown",
   "metadata": {},
   "source": [
    "### Numerical solution"
   ]
  },
  {
   "cell_type": "code",
   "execution_count": 223,
   "metadata": {},
   "outputs": [],
   "source": [
    "def rhs(t,u,eps):\n",
    "    x,y= u\n",
    "    x_dot = y\n",
    "    y_dot = -x +eps* x**3\n",
    "    return [x_dot, y_dot]\n",
    "eps=0.01\n",
    "sol = solve_ivp(rhs,[0,np.max(time)],[0,1],t_eval=time,args=([eps_use]))"
   ]
  },
  {
   "cell_type": "code",
   "execution_count": 224,
   "metadata": {},
   "outputs": [
    {
     "data": {
      "text/plain": [
       "<matplotlib.legend.Legend at 0x7fc999e6ddf0>"
      ]
     },
     "execution_count": 224,
     "metadata": {},
     "output_type": "execute_result"
    },
    {
     "data": {
      "image/png": "[encoded data removed]",
      "text/plain": [
       "<Figure size 432x288 with 1 Axes>"
      ]
     },
     "metadata": {
      "needs_background": "light"
     },
     "output_type": "display_data"
    }
   ],
   "source": [
    "plt.plot(sol.t,sol.y[1])\n",
    "plt.plot(sol.t,solexp0(sol.t))\n",
    "plt.plot(sol.t,solexp1(sol.t))\n",
    "plt.legend(['numerical','O(1)','O($\\epsilon$)'])\n"
   ]
  },
  {
   "cell_type": "code",
   "execution_count": 225,
   "metadata": {},
   "outputs": [
    {
     "data": {
      "text/plain": [
       "<matplotlib.legend.Legend at 0x7fc999dac610>"
      ]
     },
     "execution_count": 225,
     "metadata": {},
     "output_type": "execute_result"
    },
    {
     "data": {
      "image/png": "[encoded data removed]",
      "text/plain": [
       "<Figure size 432x288 with 1 Axes>"
      ]
     },
     "metadata": {
      "needs_background": "light"
     },
     "output_type": "display_data"
    }
   ],
   "source": [
    "plt.plot(sol.t,sol.y[1]-solexp0(sol.t))\n",
    "plt.plot(sol.t,sol.y[1]-solexp1(sol.t))\n",
    "\n",
    "plt.legend(['Diff num O(1)','Diff num O($\\epsilon$)'])"
   ]
  },
  {
   "cell_type": "code",
   "execution_count": 226,
   "metadata": {},
   "outputs": [
    {
     "data": {
      "text/plain": [
       "[<matplotlib.lines.Line2D at 0x7fc999d25490>]"
      ]
     },
     "execution_count": 226,
     "metadata": {},
     "output_type": "execute_result"
    },
    {
     "data": {
      "image/png": "[encoded data removed]",
      "text/plain": [
       "<Figure size 432x288 with 1 Axes>"
      ]
     },
     "metadata": {
      "needs_background": "light"
     },
     "output_type": "display_data"
    }
   ],
   "source": [
    "plt.plot(sol.t,solexp0(sol.t)-solexp1(sol.t))"
   ]
  },
  {
   "cell_type": "code",
   "execution_count": null,
   "metadata": {},
   "outputs": [],
   "source": []
  },
  {
   "cell_type": "code",
   "execution_count": null,
   "metadata": {},
   "outputs": [],
   "source": []
  }
 ],
 "metadata": {
  "kernelspec": {
   "display_name": "venv",
   "language": "python",
   "name": "python3"
  },
  "language_info": {
   "codemirror_mode": {
    "name": "ipython",
    "version": 3
   },
   "file_extension": ".py",
   "mimetype": "text/x-python",
   "name": "python",
   "nbconvert_exporter": "python",
   "pygments_lexer": "ipython3",
   "version": "3.8.5"
  },
  "orig_nbformat": 4
 },
 "nbformat": 4,
 "nbformat_minor": 2
}
